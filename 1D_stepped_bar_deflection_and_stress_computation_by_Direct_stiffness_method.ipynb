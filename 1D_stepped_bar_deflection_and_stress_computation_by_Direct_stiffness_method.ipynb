{
  "nbformat": 4,
  "nbformat_minor": 0,
  "metadata": {
    "colab": {
      "provenance": [],
      "authorship_tag": "ABX9TyMxWXRyWSfNSOdIPS4A2hP+",
      "include_colab_link": true
    },
    "kernelspec": {
      "name": "python3",
      "display_name": "Python 3"
    },
    "language_info": {
      "name": "python"
    }
  },
  "cells": [
    {
      "cell_type": "markdown",
      "metadata": {
        "id": "view-in-github",
        "colab_type": "text"
      },
      "source": [
        "<a href=\"https://colab.research.google.com/github/TuragDev/ML-Python-Codes/blob/main/1D_stepped_bar_deflection_and_stress_computation_by_Direct_stiffness_method.ipynb\" target=\"_parent\"><img src=\"https://colab.research.google.com/assets/colab-badge.svg\" alt=\"Open In Colab\"/></a>"
      ]
    },
    {
      "cell_type": "code",
      "execution_count": 2,
      "metadata": {
        "colab": {
          "base_uri": "https://localhost:8080/"
        },
        "id": "X8bPpHLe-DaI",
        "outputId": "d6bad37b-ea7c-418f-c86a-14aabc1cc99e"
      },
      "outputs": [
        {
          "output_type": "stream",
          "name": "stdout",
          "text": [
            "Cross sectional area of the element1 = 75\n",
            "Cross sectional area of the element2 = 55\n",
            "Cross sectional area of the element3 = 56\n",
            "Length of element of element1 = 77\n",
            "Length of element of element2 = 180\n",
            "Length of element of element3 = 180\n",
            " Force applied to the end of element 3 at Rightward direction = 500000\n",
            "Deflection at node1 =  0.0\n",
            "Deflection at node2 =  2.566666666666667\n",
            "Deflection at node3 =  10.74848484848485\n",
            "Deflection at node4 =  18.784199134199138\n",
            "Stress at element1 is =  6666.666666666668\n",
            "Stress at element2 is =  9090.909090909092\n",
            "Stress at element3 is =  8928.571428571431\n"
          ]
        }
      ],
      "source": [
        "#1D stepped bar deflection and stress computation by Direct stiffness method\n",
        "import numpy as np\n",
        "A1 = float(input(\"Cross sectional area of the element1 = \"))\n",
        "A2 = float(input(\"Cross sectional area of the element2 = \"))\n",
        "A3 = float(input(\"Cross sectional area of the element3 = \"))\n",
        "L1 = float(input(\"Length of element of element1 = \"))\n",
        "L2 = float(input(\"Length of element of element2 = \"))\n",
        "L3 = float(input(\"Length of element of element3 = \"))\n",
        "P = float (input(\" Force applied to the end of element 3 at Rightward direction = \"))\n",
        "E = 2e5\n",
        "k1 = (E * A1 / L1) * np.array([[1, -1], [-1, 1]])\n",
        "k2 = (E * A2 / L2) * np.array([[1, -1], [-1, 1]])\n",
        "k3 = (E * A3 / L3) * np.array([[1, -1], [-1, 1]])\n",
        "K = np.zeros((4, 4))\n",
        "K[:2, :2] += k1\n",
        "K[1:3, 1:3] += k2\n",
        "K[2:, 2:] += k3\n",
        "F = np.array([[0], [0], [0], [0]])  # load of P N towards rightward direction at node 4\n",
        "F[3]= P\n",
        "BC = np.array([True, False, False, False])\n",
        "K_reduced = K[~BC, :][:, ~BC]\n",
        "F_reduced = F[~BC]\n",
        "U_reduced = np.linalg.solve(K_reduced, F_reduced)\n",
        "U = np.zeros((4, 1))\n",
        "U[~BC] = U_reduced\n",
        "u1= U[0][0]\n",
        "print(\"Deflection at node1 = \",u1)\n",
        "u2= U[1][0]\n",
        "print(\"Deflection at node2 = \",u2)\n",
        "u3= U[2][0]\n",
        "print(\"Deflection at node3 = \",u3)\n",
        "u4= U[3][0]\n",
        "print(\"Deflection at node4 = \",u4)\n",
        "s1=(E/L1)*(u2-u1)\n",
        "print(\"Stress at element1 is = \", s1)\n",
        "s2=(E/L2)*(u3-u2)\n",
        "print(\"Stress at element2 is = \", s2)\n",
        "s3=(E/L3)*(u4-u3)\n",
        "print(\"Stress at element3 is = \", s3)\n",
        "\n"
      ]
    }
  ]
}