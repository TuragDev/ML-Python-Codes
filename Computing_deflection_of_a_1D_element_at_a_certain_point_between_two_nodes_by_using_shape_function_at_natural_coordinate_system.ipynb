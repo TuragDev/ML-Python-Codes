{
  "nbformat": 4,
  "nbformat_minor": 0,
  "metadata": {
    "colab": {
      "provenance": [],
      "authorship_tag": "ABX9TyPIUtVbOZbrwAp0dmtHIhWR",
      "include_colab_link": true
    },
    "kernelspec": {
      "name": "python3",
      "display_name": "Python 3"
    },
    "language_info": {
      "name": "python"
    }
  },
  "cells": [
    {
      "cell_type": "markdown",
      "metadata": {
        "id": "view-in-github",
        "colab_type": "text"
      },
      "source": [
        "<a href=\"https://colab.research.google.com/github/TuragDev/ML-Python-Codes/blob/main/Computing_deflection_of_a_1D_element_at_a_certain_point_between_two_nodes_by_using_shape_function_at_natural_coordinate_system.ipynb\" target=\"_parent\"><img src=\"https://colab.research.google.com/assets/colab-badge.svg\" alt=\"Open In Colab\"/></a>"
      ]
    },
    {
      "cell_type": "code",
      "execution_count": null,
      "metadata": {
        "colab": {
          "base_uri": "https://localhost:8080/"
        },
        "id": "vkyFx7MFs9hn",
        "outputId": "5da75d29-0d6a-40b5-8b3e-57bc844b1685"
      },
      "outputs": [
        {
          "name": "stdout",
          "output_type": "stream",
          "text": [
            "Distance of first node from the datum: 25\n",
            "Distance of second node from the datum: 50\n",
            "Distance of the choosen point from the datum: 30\n",
            "Displacement of first node: 50\n",
            "Distance of second node: -20\n"
          ]
        }
      ],
      "source": [
        "#Computing deflection of a 1D element at a certain point between two nodes by using shape function at natural coordinate system\n",
        "x1=float(input(\"Distance of first node from the datum: \"))\n",
        "x2=float(input(\"Distance of second node from the datum: \"))\n",
        "x=float(input(\"Distance of the choosen point from the datum: \"))\n",
        "u1=float(input(\"Displacement of first node: \"))\n",
        "u2=float(input(\"Distance of second node: \"))"
      ]
    },
    {
      "cell_type": "code",
      "source": [
        "Zi= (2*(x-x1)/(x2-x1))-1\n",
        "N1= (1-Zi)/2\n",
        "N2=(1+Zi)/2\n",
        "u= (N1*u1)+(N2*u2)\n",
        "print(\"The displacement of the choosen point is: \", u)"
      ],
      "metadata": {
        "colab": {
          "base_uri": "https://localhost:8080/"
        },
        "id": "WPRfuhfDzV5k",
        "outputId": "a9052297-e718-48ae-9bac-dd3d25e8a1ba"
      },
      "execution_count": null,
      "outputs": [
        {
          "output_type": "stream",
          "name": "stdout",
          "text": [
            "The displacement of the choosen point is:  36.0\n"
          ]
        }
      ]
    }
  ]
}