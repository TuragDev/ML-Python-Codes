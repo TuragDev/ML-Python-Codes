{
  "nbformat": 4,
  "nbformat_minor": 0,
  "metadata": {
    "colab": {
      "provenance": [],
      "authorship_tag": "ABX9TyMEIxHRQ5EAd6UWgbsoiKkp",
      "include_colab_link": true
    },
    "kernelspec": {
      "name": "python3",
      "display_name": "Python 3"
    },
    "language_info": {
      "name": "python"
    }
  },
  "cells": [
    {
      "cell_type": "markdown",
      "metadata": {
        "id": "view-in-github",
        "colab_type": "text"
      },
      "source": [
        "<a href=\"https://colab.research.google.com/github/TuragDev/ML-Python-Codes/blob/main/Crystal_system_prediction_by_ANN.ipynb\" target=\"_parent\"><img src=\"https://colab.research.google.com/assets/colab-badge.svg\" alt=\"Open In Colab\"/></a>"
      ]
    },
    {
      "cell_type": "code",
      "execution_count": 1,
      "metadata": {
        "colab": {
          "base_uri": "https://localhost:8080/"
        },
        "id": "UWE_ZQJUnqIY",
        "outputId": "478a5a16-32ac-44d6-811f-59c7b9c294f5"
      },
      "outputs": [
        {
          "output_type": "stream",
          "name": "stdout",
          "text": [
            "Collecting scikit-optimize\n",
            "  Downloading scikit_optimize-0.9.0-py2.py3-none-any.whl (100 kB)\n",
            "\u001b[2K     \u001b[90m━━━━━━━━━━━━━━━━━━━━━━━━━━━━━━━━━━━━━━━\u001b[0m \u001b[32m100.3/100.3 kB\u001b[0m \u001b[31m2.3 MB/s\u001b[0m eta \u001b[36m0:00:00\u001b[0m\n",
            "\u001b[?25hRequirement already satisfied: joblib>=0.11 in /usr/local/lib/python3.10/dist-packages (from scikit-optimize) (1.3.2)\n",
            "Collecting pyaml>=16.9 (from scikit-optimize)\n",
            "  Downloading pyaml-23.9.3-py3-none-any.whl (20 kB)\n",
            "Requirement already satisfied: numpy>=1.13.3 in /usr/local/lib/python3.10/dist-packages (from scikit-optimize) (1.23.5)\n",
            "Requirement already satisfied: scipy>=0.19.1 in /usr/local/lib/python3.10/dist-packages (from scikit-optimize) (1.10.1)\n",
            "Requirement already satisfied: scikit-learn>=0.20.0 in /usr/local/lib/python3.10/dist-packages (from scikit-optimize) (1.2.2)\n",
            "Requirement already satisfied: PyYAML in /usr/local/lib/python3.10/dist-packages (from pyaml>=16.9->scikit-optimize) (6.0.1)\n",
            "Requirement already satisfied: threadpoolctl>=2.0.0 in /usr/local/lib/python3.10/dist-packages (from scikit-learn>=0.20.0->scikit-optimize) (3.2.0)\n",
            "Installing collected packages: pyaml, scikit-optimize\n",
            "Successfully installed pyaml-23.9.3 scikit-optimize-0.9.0\n"
          ]
        }
      ],
      "source": [
        "!pip install scikit-optimize"
      ]
    },
    {
      "cell_type": "code",
      "source": [
        "pip install keras-tuner\n"
      ],
      "metadata": {
        "colab": {
          "base_uri": "https://localhost:8080/"
        },
        "id": "l9jA-xxk9x7H",
        "outputId": "693376f9-930f-4a5b-fbd5-2043a0b38ee5"
      },
      "execution_count": 2,
      "outputs": [
        {
          "output_type": "stream",
          "name": "stdout",
          "text": [
            "Collecting keras-tuner\n",
            "  Downloading keras_tuner-1.3.5-py3-none-any.whl (176 kB)\n",
            "\u001b[?25l     \u001b[90m━━━━━━━━━━━━━━━━━━━━━━━━━━━━━━━━━━━━━━━━\u001b[0m \u001b[32m0.0/176.1 kB\u001b[0m \u001b[31m?\u001b[0m eta \u001b[36m-:--:--\u001b[0m\r\u001b[2K     \u001b[91m━━━━━━━━━━━━━━━━━━━━━━━━━━━\u001b[0m\u001b[90m╺\u001b[0m\u001b[90m━━━━━━━━━━━\u001b[0m \u001b[32m122.9/176.1 kB\u001b[0m \u001b[31m3.5 MB/s\u001b[0m eta \u001b[36m0:00:01\u001b[0m\r\u001b[2K     \u001b[90m━━━━━━━━━━━━━━━━━━━━━━━━━━━━━━━━━━━━━━━\u001b[0m \u001b[32m176.1/176.1 kB\u001b[0m \u001b[31m3.3 MB/s\u001b[0m eta \u001b[36m0:00:00\u001b[0m\n",
            "\u001b[?25hRequirement already satisfied: packaging in /usr/local/lib/python3.10/dist-packages (from keras-tuner) (23.1)\n",
            "Requirement already satisfied: requests in /usr/local/lib/python3.10/dist-packages (from keras-tuner) (2.31.0)\n",
            "Collecting kt-legacy (from keras-tuner)\n",
            "  Downloading kt_legacy-1.0.5-py3-none-any.whl (9.6 kB)\n",
            "Requirement already satisfied: charset-normalizer<4,>=2 in /usr/local/lib/python3.10/dist-packages (from requests->keras-tuner) (3.2.0)\n",
            "Requirement already satisfied: idna<4,>=2.5 in /usr/local/lib/python3.10/dist-packages (from requests->keras-tuner) (3.4)\n",
            "Requirement already satisfied: urllib3<3,>=1.21.1 in /usr/local/lib/python3.10/dist-packages (from requests->keras-tuner) (2.0.4)\n",
            "Requirement already satisfied: certifi>=2017.4.17 in /usr/local/lib/python3.10/dist-packages (from requests->keras-tuner) (2023.7.22)\n",
            "Installing collected packages: kt-legacy, keras-tuner\n",
            "Successfully installed keras-tuner-1.3.5 kt-legacy-1.0.5\n"
          ]
        }
      ]
    },
    {
      "cell_type": "code",
      "source": [
        "import numpy as np\n",
        "from sklearn.model_selection import train_test_split\n",
        "from sklearn.neural_network import MLPClassifier  # Replace with the appropriate ANN class\n",
        "from skopt import BayesSearchCV\n",
        "from skopt.space import Real, Integer\n",
        "import joblib\n",
        "from sklearn.model_selection import train_test_split\n",
        "import numpy as np\n",
        "\n",
        "import pandas as pd\n",
        "\n",
        "from sklearn.model_selection import GridSearchCV, RepeatedKFold\n",
        "from sklearn.model_selection import train_test_split\n",
        "from sklearn.metrics import mean_squared_error as MSE\n",
        "from sklearn.preprocessing import StandardScaler\n",
        "from sklearn.metrics import mean_squared_error, r2_score\n",
        "\n",
        "from sklearn.model_selection import train_test_split\n",
        "\n",
        "import numpy as np\n",
        "\n",
        "import pickle\n",
        "import pandas as pd\n",
        "from sklearn.preprocessing import LabelEncoder\n",
        "import sys\n",
        "from sklearn import svm\n",
        "from sklearn.model_selection import GridSearchCV\n",
        "from numpy import mean\n",
        "from numpy import std\n",
        "from sklearn.datasets import make_classification\n",
        "from sklearn.model_selection import KFold\n",
        "from sklearn.model_selection import GridSearchCV\n",
        "from sklearn.ensemble import RandomForestClassifier\n",
        "from sklearn.metrics import accuracy_score\n",
        "import matplotlib.pyplot as plt\n",
        "from pandas import read_csv\n",
        "from sklearn.model_selection import cross_val_score\n",
        "from sklearn.svm import SVC\n",
        "from sklearn.model_selection import RepeatedStratifiedKFold\n",
        "from skopt import BayesSearchCV"
      ],
      "metadata": {
        "id": "MkyI4LDgoT96"
      },
      "execution_count": 3,
      "outputs": []
    },
    {
      "cell_type": "code",
      "source": [
        "from google.colab import files\n",
        "uploaded= files.upload()"
      ],
      "metadata": {
        "colab": {
          "base_uri": "https://localhost:8080/",
          "height": 142
        },
        "outputId": "5e8a7b09-dcd0-4548-bd8f-26823ccb05bc",
        "id": "_lEkJ1mmZaa4"
      },
      "execution_count": 4,
      "outputs": [
        {
          "output_type": "display_data",
          "data": {
            "text/plain": [
              "<IPython.core.display.HTML object>"
            ],
            "text/html": [
              "\n",
              "     <input type=\"file\" id=\"files-45291f4e-7da1-42ab-89b1-9cbdcba53112\" name=\"files[]\" multiple disabled\n",
              "        style=\"border:none\" />\n",
              "     <output id=\"result-45291f4e-7da1-42ab-89b1-9cbdcba53112\">\n",
              "      Upload widget is only available when the cell has been executed in the\n",
              "      current browser session. Please rerun this cell to enable.\n",
              "      </output>\n",
              "      <script>// Copyright 2017 Google LLC\n",
              "//\n",
              "// Licensed under the Apache License, Version 2.0 (the \"License\");\n",
              "// you may not use this file except in compliance with the License.\n",
              "// You may obtain a copy of the License at\n",
              "//\n",
              "//      http://www.apache.org/licenses/LICENSE-2.0\n",
              "//\n",
              "// Unless required by applicable law or agreed to in writing, software\n",
              "// distributed under the License is distributed on an \"AS IS\" BASIS,\n",
              "// WITHOUT WARRANTIES OR CONDITIONS OF ANY KIND, either express or implied.\n",
              "// See the License for the specific language governing permissions and\n",
              "// limitations under the License.\n",
              "\n",
              "/**\n",
              " * @fileoverview Helpers for google.colab Python module.\n",
              " */\n",
              "(function(scope) {\n",
              "function span(text, styleAttributes = {}) {\n",
              "  const element = document.createElement('span');\n",
              "  element.textContent = text;\n",
              "  for (const key of Object.keys(styleAttributes)) {\n",
              "    element.style[key] = styleAttributes[key];\n",
              "  }\n",
              "  return element;\n",
              "}\n",
              "\n",
              "// Max number of bytes which will be uploaded at a time.\n",
              "const MAX_PAYLOAD_SIZE = 100 * 1024;\n",
              "\n",
              "function _uploadFiles(inputId, outputId) {\n",
              "  const steps = uploadFilesStep(inputId, outputId);\n",
              "  const outputElement = document.getElementById(outputId);\n",
              "  // Cache steps on the outputElement to make it available for the next call\n",
              "  // to uploadFilesContinue from Python.\n",
              "  outputElement.steps = steps;\n",
              "\n",
              "  return _uploadFilesContinue(outputId);\n",
              "}\n",
              "\n",
              "// This is roughly an async generator (not supported in the browser yet),\n",
              "// where there are multiple asynchronous steps and the Python side is going\n",
              "// to poll for completion of each step.\n",
              "// This uses a Promise to block the python side on completion of each step,\n",
              "// then passes the result of the previous step as the input to the next step.\n",
              "function _uploadFilesContinue(outputId) {\n",
              "  const outputElement = document.getElementById(outputId);\n",
              "  const steps = outputElement.steps;\n",
              "\n",
              "  const next = steps.next(outputElement.lastPromiseValue);\n",
              "  return Promise.resolve(next.value.promise).then((value) => {\n",
              "    // Cache the last promise value to make it available to the next\n",
              "    // step of the generator.\n",
              "    outputElement.lastPromiseValue = value;\n",
              "    return next.value.response;\n",
              "  });\n",
              "}\n",
              "\n",
              "/**\n",
              " * Generator function which is called between each async step of the upload\n",
              " * process.\n",
              " * @param {string} inputId Element ID of the input file picker element.\n",
              " * @param {string} outputId Element ID of the output display.\n",
              " * @return {!Iterable<!Object>} Iterable of next steps.\n",
              " */\n",
              "function* uploadFilesStep(inputId, outputId) {\n",
              "  const inputElement = document.getElementById(inputId);\n",
              "  inputElement.disabled = false;\n",
              "\n",
              "  const outputElement = document.getElementById(outputId);\n",
              "  outputElement.innerHTML = '';\n",
              "\n",
              "  const pickedPromise = new Promise((resolve) => {\n",
              "    inputElement.addEventListener('change', (e) => {\n",
              "      resolve(e.target.files);\n",
              "    });\n",
              "  });\n",
              "\n",
              "  const cancel = document.createElement('button');\n",
              "  inputElement.parentElement.appendChild(cancel);\n",
              "  cancel.textContent = 'Cancel upload';\n",
              "  const cancelPromise = new Promise((resolve) => {\n",
              "    cancel.onclick = () => {\n",
              "      resolve(null);\n",
              "    };\n",
              "  });\n",
              "\n",
              "  // Wait for the user to pick the files.\n",
              "  const files = yield {\n",
              "    promise: Promise.race([pickedPromise, cancelPromise]),\n",
              "    response: {\n",
              "      action: 'starting',\n",
              "    }\n",
              "  };\n",
              "\n",
              "  cancel.remove();\n",
              "\n",
              "  // Disable the input element since further picks are not allowed.\n",
              "  inputElement.disabled = true;\n",
              "\n",
              "  if (!files) {\n",
              "    return {\n",
              "      response: {\n",
              "        action: 'complete',\n",
              "      }\n",
              "    };\n",
              "  }\n",
              "\n",
              "  for (const file of files) {\n",
              "    const li = document.createElement('li');\n",
              "    li.append(span(file.name, {fontWeight: 'bold'}));\n",
              "    li.append(span(\n",
              "        `(${file.type || 'n/a'}) - ${file.size} bytes, ` +\n",
              "        `last modified: ${\n",
              "            file.lastModifiedDate ? file.lastModifiedDate.toLocaleDateString() :\n",
              "                                    'n/a'} - `));\n",
              "    const percent = span('0% done');\n",
              "    li.appendChild(percent);\n",
              "\n",
              "    outputElement.appendChild(li);\n",
              "\n",
              "    const fileDataPromise = new Promise((resolve) => {\n",
              "      const reader = new FileReader();\n",
              "      reader.onload = (e) => {\n",
              "        resolve(e.target.result);\n",
              "      };\n",
              "      reader.readAsArrayBuffer(file);\n",
              "    });\n",
              "    // Wait for the data to be ready.\n",
              "    let fileData = yield {\n",
              "      promise: fileDataPromise,\n",
              "      response: {\n",
              "        action: 'continue',\n",
              "      }\n",
              "    };\n",
              "\n",
              "    // Use a chunked sending to avoid message size limits. See b/62115660.\n",
              "    let position = 0;\n",
              "    do {\n",
              "      const length = Math.min(fileData.byteLength - position, MAX_PAYLOAD_SIZE);\n",
              "      const chunk = new Uint8Array(fileData, position, length);\n",
              "      position += length;\n",
              "\n",
              "      const base64 = btoa(String.fromCharCode.apply(null, chunk));\n",
              "      yield {\n",
              "        response: {\n",
              "          action: 'append',\n",
              "          file: file.name,\n",
              "          data: base64,\n",
              "        },\n",
              "      };\n",
              "\n",
              "      let percentDone = fileData.byteLength === 0 ?\n",
              "          100 :\n",
              "          Math.round((position / fileData.byteLength) * 100);\n",
              "      percent.textContent = `${percentDone}% done`;\n",
              "\n",
              "    } while (position < fileData.byteLength);\n",
              "  }\n",
              "\n",
              "  // All done.\n",
              "  yield {\n",
              "    response: {\n",
              "      action: 'complete',\n",
              "    }\n",
              "  };\n",
              "}\n",
              "\n",
              "scope.google = scope.google || {};\n",
              "scope.google.colab = scope.google.colab || {};\n",
              "scope.google.colab._files = {\n",
              "  _uploadFiles,\n",
              "  _uploadFilesContinue,\n",
              "};\n",
              "})(self);\n",
              "</script> "
            ]
          },
          "metadata": {}
        },
        {
          "output_type": "stream",
          "name": "stdout",
          "text": [
            "Saving Orbital_mp_dataset.csv to Orbital_mp_dataset.csv\n",
            "Saving sine_mp_data.csv to sine_mp_data.csv\n",
            "Saving Xrd_mp_dataset.csv to Xrd_mp_dataset.csv\n"
          ]
        }
      ]
    },
    {
      "cell_type": "code",
      "source": [
        "df= pd.read_csv('Xrd_mp_dataset.csv')"
      ],
      "metadata": {
        "id": "Ws6D0PLts0Lg"
      },
      "execution_count": 5,
      "outputs": []
    },
    {
      "cell_type": "code",
      "source": [
        "X=df.iloc[:,14:]\n",
        "Y=df['crystal_system']"
      ],
      "metadata": {
        "id": "x29vE-wss7m-"
      },
      "execution_count": 6,
      "outputs": []
    },
    {
      "cell_type": "code",
      "source": [
        "X.shape"
      ],
      "metadata": {
        "colab": {
          "base_uri": "https://localhost:8080/"
        },
        "id": "_TfKxIJn1Vuy",
        "outputId": "e4c4a467-40af-4031-acf5-a7545ad32d16"
      },
      "execution_count": 7,
      "outputs": [
        {
          "output_type": "execute_result",
          "data": {
            "text/plain": [
              "(745, 128)"
            ]
          },
          "metadata": {},
          "execution_count": 7
        }
      ]
    },
    {
      "cell_type": "code",
      "source": [
        "from sklearn.preprocessing import StandardScaler\n",
        "# create a scaler object\n",
        "scaler = StandardScaler()\n",
        "\n",
        "# fit scaler on the training data\n",
        "scaler.fit(X)\n",
        "\n",
        "# apply the scaler to both the training and test data\n",
        "X_normalized = scaler.transform(X)\n",
        "\n",
        "\n",
        "label_encoder = LabelEncoder()\n",
        "\n",
        "# Fit and transform label encoder on target values\n",
        "y_encoded = label_encoder.fit_transform(Y)"
      ],
      "metadata": {
        "id": "u8rUyemctMFk"
      },
      "execution_count": null,
      "outputs": []
    },
    {
      "cell_type": "code",
      "source": [
        "X_train, X_test, y_train, y_test = train_test_split(X_normalized, y_encoded, test_size=0.2, random_state=108)"
      ],
      "metadata": {
        "id": "Iz05slFItbhR"
      },
      "execution_count": null,
      "outputs": []
    },
    {
      "cell_type": "code",
      "source": [
        "import tensorflow as tf\n",
        "from tensorflow import keras\n",
        "from kerastuner import HyperParameters\n",
        "\n",
        "hp = HyperParameters()\n",
        "\n",
        "\n",
        "def build_multiclass_model(hp):\n",
        "    # Input layer\n",
        "    inputs = tf.keras.Input(shape=(128,))\n",
        "\n",
        "    # Apply a dense layer with ReLU activation\n",
        "    x = tf.keras.layers.Dense(\n",
        "        units=hp.Int('dense_units', min_value=32, max_value=1024, step=32, default=32),\n",
        "        activation='relu',\n",
        "    )(inputs)\n",
        "\n",
        "    # Add more dense layers based on hp.Int('dense_layers', ...)\n",
        "    for i in range(hp.Int('dense_layers', 1, 8, default=1)):\n",
        "        x = tf.keras.layers.Dense(\n",
        "            units=hp.Int('dense_units_'+str(i), min_value=32, max_value=1024, step=32, default=32),\n",
        "            activation='relu',\n",
        "        )(x)\n",
        "        x = tf.keras.layers.Dropout(hp.Float('dropout_dense_'+str(i), 0.1, 0.8, step=0.1, default=0.3))(x)\n",
        "\n",
        "    # Output layer for multiclass classification\n",
        "    num_classes = 7  # Replace with the actual number of classes in your dataset\n",
        "    outputs = tf.keras.layers.Dense(num_classes, activation=\"softmax\")(x)\n",
        "\n",
        "    # Create the model\n",
        "    model = tf.keras.Model(inputs, outputs)\n",
        "\n",
        "    # Compile the model for multiclass classification\n",
        "    model.compile(\n",
        "        optimizer=keras.optimizers.Adam(\n",
        "            hp.Choice('learning_rate', values=[1e-01, 1e-2, 1e-3, 1e-4])\n",
        "        ),\n",
        "        loss='categorical_crossentropy',  # Use categorical cross-entropy for multiclass\n",
        "        metrics=['accuracy']  # Add more metrics as needed\n",
        "    )\n",
        "\n",
        "    return model\n"
      ],
      "metadata": {
        "id": "BzrohQ5et0KB"
      },
      "execution_count": null,
      "outputs": []
    },
    {
      "cell_type": "code",
      "source": [
        "model = build_multiclass_model(hp)"
      ],
      "metadata": {
        "id": "81B3G0m78kSL"
      },
      "execution_count": null,
      "outputs": []
    },
    {
      "cell_type": "code",
      "source": [
        "import numpy as np\n",
        "from sklearn.model_selection import RepeatedKFold, cross_val_score\n",
        "from tensorflow import keras\n",
        "from tensorflow.keras.wrappers.scikit_learn import KerasClassifier\n",
        "# Define a function to create the Keras model\n",
        "def create_model(hp):\n",
        "    model = build_multiclass_model(hp)\n",
        "    return model\n",
        "\n",
        "# Create a KerasClassifier wrapper for your Keras model\n",
        "keras_wrapper = KerasClassifier(build_fn=create_model, hp=hp, epochs=10, batch_size=32, verbose=0)\n",
        "\n",
        "# Use 5-fold cross-validation repeated 10 times (adjust as needed)\n",
        "cv = RepeatedKFold(n_splits=5, n_repeats=10, random_state=1)\n",
        "\n",
        "# Perform cross-validation and get the scores\n",
        "scores = cross_val_score(keras_wrapper, X_train, y_train, scoring='accuracy', cv=cv, n_jobs=-1)\n",
        "\n",
        "# Calculate the mean accuracy across all folds and repetitions\n",
        "mean_accuracy = np.mean(scores)\n",
        "print(\"Mean Accuracy:\", mean_accuracy)\n"
      ],
      "metadata": {
        "colab": {
          "base_uri": "https://localhost:8080/"
        },
        "id": "w36Sna7H-qGd",
        "outputId": "e936d651-fc76-4a78-9b44-8b73da2b6899"
      },
      "execution_count": null,
      "outputs": [
        {
          "output_type": "stream",
          "name": "stderr",
          "text": [
            "<ipython-input-29-545b86fc1d31>:11: DeprecationWarning: KerasClassifier is deprecated, use Sci-Keras (https://github.com/adriangb/scikeras) instead. See https://www.adriangb.com/scikeras/stable/migration.html for help migrating.\n",
            "  keras_wrapper = KerasClassifier(build_fn=create_model, hp=hp, epochs=10, batch_size=32, verbose=0)\n"
          ]
        },
        {
          "output_type": "stream",
          "name": "stdout",
          "text": [
            "Mean Accuracy: 0.6216386554621849\n"
          ]
        }
      ]
    },
    {
      "cell_type": "code",
      "source": [
        "keras_wrapper.fit(X_train,y_train, batch_size =20 )\n",
        "pred = keras_wrapper.predict(X_train)\n",
        "training_accuracy= accuracy_score(y_train,pred)\n",
        "print(\"Accuracy on Training data: \",training_accuracy)\n"
      ],
      "metadata": {
        "id": "3si9tUqLy1o6",
        "colab": {
          "base_uri": "https://localhost:8080/"
        },
        "outputId": "86c8d88c-fdff-411f-d471-77a46430e34e"
      },
      "execution_count": null,
      "outputs": [
        {
          "output_type": "stream",
          "name": "stdout",
          "text": [
            "19/19 [==============================] - 0s 4ms/step\n",
            "Accuracy on Training data:  0.6241610738255033\n"
          ]
        }
      ]
    },
    {
      "cell_type": "code",
      "source": [
        "pred = keras_wrapper.predict(X_test)\n",
        "test_accuracy= accuracy_score(y_test,pred)\n",
        "print(\"Accuracy on Test data: \",test_accuracy)\n"
      ],
      "metadata": {
        "colab": {
          "base_uri": "https://localhost:8080/"
        },
        "id": "uBfvrsnQAnGd",
        "outputId": "89c749ba-47fe-481c-98b3-613bf0fc9f4b"
      },
      "execution_count": null,
      "outputs": [
        {
          "output_type": "stream",
          "name": "stdout",
          "text": [
            "5/5 [==============================] - 0s 3ms/step\n",
            "Accuracy on Test data:  0.5704697986577181\n"
          ]
        }
      ]
    },
    {
      "cell_type": "code",
      "source": [
        "df= pd.read_csv('sine_mp_data.csv')\n",
        "X=df.iloc[:,14:]\n",
        "Y=df['crystal_system']"
      ],
      "metadata": {
        "id": "gXOTjz5JBkjO"
      },
      "execution_count": null,
      "outputs": []
    },
    {
      "cell_type": "code",
      "source": [
        "X.shape"
      ],
      "metadata": {
        "colab": {
          "base_uri": "https://localhost:8080/"
        },
        "id": "vT52Hwp2Ci_y",
        "outputId": "1f4ed59f-5074-4300-c9ee-acc51a556192"
      },
      "execution_count": null,
      "outputs": [
        {
          "output_type": "execute_result",
          "data": {
            "text/plain": [
              "(745, 152)"
            ]
          },
          "metadata": {},
          "execution_count": 33
        }
      ]
    },
    {
      "cell_type": "code",
      "source": [
        "from sklearn.preprocessing import StandardScaler\n",
        "# create a scaler object\n",
        "scaler = StandardScaler()\n",
        "\n",
        "# fit scaler on the training data\n",
        "scaler.fit(X)\n",
        "\n",
        "# apply the scaler to both the training and test data\n",
        "X_normalized = scaler.transform(X)\n",
        "\n",
        "\n",
        "label_encoder = LabelEncoder()\n",
        "\n",
        "# Fit and transform label encoder on target values\n",
        "y_encoded = label_encoder.fit_transform(Y)"
      ],
      "metadata": {
        "id": "yLXJZt8zC7a4"
      },
      "execution_count": null,
      "outputs": []
    },
    {
      "cell_type": "code",
      "source": [
        "X_train, X_test, y_train, y_test = train_test_split(X_normalized, y_encoded, test_size=0.2, random_state=108)"
      ],
      "metadata": {
        "id": "ovM4pwbdDXNu"
      },
      "execution_count": null,
      "outputs": []
    },
    {
      "cell_type": "code",
      "source": [
        "import tensorflow as tf\n",
        "from tensorflow import keras\n",
        "from kerastuner import HyperParameters\n",
        "\n",
        "hp = HyperParameters()\n",
        "\n",
        "\n",
        "def build_multiclass_model(hp):\n",
        "    # Input layer\n",
        "    inputs = tf.keras.Input(shape=(152,))\n",
        "\n",
        "    # Apply a dense layer with ReLU activation\n",
        "    x = tf.keras.layers.Dense(\n",
        "        units=hp.Int('dense_units', min_value=32, max_value=1024, step=32, default=32),\n",
        "        activation='relu',\n",
        "    )(inputs)\n",
        "\n",
        "    # Add more dense layers based on hp.Int('dense_layers', ...)\n",
        "    for i in range(hp.Int('dense_layers', 1, 8, default=1)):\n",
        "        x = tf.keras.layers.Dense(\n",
        "            units=hp.Int('dense_units_'+str(i), min_value=32, max_value=1024, step=32, default=32),\n",
        "            activation='relu',\n",
        "        )(x)\n",
        "        x = tf.keras.layers.Dropout(hp.Float('dropout_dense_'+str(i), 0.1, 0.8, step=0.1, default=0.3))(x)\n",
        "\n",
        "    # Output layer for multiclass classification\n",
        "    num_classes = 7  # Replace with the actual number of classes in your dataset\n",
        "    outputs = tf.keras.layers.Dense(num_classes, activation=\"softmax\")(x)\n",
        "\n",
        "    # Create the model\n",
        "    model = tf.keras.Model(inputs, outputs)\n",
        "\n",
        "    # Compile the model for multiclass classification\n",
        "    model.compile(\n",
        "        optimizer=keras.optimizers.Adam(\n",
        "            hp.Choice('learning_rate', values=[1e-01, 1e-2, 1e-3, 1e-4])\n",
        "        ),\n",
        "        loss='categorical_crossentropy',  # Use categorical cross-entropy for multiclass\n",
        "        metrics=['accuracy']  # Add more metrics as needed\n",
        "    )\n",
        "\n",
        "    return model\n"
      ],
      "metadata": {
        "id": "mybuxXLVDdzI"
      },
      "execution_count": null,
      "outputs": []
    },
    {
      "cell_type": "code",
      "source": [
        "model = build_multiclass_model(hp)"
      ],
      "metadata": {
        "id": "IXxb_sJFDrlh"
      },
      "execution_count": null,
      "outputs": []
    },
    {
      "cell_type": "code",
      "source": [
        "import numpy as np\n",
        "from sklearn.model_selection import RepeatedKFold, cross_val_score\n",
        "from tensorflow import keras\n",
        "from tensorflow.keras.wrappers.scikit_learn import KerasClassifier\n",
        "# Define a function to create the Keras model\n",
        "def create_model(hp):\n",
        "    model = build_multiclass_model(hp)\n",
        "    return model\n",
        "\n",
        "# Create a KerasClassifier wrapper for your Keras model\n",
        "keras_wrapper = KerasClassifier(build_fn=create_model, hp=hp, epochs=10, batch_size=32, verbose=0)\n",
        "\n",
        "# Use 5-fold cross-validation repeated 10 times (adjust as needed)\n",
        "cv = RepeatedKFold(n_splits=5, n_repeats=10, random_state=1)\n",
        "\n",
        "# Perform cross-validation and get the scores\n",
        "scores = cross_val_score(keras_wrapper, X_train, y_train, scoring='accuracy', cv=cv, n_jobs=-1)\n",
        "\n",
        "# Calculate the mean accuracy across all folds and repetitions\n",
        "mean_accuracy = np.mean(scores)\n",
        "print(\"Mean Accuracy:\", mean_accuracy)\n"
      ],
      "metadata": {
        "colab": {
          "base_uri": "https://localhost:8080/"
        },
        "outputId": "c421530d-237c-4b70-e811-945a44acf7a7",
        "id": "zgmHbLWzD9wb"
      },
      "execution_count": null,
      "outputs": [
        {
          "output_type": "stream",
          "name": "stderr",
          "text": [
            "<ipython-input-40-545b86fc1d31>:11: DeprecationWarning: KerasClassifier is deprecated, use Sci-Keras (https://github.com/adriangb/scikeras) instead. See https://www.adriangb.com/scikeras/stable/migration.html for help migrating.\n",
            "  keras_wrapper = KerasClassifier(build_fn=create_model, hp=hp, epochs=10, batch_size=32, verbose=0)\n"
          ]
        },
        {
          "output_type": "stream",
          "name": "stdout",
          "text": [
            "Mean Accuracy: 0.6291974789915966\n"
          ]
        }
      ]
    },
    {
      "cell_type": "code",
      "source": [
        "keras_wrapper.fit(X_train,y_train, batch_size =20 )\n",
        "pred = keras_wrapper.predict(X_train)\n",
        "training_accuracy= accuracy_score(y_train,pred)\n",
        "print(\"Accuracy on Training data: \",training_accuracy)\n"
      ],
      "metadata": {
        "colab": {
          "base_uri": "https://localhost:8080/"
        },
        "outputId": "61d8e065-cf82-4d78-a8c7-51a432ce615b",
        "id": "qkOOJrYFEjJZ"
      },
      "execution_count": null,
      "outputs": [
        {
          "output_type": "stream",
          "name": "stdout",
          "text": [
            "19/19 [==============================] - 0s 2ms/step\n",
            "Accuracy on Training data:  0.6291946308724832\n"
          ]
        }
      ]
    },
    {
      "cell_type": "code",
      "source": [
        "pred = keras_wrapper.predict(X_test)\n",
        "test_accuracy= accuracy_score(y_test,pred)\n",
        "print(\"Accuracy on Test data: \",test_accuracy)\n"
      ],
      "metadata": {
        "colab": {
          "base_uri": "https://localhost:8080/"
        },
        "outputId": "1cfa3dfd-df4e-4ac0-ec1d-25e495771cb8",
        "id": "BMEPcw8uEujZ"
      },
      "execution_count": null,
      "outputs": [
        {
          "output_type": "stream",
          "name": "stdout",
          "text": [
            "5/5 [==============================] - 0s 4ms/step\n",
            "Accuracy on Test data:  0.5503355704697986\n"
          ]
        }
      ]
    },
    {
      "cell_type": "code",
      "source": [
        "df= pd.read_csv('Orbital_mp_dataset.csv')\n",
        "\n",
        "\n",
        "X=df.iloc[:,14:]\n",
        "Y=df['crystal_system']"
      ],
      "metadata": {
        "id": "89tH3tpTYPGn"
      },
      "execution_count": 8,
      "outputs": []
    },
    {
      "cell_type": "code",
      "source": [
        "X.shape"
      ],
      "metadata": {
        "colab": {
          "base_uri": "https://localhost:8080/"
        },
        "outputId": "48930590-74d0-48dc-907b-3b05d375ba4e",
        "id": "wlvICxtec7n3"
      },
      "execution_count": 9,
      "outputs": [
        {
          "output_type": "execute_result",
          "data": {
            "text/plain": [
              "(744, 1024)"
            ]
          },
          "metadata": {},
          "execution_count": 9
        }
      ]
    },
    {
      "cell_type": "code",
      "source": [
        "from sklearn.preprocessing import StandardScaler\n",
        "# create a scaler object\n",
        "scaler = StandardScaler()\n",
        "\n",
        "# fit scaler on the training data\n",
        "scaler.fit(X)\n",
        "\n",
        "# apply the scaler to both the training and test data\n",
        "X_normalized = scaler.transform(X)\n",
        "\n",
        "\n",
        "label_encoder = LabelEncoder()\n",
        "\n",
        "# Fit and transform label encoder on target values\n",
        "y_encoded = label_encoder.fit_transform(Y)"
      ],
      "metadata": {
        "id": "1BDNPmP_dMr4"
      },
      "execution_count": 10,
      "outputs": []
    },
    {
      "cell_type": "code",
      "source": [
        "X_train, X_test, y_train, y_test = train_test_split(X_normalized, y_encoded, test_size=0.2, random_state=108)"
      ],
      "metadata": {
        "id": "pfMDCHfYdVTQ"
      },
      "execution_count": 11,
      "outputs": []
    },
    {
      "cell_type": "code",
      "source": [
        "import tensorflow as tf\n",
        "from tensorflow import keras\n",
        "from kerastuner import HyperParameters\n",
        "\n",
        "hp = HyperParameters()\n",
        "\n",
        "\n",
        "def build_multiclass_model(hp):\n",
        "    # Input layer\n",
        "    inputs = tf.keras.Input(shape=(1024,))\n",
        "\n",
        "    # Apply a dense layer with ReLU activation\n",
        "    x = tf.keras.layers.Dense(\n",
        "        units=hp.Int('dense_units', min_value=32, max_value=1024, step=32, default=32),\n",
        "        activation='relu',\n",
        "    )(inputs)\n",
        "\n",
        "    # Add more dense layers based on hp.Int('dense_layers', ...)\n",
        "    for i in range(hp.Int('dense_layers', 1, 8, default=1)):\n",
        "        x = tf.keras.layers.Dense(\n",
        "            units=hp.Int('dense_units_'+str(i), min_value=32, max_value=1024, step=32, default=32),\n",
        "            activation='relu',\n",
        "        )(x)\n",
        "        x = tf.keras.layers.Dropout(hp.Float('dropout_dense_'+str(i), 0.1, 0.8, step=0.1, default=0.3))(x)\n",
        "\n",
        "    # Output layer for multiclass classification\n",
        "    num_classes = 7  # Replace with the actual number of classes in your dataset\n",
        "    outputs = tf.keras.layers.Dense(num_classes, activation=\"softmax\")(x)\n",
        "\n",
        "    # Create the model\n",
        "    model = tf.keras.Model(inputs, outputs)\n",
        "\n",
        "    # Compile the model for multiclass classification\n",
        "    model.compile(\n",
        "        optimizer=keras.optimizers.Adam(\n",
        "            hp.Choice('learning_rate', values=[1e-01, 1e-2, 1e-3, 1e-4])\n",
        "        ),\n",
        "        loss='categorical_crossentropy',  # Use categorical cross-entropy for multiclass\n",
        "        metrics=['accuracy']  # Add more metrics as needed\n",
        "    )\n",
        "\n",
        "    return model\n"
      ],
      "metadata": {
        "colab": {
          "base_uri": "https://localhost:8080/"
        },
        "id": "j4HUPoHPdbxv",
        "outputId": "e60367b2-87a3-443f-f680-02e57a6ceff0"
      },
      "execution_count": 12,
      "outputs": [
        {
          "output_type": "stream",
          "name": "stderr",
          "text": [
            "<ipython-input-12-f95a3c2c24f8>:3: DeprecationWarning: `import kerastuner` is deprecated, please use `import keras_tuner`.\n",
            "  from kerastuner import HyperParameters\n"
          ]
        }
      ]
    },
    {
      "cell_type": "code",
      "source": [
        "model = build_multiclass_model(hp)"
      ],
      "metadata": {
        "id": "rjNT4X4tdobv"
      },
      "execution_count": 13,
      "outputs": []
    },
    {
      "cell_type": "code",
      "source": [
        "import numpy as np\n",
        "from sklearn.model_selection import RepeatedKFold, cross_val_score\n",
        "from tensorflow import keras\n",
        "from tensorflow.keras.wrappers.scikit_learn import KerasClassifier\n",
        "# Define a function to create the Keras model\n",
        "def create_model(hp):\n",
        "    model = build_multiclass_model(hp)\n",
        "    return model\n",
        "\n",
        "# Create a KerasClassifier wrapper for your Keras model\n",
        "keras_wrapper = KerasClassifier(build_fn=create_model, hp=hp, epochs=10, batch_size=32, verbose=0)\n",
        "\n",
        "# Use 5-fold cross-validation repeated 10 times (adjust as needed)\n",
        "cv = RepeatedKFold(n_splits=5, n_repeats=10, random_state=1)\n",
        "\n",
        "# Perform cross-validation and get the scores\n",
        "scores = cross_val_score(keras_wrapper, X_train, y_train, scoring='accuracy', cv=cv, n_jobs=-1)\n",
        "\n",
        "# Calculate the mean accuracy across all folds and repetitions\n",
        "mean_accuracy = np.mean(scores)\n",
        "print(\"Mean Accuracy:\", mean_accuracy)\n"
      ],
      "metadata": {
        "colab": {
          "base_uri": "https://localhost:8080/"
        },
        "outputId": "1ab744ef-35c6-456b-fcfe-cc35b19dec73",
        "id": "mKRREI2PdyPu"
      },
      "execution_count": 14,
      "outputs": [
        {
          "output_type": "stream",
          "name": "stderr",
          "text": [
            "<ipython-input-14-545b86fc1d31>:11: DeprecationWarning: KerasClassifier is deprecated, use Sci-Keras (https://github.com/adriangb/scikeras) instead. See https://www.adriangb.com/scikeras/stable/migration.html for help migrating.\n",
            "  keras_wrapper = KerasClassifier(build_fn=create_model, hp=hp, epochs=10, batch_size=32, verbose=0)\n"
          ]
        },
        {
          "output_type": "stream",
          "name": "stdout",
          "text": [
            "Mean Accuracy: 0.6124369747899161\n"
          ]
        }
      ]
    },
    {
      "cell_type": "code",
      "source": [
        "keras_wrapper.fit(X_train,y_train, batch_size =20 )\n",
        "pred = keras_wrapper.predict(X_train)\n",
        "training_accuracy= accuracy_score(y_train,pred)\n",
        "print(\"Accuracy on Training data: \",training_accuracy)\n"
      ],
      "metadata": {
        "colab": {
          "base_uri": "https://localhost:8080/"
        },
        "outputId": "fdb7a333-9fda-4a0f-b828-7964724097e5",
        "id": "0qUdHMMqd85I"
      },
      "execution_count": 15,
      "outputs": [
        {
          "output_type": "stream",
          "name": "stdout",
          "text": [
            "19/19 [==============================] - 0s 2ms/step\n",
            "Accuracy on Training data:  0.6134453781512605\n"
          ]
        }
      ]
    },
    {
      "cell_type": "code",
      "source": [
        "pred = keras_wrapper.predict(X_test)\n",
        "test_accuracy= accuracy_score(y_test,pred)\n",
        "print(\"Accuracy on Test data: \",test_accuracy)\n"
      ],
      "metadata": {
        "colab": {
          "base_uri": "https://localhost:8080/"
        },
        "outputId": "a9baa5c3-2cdf-426b-a251-ab5654d9d7bb",
        "id": "O6d2hAeCeEHo"
      },
      "execution_count": 16,
      "outputs": [
        {
          "output_type": "stream",
          "name": "stdout",
          "text": [
            "5/5 [==============================] - 0s 4ms/step\n",
            "Accuracy on Test data:  0.6174496644295302\n"
          ]
        }
      ]
    }
  ]
}