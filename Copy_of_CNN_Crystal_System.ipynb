{
  "cells": [
    {
      "cell_type": "markdown",
      "metadata": {
        "id": "view-in-github",
        "colab_type": "text"
      },
      "source": [
        "<a href=\"https://colab.research.google.com/github/TuragDev/ML-Python-Codes/blob/main/Copy_of_CNN_Crystal_System.ipynb\" target=\"_parent\"><img src=\"https://colab.research.google.com/assets/colab-badge.svg\" alt=\"Open In Colab\"/></a>"
      ]
    },
    {
      "cell_type": "code",
      "execution_count": 2,
      "metadata": {
        "colab": {
          "base_uri": "https://localhost:8080/"
        },
        "id": "_tq_GowJMY0T",
        "outputId": "6bef98c2-096d-4b87-eca7-ac0f76ccc09f"
      },
      "outputs": [
        {
          "output_type": "stream",
          "name": "stdout",
          "text": [
            "Requirement already satisfied: scikit-optimize in /usr/local/lib/python3.10/dist-packages (0.9.0)\n",
            "Requirement already satisfied: joblib>=0.11 in /usr/local/lib/python3.10/dist-packages (from scikit-optimize) (1.3.2)\n",
            "Requirement already satisfied: pyaml>=16.9 in /usr/local/lib/python3.10/dist-packages (from scikit-optimize) (23.9.7)\n",
            "Requirement already satisfied: numpy>=1.13.3 in /usr/local/lib/python3.10/dist-packages (from scikit-optimize) (1.23.5)\n",
            "Requirement already satisfied: scipy>=0.19.1 in /usr/local/lib/python3.10/dist-packages (from scikit-optimize) (1.11.3)\n",
            "Requirement already satisfied: scikit-learn>=0.20.0 in /usr/local/lib/python3.10/dist-packages (from scikit-optimize) (1.2.2)\n",
            "Requirement already satisfied: PyYAML in /usr/local/lib/python3.10/dist-packages (from pyaml>=16.9->scikit-optimize) (6.0.1)\n",
            "Requirement already satisfied: threadpoolctl>=2.0.0 in /usr/local/lib/python3.10/dist-packages (from scikit-learn>=0.20.0->scikit-optimize) (3.2.0)\n"
          ]
        }
      ],
      "source": [
        "!pip install scikit-optimize"
      ]
    },
    {
      "cell_type": "code",
      "execution_count": 3,
      "metadata": {
        "colab": {
          "base_uri": "https://localhost:8080/"
        },
        "id": "W6lb_989M2oU",
        "outputId": "24963072-78e6-448e-9257-66c00036db38"
      },
      "outputs": [
        {
          "output_type": "stream",
          "name": "stdout",
          "text": [
            "Requirement already satisfied: keras-tuner in /usr/local/lib/python3.10/dist-packages (1.4.6)\n",
            "Requirement already satisfied: keras in /usr/local/lib/python3.10/dist-packages (from keras-tuner) (2.14.0)\n",
            "Requirement already satisfied: packaging in /usr/local/lib/python3.10/dist-packages (from keras-tuner) (23.2)\n",
            "Requirement already satisfied: requests in /usr/local/lib/python3.10/dist-packages (from keras-tuner) (2.31.0)\n",
            "Requirement already satisfied: kt-legacy in /usr/local/lib/python3.10/dist-packages (from keras-tuner) (1.0.5)\n",
            "Requirement already satisfied: charset-normalizer<4,>=2 in /usr/local/lib/python3.10/dist-packages (from requests->keras-tuner) (3.3.2)\n",
            "Requirement already satisfied: idna<4,>=2.5 in /usr/local/lib/python3.10/dist-packages (from requests->keras-tuner) (3.4)\n",
            "Requirement already satisfied: urllib3<3,>=1.21.1 in /usr/local/lib/python3.10/dist-packages (from requests->keras-tuner) (2.0.7)\n",
            "Requirement already satisfied: certifi>=2017.4.17 in /usr/local/lib/python3.10/dist-packages (from requests->keras-tuner) (2023.7.22)\n"
          ]
        }
      ],
      "source": [
        "pip install keras-tuner"
      ]
    },
    {
      "cell_type": "code",
      "execution_count": 4,
      "metadata": {
        "colab": {
          "base_uri": "https://localhost:8080/"
        },
        "id": "lJb1HFuyM-v_",
        "outputId": "ab753888-8979-475d-ddad-c576ec2568ad"
      },
      "outputs": [
        {
          "output_type": "stream",
          "name": "stdout",
          "text": [
            "Requirement already satisfied: scikit-learn in /usr/local/lib/python3.10/dist-packages (1.2.2)\n",
            "Requirement already satisfied: numpy>=1.17.3 in /usr/local/lib/python3.10/dist-packages (from scikit-learn) (1.23.5)\n",
            "Requirement already satisfied: scipy>=1.3.2 in /usr/local/lib/python3.10/dist-packages (from scikit-learn) (1.11.3)\n",
            "Requirement already satisfied: joblib>=1.1.1 in /usr/local/lib/python3.10/dist-packages (from scikit-learn) (1.3.2)\n",
            "Requirement already satisfied: threadpoolctl>=2.0.0 in /usr/local/lib/python3.10/dist-packages (from scikit-learn) (3.2.0)\n"
          ]
        }
      ],
      "source": [
        "!pip install scikit-learn\n"
      ]
    },
    {
      "cell_type": "code",
      "execution_count": 5,
      "metadata": {
        "colab": {
          "base_uri": "https://localhost:8080/"
        },
        "id": "Kj6hVo9cNpb2",
        "outputId": "f4a2c81f-e4e3-4be3-ac62-06641cd8bc0f"
      },
      "outputs": [
        {
          "output_type": "stream",
          "name": "stdout",
          "text": [
            "Requirement already satisfied: keras in /usr/local/lib/python3.10/dist-packages (2.14.0)\n"
          ]
        }
      ],
      "source": [
        "pip install keras"
      ]
    },
    {
      "cell_type": "code",
      "execution_count": 6,
      "metadata": {
        "colab": {
          "base_uri": "https://localhost:8080/"
        },
        "id": "r7hRCzA6N70Y",
        "outputId": "39c7433e-5fbe-4b02-c590-bfa3a71ef7c3"
      },
      "outputs": [
        {
          "output_type": "stream",
          "name": "stdout",
          "text": [
            "Requirement already satisfied: tensorflow in /usr/local/lib/python3.10/dist-packages (2.14.0)\n",
            "Requirement already satisfied: absl-py>=1.0.0 in /usr/local/lib/python3.10/dist-packages (from tensorflow) (1.4.0)\n",
            "Requirement already satisfied: astunparse>=1.6.0 in /usr/local/lib/python3.10/dist-packages (from tensorflow) (1.6.3)\n",
            "Requirement already satisfied: flatbuffers>=23.5.26 in /usr/local/lib/python3.10/dist-packages (from tensorflow) (23.5.26)\n",
            "Requirement already satisfied: gast!=0.5.0,!=0.5.1,!=0.5.2,>=0.2.1 in /usr/local/lib/python3.10/dist-packages (from tensorflow) (0.5.4)\n",
            "Requirement already satisfied: google-pasta>=0.1.1 in /usr/local/lib/python3.10/dist-packages (from tensorflow) (0.2.0)\n",
            "Requirement already satisfied: h5py>=2.9.0 in /usr/local/lib/python3.10/dist-packages (from tensorflow) (3.9.0)\n",
            "Requirement already satisfied: libclang>=13.0.0 in /usr/local/lib/python3.10/dist-packages (from tensorflow) (16.0.6)\n",
            "Requirement already satisfied: ml-dtypes==0.2.0 in /usr/local/lib/python3.10/dist-packages (from tensorflow) (0.2.0)\n",
            "Requirement already satisfied: numpy>=1.23.5 in /usr/local/lib/python3.10/dist-packages (from tensorflow) (1.23.5)\n",
            "Requirement already satisfied: opt-einsum>=2.3.2 in /usr/local/lib/python3.10/dist-packages (from tensorflow) (3.3.0)\n",
            "Requirement already satisfied: packaging in /usr/local/lib/python3.10/dist-packages (from tensorflow) (23.2)\n",
            "Requirement already satisfied: protobuf!=4.21.0,!=4.21.1,!=4.21.2,!=4.21.3,!=4.21.4,!=4.21.5,<5.0.0dev,>=3.20.3 in /usr/local/lib/python3.10/dist-packages (from tensorflow) (3.20.3)\n",
            "Requirement already satisfied: setuptools in /usr/local/lib/python3.10/dist-packages (from tensorflow) (67.7.2)\n",
            "Requirement already satisfied: six>=1.12.0 in /usr/local/lib/python3.10/dist-packages (from tensorflow) (1.16.0)\n",
            "Requirement already satisfied: termcolor>=1.1.0 in /usr/local/lib/python3.10/dist-packages (from tensorflow) (2.3.0)\n",
            "Requirement already satisfied: typing-extensions>=3.6.6 in /usr/local/lib/python3.10/dist-packages (from tensorflow) (4.5.0)\n",
            "Requirement already satisfied: wrapt<1.15,>=1.11.0 in /usr/local/lib/python3.10/dist-packages (from tensorflow) (1.14.1)\n",
            "Requirement already satisfied: tensorflow-io-gcs-filesystem>=0.23.1 in /usr/local/lib/python3.10/dist-packages (from tensorflow) (0.34.0)\n",
            "Requirement already satisfied: grpcio<2.0,>=1.24.3 in /usr/local/lib/python3.10/dist-packages (from tensorflow) (1.59.2)\n",
            "Requirement already satisfied: tensorboard<2.15,>=2.14 in /usr/local/lib/python3.10/dist-packages (from tensorflow) (2.14.1)\n",
            "Requirement already satisfied: tensorflow-estimator<2.15,>=2.14.0 in /usr/local/lib/python3.10/dist-packages (from tensorflow) (2.14.0)\n",
            "Requirement already satisfied: keras<2.15,>=2.14.0 in /usr/local/lib/python3.10/dist-packages (from tensorflow) (2.14.0)\n",
            "Requirement already satisfied: wheel<1.0,>=0.23.0 in /usr/local/lib/python3.10/dist-packages (from astunparse>=1.6.0->tensorflow) (0.41.3)\n",
            "Requirement already satisfied: google-auth<3,>=1.6.3 in /usr/local/lib/python3.10/dist-packages (from tensorboard<2.15,>=2.14->tensorflow) (2.17.3)\n",
            "Requirement already satisfied: google-auth-oauthlib<1.1,>=0.5 in /usr/local/lib/python3.10/dist-packages (from tensorboard<2.15,>=2.14->tensorflow) (1.0.0)\n",
            "Requirement already satisfied: markdown>=2.6.8 in /usr/local/lib/python3.10/dist-packages (from tensorboard<2.15,>=2.14->tensorflow) (3.5.1)\n",
            "Requirement already satisfied: requests<3,>=2.21.0 in /usr/local/lib/python3.10/dist-packages (from tensorboard<2.15,>=2.14->tensorflow) (2.31.0)\n",
            "Requirement already satisfied: tensorboard-data-server<0.8.0,>=0.7.0 in /usr/local/lib/python3.10/dist-packages (from tensorboard<2.15,>=2.14->tensorflow) (0.7.2)\n",
            "Requirement already satisfied: werkzeug>=1.0.1 in /usr/local/lib/python3.10/dist-packages (from tensorboard<2.15,>=2.14->tensorflow) (3.0.1)\n",
            "Requirement already satisfied: cachetools<6.0,>=2.0.0 in /usr/local/lib/python3.10/dist-packages (from google-auth<3,>=1.6.3->tensorboard<2.15,>=2.14->tensorflow) (5.3.2)\n",
            "Requirement already satisfied: pyasn1-modules>=0.2.1 in /usr/local/lib/python3.10/dist-packages (from google-auth<3,>=1.6.3->tensorboard<2.15,>=2.14->tensorflow) (0.3.0)\n",
            "Requirement already satisfied: rsa<5,>=3.1.4 in /usr/local/lib/python3.10/dist-packages (from google-auth<3,>=1.6.3->tensorboard<2.15,>=2.14->tensorflow) (4.9)\n",
            "Requirement already satisfied: requests-oauthlib>=0.7.0 in /usr/local/lib/python3.10/dist-packages (from google-auth-oauthlib<1.1,>=0.5->tensorboard<2.15,>=2.14->tensorflow) (1.3.1)\n",
            "Requirement already satisfied: charset-normalizer<4,>=2 in /usr/local/lib/python3.10/dist-packages (from requests<3,>=2.21.0->tensorboard<2.15,>=2.14->tensorflow) (3.3.2)\n",
            "Requirement already satisfied: idna<4,>=2.5 in /usr/local/lib/python3.10/dist-packages (from requests<3,>=2.21.0->tensorboard<2.15,>=2.14->tensorflow) (3.4)\n",
            "Requirement already satisfied: urllib3<3,>=1.21.1 in /usr/local/lib/python3.10/dist-packages (from requests<3,>=2.21.0->tensorboard<2.15,>=2.14->tensorflow) (2.0.7)\n",
            "Requirement already satisfied: certifi>=2017.4.17 in /usr/local/lib/python3.10/dist-packages (from requests<3,>=2.21.0->tensorboard<2.15,>=2.14->tensorflow) (2023.7.22)\n",
            "Requirement already satisfied: MarkupSafe>=2.1.1 in /usr/local/lib/python3.10/dist-packages (from werkzeug>=1.0.1->tensorboard<2.15,>=2.14->tensorflow) (2.1.3)\n",
            "Requirement already satisfied: pyasn1<0.6.0,>=0.4.6 in /usr/local/lib/python3.10/dist-packages (from pyasn1-modules>=0.2.1->google-auth<3,>=1.6.3->tensorboard<2.15,>=2.14->tensorflow) (0.5.0)\n",
            "Requirement already satisfied: oauthlib>=3.0.0 in /usr/local/lib/python3.10/dist-packages (from requests-oauthlib>=0.7.0->google-auth-oauthlib<1.1,>=0.5->tensorboard<2.15,>=2.14->tensorflow) (3.2.2)\n"
          ]
        }
      ],
      "source": [
        "pip install tensorflow"
      ]
    },
    {
      "cell_type": "code",
      "execution_count": 7,
      "metadata": {
        "colab": {
          "base_uri": "https://localhost:8080/"
        },
        "id": "tsqn35A5OH5v",
        "outputId": "c524e14e-0b1a-441e-e45e-11419cf355ab"
      },
      "outputs": [
        {
          "output_type": "stream",
          "name": "stdout",
          "text": [
            "Requirement already satisfied: scikeras in /usr/local/lib/python3.10/dist-packages (0.12.0)\n",
            "Requirement already satisfied: packaging>=0.21 in /usr/local/lib/python3.10/dist-packages (from scikeras) (23.2)\n",
            "Requirement already satisfied: scikit-learn>=1.0.0 in /usr/local/lib/python3.10/dist-packages (from scikeras) (1.2.2)\n",
            "Requirement already satisfied: numpy>=1.17.3 in /usr/local/lib/python3.10/dist-packages (from scikit-learn>=1.0.0->scikeras) (1.23.5)\n",
            "Requirement already satisfied: scipy>=1.3.2 in /usr/local/lib/python3.10/dist-packages (from scikit-learn>=1.0.0->scikeras) (1.11.3)\n",
            "Requirement already satisfied: joblib>=1.1.1 in /usr/local/lib/python3.10/dist-packages (from scikit-learn>=1.0.0->scikeras) (1.3.2)\n",
            "Requirement already satisfied: threadpoolctl>=2.0.0 in /usr/local/lib/python3.10/dist-packages (from scikit-learn>=1.0.0->scikeras) (3.2.0)\n"
          ]
        }
      ],
      "source": [
        "!pip install scikeras\n",
        "from scikeras.wrappers import KerasClassifier"
      ]
    },
    {
      "cell_type": "code",
      "execution_count": 8,
      "metadata": {
        "colab": {
          "base_uri": "https://localhost:8080/"
        },
        "id": "QT7UZCRGNizI",
        "outputId": "4b75dea3-2ce4-4178-ca28-b57fc991d668"
      },
      "outputs": [
        {
          "output_type": "stream",
          "name": "stdout",
          "text": [
            "Requirement already satisfied: keras-tuner in /usr/local/lib/python3.10/dist-packages (1.4.6)\n",
            "Requirement already satisfied: keras in /usr/local/lib/python3.10/dist-packages (from keras-tuner) (2.14.0)\n",
            "Requirement already satisfied: packaging in /usr/local/lib/python3.10/dist-packages (from keras-tuner) (23.2)\n",
            "Requirement already satisfied: requests in /usr/local/lib/python3.10/dist-packages (from keras-tuner) (2.31.0)\n",
            "Requirement already satisfied: kt-legacy in /usr/local/lib/python3.10/dist-packages (from keras-tuner) (1.0.5)\n",
            "Requirement already satisfied: charset-normalizer<4,>=2 in /usr/local/lib/python3.10/dist-packages (from requests->keras-tuner) (3.3.2)\n",
            "Requirement already satisfied: idna<4,>=2.5 in /usr/local/lib/python3.10/dist-packages (from requests->keras-tuner) (3.4)\n",
            "Requirement already satisfied: urllib3<3,>=1.21.1 in /usr/local/lib/python3.10/dist-packages (from requests->keras-tuner) (2.0.7)\n",
            "Requirement already satisfied: certifi>=2017.4.17 in /usr/local/lib/python3.10/dist-packages (from requests->keras-tuner) (2023.7.22)\n"
          ]
        }
      ],
      "source": [
        "pip install keras-tuner"
      ]
    },
    {
      "cell_type": "code",
      "execution_count": 9,
      "metadata": {
        "id": "E5X_WT3KOozC"
      },
      "outputs": [],
      "source": [
        "import numpy as np\n",
        "from sklearn.model_selection import train_test_split\n",
        "from skopt import BayesSearchCV\n",
        "from skopt.space import Real, Integer\n",
        "import joblib\n",
        "from sklearn.model_selection import train_test_split\n",
        "import numpy as np\n",
        "\n",
        "import pandas as pd\n",
        "\n",
        "from sklearn.model_selection import GridSearchCV, RepeatedKFold\n",
        "from sklearn.model_selection import train_test_split\n",
        "from sklearn.metrics import mean_squared_error as MSE\n",
        "from sklearn.preprocessing import StandardScaler\n",
        "from sklearn.metrics import mean_squared_error, r2_score\n",
        "\n",
        "from sklearn.model_selection import train_test_split\n",
        "\n",
        "import numpy as np\n",
        "\n",
        "import pickle\n",
        "import pandas as pd\n",
        "from sklearn.preprocessing import LabelEncoder\n",
        "from sklearn.model_selection import GridSearchCV\n",
        "from numpy import mean\n",
        "from numpy import std\n",
        "from sklearn.datasets import make_classification\n",
        "from sklearn.model_selection import KFold\n",
        "from sklearn.model_selection import GridSearchCV\n",
        "from sklearn.preprocessing import StandardScaler\n",
        "from sklearn.metrics import accuracy_score, classification_report\n",
        "from scikeras.wrappers import KerasClassifier\n",
        "from tensorflow.keras.models import Sequential\n",
        "from tensorflow.keras.layers import Dense\n",
        "from tensorflow.keras.utils import to_categorical\n",
        "from sklearn.metrics import accuracy_score\n",
        "import matplotlib.pyplot as plt\n",
        "from pandas import read_csv\n",
        "from sklearn.model_selection import cross_val_score\n",
        "from sklearn.svm import SVC\n",
        "from sklearn.model_selection import RepeatedStratifiedKFold\n",
        "from skopt import BayesSearchCV\n",
        "from sklearn.utils import shuffle\n",
        "from kerastuner.tuners import RandomSearch\n",
        "from kerastuner.tuners import BayesianOptimization"
      ]
    },
    {
      "cell_type": "code",
      "execution_count": 10,
      "metadata": {
        "id": "XJMTyjjcfhUc"
      },
      "outputs": [],
      "source": [
        "from kerastuner import HyperParameters"
      ]
    },
    {
      "cell_type": "code",
      "execution_count": 11,
      "metadata": {
        "colab": {
          "base_uri": "https://localhost:8080/",
          "height": 246
        },
        "id": "EPCsh4k9PFDD",
        "outputId": "d812f971-177e-47cd-ba46-789354210967"
      },
      "outputs": [
        {
          "output_type": "display_data",
          "data": {
            "text/plain": [
              "<IPython.core.display.HTML object>"
            ],
            "text/html": [
              "\n",
              "     <input type=\"file\" id=\"files-5198f2d9-f122-4f7e-a52a-98ec1371b972\" name=\"files[]\" multiple disabled\n",
              "        style=\"border:none\" />\n",
              "     <output id=\"result-5198f2d9-f122-4f7e-a52a-98ec1371b972\">\n",
              "      Upload widget is only available when the cell has been executed in the\n",
              "      current browser session. Please rerun this cell to enable.\n",
              "      </output>\n",
              "      <script>// Copyright 2017 Google LLC\n",
              "//\n",
              "// Licensed under the Apache License, Version 2.0 (the \"License\");\n",
              "// you may not use this file except in compliance with the License.\n",
              "// You may obtain a copy of the License at\n",
              "//\n",
              "//      http://www.apache.org/licenses/LICENSE-2.0\n",
              "//\n",
              "// Unless required by applicable law or agreed to in writing, software\n",
              "// distributed under the License is distributed on an \"AS IS\" BASIS,\n",
              "// WITHOUT WARRANTIES OR CONDITIONS OF ANY KIND, either express or implied.\n",
              "// See the License for the specific language governing permissions and\n",
              "// limitations under the License.\n",
              "\n",
              "/**\n",
              " * @fileoverview Helpers for google.colab Python module.\n",
              " */\n",
              "(function(scope) {\n",
              "function span(text, styleAttributes = {}) {\n",
              "  const element = document.createElement('span');\n",
              "  element.textContent = text;\n",
              "  for (const key of Object.keys(styleAttributes)) {\n",
              "    element.style[key] = styleAttributes[key];\n",
              "  }\n",
              "  return element;\n",
              "}\n",
              "\n",
              "// Max number of bytes which will be uploaded at a time.\n",
              "const MAX_PAYLOAD_SIZE = 100 * 1024;\n",
              "\n",
              "function _uploadFiles(inputId, outputId) {\n",
              "  const steps = uploadFilesStep(inputId, outputId);\n",
              "  const outputElement = document.getElementById(outputId);\n",
              "  // Cache steps on the outputElement to make it available for the next call\n",
              "  // to uploadFilesContinue from Python.\n",
              "  outputElement.steps = steps;\n",
              "\n",
              "  return _uploadFilesContinue(outputId);\n",
              "}\n",
              "\n",
              "// This is roughly an async generator (not supported in the browser yet),\n",
              "// where there are multiple asynchronous steps and the Python side is going\n",
              "// to poll for completion of each step.\n",
              "// This uses a Promise to block the python side on completion of each step,\n",
              "// then passes the result of the previous step as the input to the next step.\n",
              "function _uploadFilesContinue(outputId) {\n",
              "  const outputElement = document.getElementById(outputId);\n",
              "  const steps = outputElement.steps;\n",
              "\n",
              "  const next = steps.next(outputElement.lastPromiseValue);\n",
              "  return Promise.resolve(next.value.promise).then((value) => {\n",
              "    // Cache the last promise value to make it available to the next\n",
              "    // step of the generator.\n",
              "    outputElement.lastPromiseValue = value;\n",
              "    return next.value.response;\n",
              "  });\n",
              "}\n",
              "\n",
              "/**\n",
              " * Generator function which is called between each async step of the upload\n",
              " * process.\n",
              " * @param {string} inputId Element ID of the input file picker element.\n",
              " * @param {string} outputId Element ID of the output display.\n",
              " * @return {!Iterable<!Object>} Iterable of next steps.\n",
              " */\n",
              "function* uploadFilesStep(inputId, outputId) {\n",
              "  const inputElement = document.getElementById(inputId);\n",
              "  inputElement.disabled = false;\n",
              "\n",
              "  const outputElement = document.getElementById(outputId);\n",
              "  outputElement.innerHTML = '';\n",
              "\n",
              "  const pickedPromise = new Promise((resolve) => {\n",
              "    inputElement.addEventListener('change', (e) => {\n",
              "      resolve(e.target.files);\n",
              "    });\n",
              "  });\n",
              "\n",
              "  const cancel = document.createElement('button');\n",
              "  inputElement.parentElement.appendChild(cancel);\n",
              "  cancel.textContent = 'Cancel upload';\n",
              "  const cancelPromise = new Promise((resolve) => {\n",
              "    cancel.onclick = () => {\n",
              "      resolve(null);\n",
              "    };\n",
              "  });\n",
              "\n",
              "  // Wait for the user to pick the files.\n",
              "  const files = yield {\n",
              "    promise: Promise.race([pickedPromise, cancelPromise]),\n",
              "    response: {\n",
              "      action: 'starting',\n",
              "    }\n",
              "  };\n",
              "\n",
              "  cancel.remove();\n",
              "\n",
              "  // Disable the input element since further picks are not allowed.\n",
              "  inputElement.disabled = true;\n",
              "\n",
              "  if (!files) {\n",
              "    return {\n",
              "      response: {\n",
              "        action: 'complete',\n",
              "      }\n",
              "    };\n",
              "  }\n",
              "\n",
              "  for (const file of files) {\n",
              "    const li = document.createElement('li');\n",
              "    li.append(span(file.name, {fontWeight: 'bold'}));\n",
              "    li.append(span(\n",
              "        `(${file.type || 'n/a'}) - ${file.size} bytes, ` +\n",
              "        `last modified: ${\n",
              "            file.lastModifiedDate ? file.lastModifiedDate.toLocaleDateString() :\n",
              "                                    'n/a'} - `));\n",
              "    const percent = span('0% done');\n",
              "    li.appendChild(percent);\n",
              "\n",
              "    outputElement.appendChild(li);\n",
              "\n",
              "    const fileDataPromise = new Promise((resolve) => {\n",
              "      const reader = new FileReader();\n",
              "      reader.onload = (e) => {\n",
              "        resolve(e.target.result);\n",
              "      };\n",
              "      reader.readAsArrayBuffer(file);\n",
              "    });\n",
              "    // Wait for the data to be ready.\n",
              "    let fileData = yield {\n",
              "      promise: fileDataPromise,\n",
              "      response: {\n",
              "        action: 'continue',\n",
              "      }\n",
              "    };\n",
              "\n",
              "    // Use a chunked sending to avoid message size limits. See b/62115660.\n",
              "    let position = 0;\n",
              "    do {\n",
              "      const length = Math.min(fileData.byteLength - position, MAX_PAYLOAD_SIZE);\n",
              "      const chunk = new Uint8Array(fileData, position, length);\n",
              "      position += length;\n",
              "\n",
              "      const base64 = btoa(String.fromCharCode.apply(null, chunk));\n",
              "      yield {\n",
              "        response: {\n",
              "          action: 'append',\n",
              "          file: file.name,\n",
              "          data: base64,\n",
              "        },\n",
              "      };\n",
              "\n",
              "      let percentDone = fileData.byteLength === 0 ?\n",
              "          100 :\n",
              "          Math.round((position / fileData.byteLength) * 100);\n",
              "      percent.textContent = `${percentDone}% done`;\n",
              "\n",
              "    } while (position < fileData.byteLength);\n",
              "  }\n",
              "\n",
              "  // All done.\n",
              "  yield {\n",
              "    response: {\n",
              "      action: 'complete',\n",
              "    }\n",
              "  };\n",
              "}\n",
              "\n",
              "scope.google = scope.google || {};\n",
              "scope.google.colab = scope.google.colab || {};\n",
              "scope.google.colab._files = {\n",
              "  _uploadFiles,\n",
              "  _uploadFilesContinue,\n",
              "};\n",
              "})(self);\n",
              "</script> "
            ]
          },
          "metadata": {}
        },
        {
          "output_type": "stream",
          "name": "stdout",
          "text": [
            "Saving Orbital_test.csv to Orbital_test (1).csv\n",
            "Saving Orbital_train.csv to Orbital_train (1).csv\n",
            "Saving Sine_test.csv to Sine_test (1).csv\n",
            "Saving Sine_train.csv to Sine_train (1).csv\n",
            "Saving Xrd_test.csv to Xrd_test (1).csv\n",
            "Saving Xrd_train.csv to Xrd_train (1).csv\n"
          ]
        }
      ],
      "source": [
        "from google.colab import files\n",
        "uploaded= files.upload()"
      ]
    },
    {
      "cell_type": "code",
      "execution_count": null,
      "metadata": {
        "colab": {
          "base_uri": "https://localhost:8080/"
        },
        "id": "sNpr-0rHP_3a",
        "outputId": "3c2cd41c-c6dd-48de-e277-aa49fbbe10b6"
      },
      "outputs": [
        {
          "data": {
            "text/plain": [
              "(596, 166)"
            ]
          },
          "execution_count": 12,
          "metadata": {},
          "output_type": "execute_result"
        }
      ],
      "source": [
        "df= pd.read_csv('Sine_train.csv')\n",
        "df.shape"
      ]
    },
    {
      "cell_type": "code",
      "execution_count": null,
      "metadata": {
        "colab": {
          "base_uri": "https://localhost:8080/"
        },
        "id": "DAxJ3opgQR8o",
        "outputId": "ce04a03f-f5c1-4979-d734-7afe94888ae8"
      },
      "outputs": [
        {
          "data": {
            "text/plain": [
              "0           cubic\n",
              "1           cubic\n",
              "2       triclinic\n",
              "3       triclinic\n",
              "4       triclinic\n",
              "          ...    \n",
              "144    monoclinic\n",
              "145         cubic\n",
              "146      trigonal\n",
              "147     hexagonal\n",
              "148         cubic\n",
              "Name: crystal_system, Length: 149, dtype: object"
            ]
          },
          "execution_count": 26,
          "metadata": {},
          "output_type": "execute_result"
        }
      ],
      "source": [
        "X_train=df.iloc[:,14:]\n",
        "y_train=df['crystal_system']\n",
        "\n",
        "y_train"
      ]
    },
    {
      "cell_type": "code",
      "execution_count": null,
      "metadata": {
        "colab": {
          "base_uri": "https://localhost:8080/"
        },
        "id": "wxPtSbtNQbXp",
        "outputId": "cdaea8a7-eb58-4c9a-992a-222806f39ba4"
      },
      "outputs": [
        {
          "data": {
            "text/plain": [
              "(149, 152)"
            ]
          },
          "execution_count": 27,
          "metadata": {},
          "output_type": "execute_result"
        }
      ],
      "source": [
        "X_train.shape"
      ]
    },
    {
      "cell_type": "code",
      "execution_count": null,
      "metadata": {
        "colab": {
          "base_uri": "https://localhost:8080/"
        },
        "id": "vzLb5rIyQuPn",
        "outputId": "f9aa7b8c-a2d3-4466-d0f0-1448c576696d"
      },
      "outputs": [
        {
          "data": {
            "text/plain": [
              "0           cubic\n",
              "1           cubic\n",
              "2       triclinic\n",
              "3       triclinic\n",
              "4       triclinic\n",
              "          ...    \n",
              "144    monoclinic\n",
              "145         cubic\n",
              "146      trigonal\n",
              "147     hexagonal\n",
              "148         cubic\n",
              "Name: crystal_system, Length: 149, dtype: object"
            ]
          },
          "execution_count": 28,
          "metadata": {},
          "output_type": "execute_result"
        }
      ],
      "source": [
        "df=pd.read_csv('Sine_test.csv')\n",
        "X_test=df.iloc[:,14:]\n",
        "\n",
        "y_test=df['crystal_system']\n",
        "\n",
        "y_test"
      ]
    },
    {
      "cell_type": "code",
      "execution_count": null,
      "metadata": {
        "colab": {
          "base_uri": "https://localhost:8080/"
        },
        "id": "KRT5ffhuQztu",
        "outputId": "4b7aca7b-983f-471f-f1c6-d84b9ce4351a"
      },
      "outputs": [
        {
          "data": {
            "text/plain": [
              "(149, 152)"
            ]
          },
          "execution_count": 29,
          "metadata": {},
          "output_type": "execute_result"
        }
      ],
      "source": [
        "X_test.shape"
      ]
    },
    {
      "cell_type": "code",
      "execution_count": null,
      "metadata": {
        "id": "3JojSqXCRmBW"
      },
      "outputs": [],
      "source": [
        "from sklearn.preprocessing import StandardScaler\n",
        "from sklearn.preprocessing import OneHotEncoder\n",
        "\n",
        "# Data Preprocessing\n",
        "# Create a scaler object\n",
        "scaler = StandardScaler()\n",
        "\n",
        "# Fit scaler on the training data\n",
        "scaler.fit(X_train)\n",
        "\n",
        "# Apply the scaler to both the training and test data\n",
        "X_train_normalized = scaler.transform(X_train)\n",
        "X_test_normalized = scaler.transform(X_test)\n",
        "\n",
        "# Convert pandas Series to NumPy array and reshape\n",
        "y_train_array = y_train.to_numpy().reshape(-1, 1)\n",
        "y_test_array = y_test.to_numpy().reshape(-1, 1)\n",
        "\n",
        "# Initialize the OneHotEncoder\n",
        "encoder = OneHotEncoder()\n",
        "\n",
        "# Apply one-hot encoding\n",
        "y_train_encoded = encoder.fit_transform(y_train_array).toarray()\n",
        "y_test_encoded = encoder.transform(y_test_array).toarray()"
      ]
    },
    {
      "cell_type": "code",
      "execution_count": null,
      "metadata": {
        "id": "mqCYw77tjGaX"
      },
      "outputs": [],
      "source": [
        "def build_model(hp):\n",
        "    inputs = keras.Input(shape=(152, 1))\n",
        "    x = inputs\n",
        "\n",
        "    # Loop for convolutional layers\n",
        "    for i in range(hp.Int(\"conv_layers\", 1, 3, default=2)):\n",
        "        x = layers.Conv1D(\n",
        "            filters=hp.Int(\"filters_\" + str(i), 12, 152, step=12, default=64),\n",
        "            kernel_size=hp.Choice(\"kernel_size_\" + str(i), [3, 5, 7]),\n",
        "            activation=\"relu\",\n",
        "            padding=\"same\",\n",
        "        )(x)\n",
        "        x = layers.MaxPooling1D(pool_size=2)(x)\n",
        "        x = layers.Dropout(hp.Float('dropout_conv_' + str(i), 0.3, 0.5, step=0.1, default=0.2))(x)\n",
        "\n",
        "    x = layers.Flatten()(x)\n",
        "\n",
        "    # Loop for dense layers\n",
        "    for i in range(hp.Int(\"dense_layers\", 1, 3, default=1)):\n",
        "        x = layers.Dense(\n",
        "            units=hp.Int('dense_units_' + str(i), min_value=12, max_value=152, step=12, default=128),\n",
        "            activation='relu',\n",
        "        )(x)\n",
        "        x = layers.Dropout(hp.Float('dropout_dense_' + str(i), 0.3, 0.5, step=0.1, default=0.3))(x)\n",
        "\n",
        "    outputs = layers.Dense(len(encoder.categories_[0]), activation=\"softmax\")(x)  # Number of classes\n",
        "\n",
        "    model = keras.Model(inputs, outputs)\n",
        "\n",
        "    model.compile(\n",
        "        optimizer=keras.optimizers.Adam(\n",
        "            hp.Choice('learning_rate', values=[1e-2, 1e-3, 1e-4])\n",
        "        ),\n",
        "        loss='categorical_crossentropy',\n",
        "        metrics=['accuracy']\n",
        "    )\n",
        "    return model"
      ]
    },
    {
      "cell_type": "code",
      "execution_count": null,
      "metadata": {
        "colab": {
          "base_uri": "https://localhost:8080/"
        },
        "id": "0q8na8r3j66z",
        "outputId": "625890e0-a1ee-4079-fa38-16e59f354e93"
      },
      "outputs": [
        {
          "name": "stdout",
          "output_type": "stream",
          "text": [
            "Trial 17 Complete [00h 00m 04s]\n",
            "val_accuracy: 0.5\n",
            "\n",
            "Best val_accuracy So Far: 0.5333333611488342\n",
            "Total elapsed time: 00h 08m 40s\n",
            "\n",
            "Search: Running Trial #18\n",
            "\n",
            "Value             |Best Value So Far |Hyperparameter\n",
            "3                 |1                 |conv_layers\n",
            "128               |64                |filters_0\n",
            "3                 |3                 |kernel_size_0\n",
            "0.4               |0.4               |dropout_conv_0\n",
            "128               |32                |filters_1\n",
            "5                 |3                 |kernel_size_1\n",
            "0.3               |0.4               |dropout_conv_1\n",
            "2                 |3                 |dense_layers\n",
            "64                |128               |dense_units_0\n",
            "0.5               |0.3               |dropout_dense_0\n",
            "0.001             |0.01              |learning_rate\n",
            "32                |128               |dense_units_1\n",
            "0.4               |0.3               |dropout_dense_1\n",
            "32                |128               |dense_units_2\n",
            "0.3               |0.3               |dropout_dense_2\n",
            "32                |None              |filters_2\n",
            "5                 |None              |kernel_size_2\n",
            "0.3               |None              |dropout_conv_2\n",
            "\n",
            "Epoch 1/20\n",
            "4/4 [==============================] - 2s 154ms/step - loss: 1.9421 - accuracy: 0.1176 - val_loss: 1.9877 - val_accuracy: 0.1333\n",
            "Epoch 2/20\n",
            "4/4 [==============================] - 0s 66ms/step - loss: 1.7313 - accuracy: 0.4034 - val_loss: 2.0051 - val_accuracy: 0.1667\n",
            "Epoch 3/20\n",
            "4/4 [==============================] - 0s 67ms/step - loss: 1.5912 - accuracy: 0.3950 - val_loss: 2.1954 - val_accuracy: 0.5000\n",
            "Epoch 4/20\n",
            "4/4 [==============================] - 0s 58ms/step - loss: 1.3426 - accuracy: 0.5042 - val_loss: 2.8164 - val_accuracy: 0.5000\n",
            "Epoch 5/20\n",
            "4/4 [==============================] - 0s 57ms/step - loss: 1.2255 - accuracy: 0.5546 - val_loss: 3.1604 - val_accuracy: 0.5000\n",
            "Epoch 6/20\n",
            "4/4 [==============================] - 0s 55ms/step - loss: 1.3375 - accuracy: 0.5462 - val_loss: 3.0139 - val_accuracy: 0.5000\n",
            "Epoch 7/20\n",
            "4/4 [==============================] - 0s 79ms/step - loss: 1.3339 - accuracy: 0.4538 - val_loss: 2.5991 - val_accuracy: 0.5000\n",
            "Epoch 8/20\n",
            "4/4 [==============================] - 0s 103ms/step - loss: 1.2226 - accuracy: 0.5714 - val_loss: 2.4767 - val_accuracy: 0.5000\n",
            "Epoch 9/20\n",
            "4/4 [==============================] - 0s 94ms/step - loss: 1.1803 - accuracy: 0.5210 - val_loss: 2.6318 - val_accuracy: 0.5000\n",
            "Epoch 10/20\n",
            "4/4 [==============================] - 0s 90ms/step - loss: 1.1074 - accuracy: 0.5378 - val_loss: 3.0888 - val_accuracy: 0.5000\n",
            "Epoch 11/20\n",
            "4/4 [==============================] - 0s 86ms/step - loss: 1.0027 - accuracy: 0.5882 - val_loss: 3.8067 - val_accuracy: 0.5000\n",
            "Epoch 12/20\n",
            "4/4 [==============================] - 0s 86ms/step - loss: 1.0941 - accuracy: 0.5126 - val_loss: 4.3158 - val_accuracy: 0.5000\n",
            "Epoch 13/20\n",
            "4/4 [==============================] - 0s 90ms/step - loss: 1.0619 - accuracy: 0.5630 - val_loss: 4.3065 - val_accuracy: 0.5000\n",
            "Epoch 14/20\n",
            "4/4 [==============================] - 0s 92ms/step - loss: 1.0261 - accuracy: 0.5966 - val_loss: 4.0954 - val_accuracy: 0.5000\n",
            "Epoch 15/20\n",
            "4/4 [==============================] - 0s 89ms/step - loss: 1.0027 - accuracy: 0.5714 - val_loss: 4.0649 - val_accuracy: 0.5000\n",
            "Epoch 16/20\n",
            "3/4 [=====================>........] - ETA: 0s - loss: 0.9622 - accuracy: 0.5417"
          ]
        }
      ],
      "source": [
        "import tensorflow as tf\n",
        "from tensorflow import keras\n",
        "from tensorflow.keras import layers\n",
        "from kerastuner.tuners import BayesianOptimization\n",
        "tuner = BayesianOptimization(\n",
        "    build_model,\n",
        "    objective='val_accuracy',\n",
        "    max_trials=150,  # Adjust as needed\n",
        "    directory='tuner_dir',\n",
        "    project_name='multiclass_classification'\n",
        ")\n",
        "\n",
        "# Start the search\n",
        "tuner.search(X_train_normalized, y_train_encoded, epochs=20, validation_split=0.2)\n",
        "\n",
        "# Get the best model\n",
        "best_model = tuner.get_best_models(num_models=1)[0]\n",
        "\n",
        "# Evaluate the best model on the test set\n",
        "test_loss, test_acc = best_model.evaluate(X_test_normalized, y_test_encoded)\n",
        "print(f\"Test accuracy: {test_acc}\")\n",
        "\n",
        "# Summary of the best model\n",
        "print(best_model.summary())"
      ]
    },
    {
      "cell_type": "code",
      "execution_count": null,
      "metadata": {
        "colab": {
          "base_uri": "https://localhost:8080/"
        },
        "id": "VMSrMdEc_AgM",
        "outputId": "47433086-99d6-40a2-cb10-93a99bb86849"
      },
      "outputs": [
        {
          "data": {
            "text/plain": [
              "(596, 142)"
            ]
          },
          "execution_count": 15,
          "metadata": {},
          "output_type": "execute_result"
        }
      ],
      "source": [
        "df= pd.read_csv('Xrd_train.csv')\n",
        "df.shape"
      ]
    },
    {
      "cell_type": "code",
      "execution_count": null,
      "metadata": {
        "colab": {
          "base_uri": "https://localhost:8080/"
        },
        "id": "mjHUTd96_MDe",
        "outputId": "f9f1ad46-33bd-492b-c553-2508c0282b74"
      },
      "outputs": [
        {
          "data": {
            "text/plain": [
              "0          trigonal\n",
              "1        tetragonal\n",
              "2      orthorhombic\n",
              "3      orthorhombic\n",
              "4             cubic\n",
              "           ...     \n",
              "591      monoclinic\n",
              "592        trigonal\n",
              "593    orthorhombic\n",
              "594        trigonal\n",
              "595      monoclinic\n",
              "Name: crystal_system, Length: 596, dtype: object"
            ]
          },
          "execution_count": 16,
          "metadata": {},
          "output_type": "execute_result"
        }
      ],
      "source": [
        "X_train=df.iloc[:,14:]\n",
        "y_train=df['crystal_system']\n",
        "\n",
        "y_train"
      ]
    },
    {
      "cell_type": "code",
      "execution_count": null,
      "metadata": {
        "colab": {
          "base_uri": "https://localhost:8080/"
        },
        "id": "WAum3YZQ_QjG",
        "outputId": "cc07dd21-560a-4152-ae3b-fc591402292d"
      },
      "outputs": [
        {
          "data": {
            "text/plain": [
              "(596, 128)"
            ]
          },
          "execution_count": 17,
          "metadata": {},
          "output_type": "execute_result"
        }
      ],
      "source": [
        "X_train.shape"
      ]
    },
    {
      "cell_type": "code",
      "execution_count": null,
      "metadata": {
        "colab": {
          "base_uri": "https://localhost:8080/"
        },
        "id": "GE5dwYhi_YjL",
        "outputId": "9c770f6f-6fc1-429c-e785-a385aa04f210"
      },
      "outputs": [
        {
          "data": {
            "text/plain": [
              "0          cubic\n",
              "1          cubic\n",
              "2      triclinic\n",
              "3      triclinic\n",
              "4      triclinic\n",
              "         ...    \n",
              "144     trigonal\n",
              "145        cubic\n",
              "146     trigonal\n",
              "147    hexagonal\n",
              "148        cubic\n",
              "Name: crystal_system, Length: 149, dtype: object"
            ]
          },
          "execution_count": 18,
          "metadata": {},
          "output_type": "execute_result"
        }
      ],
      "source": [
        "df=pd.read_csv('Xrd_test.csv')\n",
        "X_test=df.iloc[:,14:]\n",
        "\n",
        "y_test=df['crystal_system']\n",
        "\n",
        "y_test"
      ]
    },
    {
      "cell_type": "code",
      "execution_count": null,
      "metadata": {
        "colab": {
          "base_uri": "https://localhost:8080/"
        },
        "id": "qcQ-NdAU_eQB",
        "outputId": "c22d7a5b-f085-416a-b7a9-a8edaed945ef"
      },
      "outputs": [
        {
          "data": {
            "text/plain": [
              "(149, 128)"
            ]
          },
          "execution_count": 19,
          "metadata": {},
          "output_type": "execute_result"
        }
      ],
      "source": [
        "X_test.shape"
      ]
    },
    {
      "cell_type": "code",
      "execution_count": null,
      "metadata": {
        "id": "UpVB2ZL7_iMN"
      },
      "outputs": [],
      "source": [
        "from sklearn.preprocessing import StandardScaler\n",
        "from sklearn.preprocessing import OneHotEncoder\n",
        "\n",
        "# Data Preprocessing\n",
        "# Create a scaler object\n",
        "scaler = StandardScaler()\n",
        "\n",
        "# Fit scaler on the training data\n",
        "scaler.fit(X_train)\n",
        "\n",
        "# Apply the scaler to both the training and test data\n",
        "X_train_normalized = scaler.transform(X_train)\n",
        "X_test_normalized = scaler.transform(X_test)\n",
        "\n",
        "# Convert pandas Series to NumPy array and reshape\n",
        "y_train_array = y_train.to_numpy().reshape(-1, 1)\n",
        "y_test_array = y_test.to_numpy().reshape(-1, 1)\n",
        "\n",
        "# Initialize the OneHotEncoder\n",
        "encoder = OneHotEncoder()\n",
        "\n",
        "# Apply one-hot encoding\n",
        "y_train_encoded = encoder.fit_transform(y_train_array).toarray()\n",
        "y_test_encoded = encoder.transform(y_test_array).toarray()"
      ]
    },
    {
      "cell_type": "code",
      "execution_count": null,
      "metadata": {
        "id": "2Ihpx3sN_n1d"
      },
      "outputs": [],
      "source": [
        "def build_model(hp):\n",
        "    inputs = keras.Input(shape=(128, 1))\n",
        "    x = inputs\n",
        "\n",
        "    # Loop for convolutional layers\n",
        "    for i in range(hp.Int(\"conv_layers\", 1, 7, default=2)):\n",
        "        x = layers.Conv1D(\n",
        "            filters=hp.Int(\"filters_\" + str(i), 7, 128, step=12, default=64),\n",
        "            kernel_size=hp.Choice(\"kernel_size_\" + str(i), [3, 5]),\n",
        "            activation=\"relu\",\n",
        "            padding=\"same\",\n",
        "        )(x)\n",
        "        x = layers.MaxPooling1D(pool_size=2)(x)\n",
        "        x = layers.Dropout(hp.Float('dropout_conv_' + str(i), 0.3, 0.5, step=0.1, default=0.2))(x)\n",
        "\n",
        "    x = layers.Flatten()(x)\n",
        "\n",
        "    # Loop for dense layers\n",
        "    for i in range(hp.Int(\"dense_layers\", 1, 7, default=1)):\n",
        "        x = layers.Dense(\n",
        "            units=hp.Int('dense_units_' + str(i), min_value=7, max_value=128, step=12, default=128),\n",
        "            activation='relu',\n",
        "        )(x)\n",
        "        x = layers.Dropout(hp.Float('dropout_dense_' + str(i), 0.3, 0.5, step=0.1, default=0.3))(x)\n",
        "\n",
        "    outputs = layers.Dense(len(encoder.categories_[0]), activation=\"softmax\")(x)  # Number of classes\n",
        "\n",
        "    model = keras.Model(inputs, outputs)\n",
        "\n",
        "    model.compile(\n",
        "        optimizer=keras.optimizers.Adam(\n",
        "            hp.Choice('learning_rate', values=[1e-2, 1e-3, 1e-4])\n",
        "        ),\n",
        "        loss='categorical_crossentropy',\n",
        "        metrics=['accuracy']\n",
        "    )\n",
        "    return model"
      ]
    },
    {
      "cell_type": "code",
      "execution_count": null,
      "metadata": {
        "colab": {
          "background_save": true,
          "base_uri": "https://localhost:8080/"
        },
        "id": "iyKa3SThBRZW",
        "outputId": "2d9cc1cd-271a-4afa-f2b0-7348e859f3ff"
      },
      "outputs": [
        {
          "name": "stdout",
          "output_type": "stream",
          "text": [
            "Trial 390 Complete [00h 00m 16s]\n",
            "val_accuracy: 0.5416666865348816\n",
            "\n",
            "Best val_accuracy So Far: 0.6416666507720947\n",
            "Total elapsed time: 02h 08m 34s\n",
            "\n",
            "Search: Running Trial #391\n",
            "\n",
            "Value             |Best Value So Far |Hyperparameter\n",
            "4                 |3                 |conv_layers\n",
            "91                |127               |filters_0\n",
            "5                 |5                 |kernel_size_0\n",
            "0.4               |0.4               |dropout_conv_0\n",
            "67                |31                |filters_1\n",
            "5                 |3                 |kernel_size_1\n",
            "0.3               |0.5               |dropout_conv_1\n",
            "1                 |1                 |dense_layers\n",
            "19                |103               |dense_units_0\n",
            "0.5               |0.3               |dropout_dense_0\n",
            "0.01              |0.01              |learning_rate\n",
            "127               |43                |filters_2\n",
            "5                 |3                 |kernel_size_2\n",
            "0.4               |0.5               |dropout_conv_2\n",
            "19                |31                |filters_3\n",
            "3                 |3                 |kernel_size_3\n",
            "0.3               |0.4               |dropout_conv_3\n",
            "103               |67                |filters_4\n",
            "3                 |5                 |kernel_size_4\n",
            "0.5               |0.5               |dropout_conv_4\n",
            "103               |43                |filters_5\n",
            "3                 |5                 |kernel_size_5\n",
            "0.4               |0.3               |dropout_conv_5\n",
            "103               |79                |dense_units_1\n",
            "0.4               |0.3               |dropout_dense_1\n",
            "19                |19                |dense_units_2\n",
            "0.3               |0.3               |dropout_dense_2\n",
            "67                |43                |dense_units_3\n",
            "0.3               |0.5               |dropout_dense_3\n",
            "79                |127               |filters_6\n",
            "5                 |5                 |kernel_size_6\n",
            "0.5               |0.5               |dropout_conv_6\n",
            "91                |55                |dense_units_4\n",
            "0.5               |0.3               |dropout_dense_4\n",
            "31                |127               |dense_units_5\n",
            "0.3               |0.4               |dropout_dense_5\n",
            "31                |127               |dense_units_6\n",
            "0.4               |0.3               |dropout_dense_6\n",
            "\n",
            "Epoch 1/20\n",
            "15/15 [==============================] - 3s 62ms/step - loss: 1.5652 - accuracy: 0.5252 - val_loss: 1.6525 - val_accuracy: 0.5167\n",
            "Epoch 2/20\n"
          ]
        }
      ],
      "source": [
        "import tensorflow as tf\n",
        "from tensorflow import keras\n",
        "from tensorflow.keras import layers\n",
        "from kerastuner.tuners import BayesianOptimization\n",
        "tuner = BayesianOptimization(\n",
        "    build_model,\n",
        "    objective='val_accuracy',\n",
        "    max_trials=500,  # Adjust as needed\n",
        "    directory='tuner_dir',\n",
        "    project_name='multiclass_classification'\n",
        ")\n",
        "\n",
        "# Start the search\n",
        "tuner.search(X_train_normalized, y_train_encoded, epochs=20, validation_split=0.2)\n",
        "\n",
        "# Get the best model\n",
        "best_model = tuner.get_best_models(num_models=1)[0]\n",
        "\n",
        "# Evaluate the best model on the test set\n",
        "test_loss, test_acc = best_model.evaluate(X_test_normalized, y_test_encoded)\n",
        "print(f\"Test accuracy: {test_acc}\")\n",
        "\n",
        "# Summary of the best model\n",
        "print(best_model.summary())"
      ]
    },
    {
      "cell_type": "code",
      "execution_count": 12,
      "metadata": {
        "colab": {
          "base_uri": "https://localhost:8080/"
        },
        "outputId": "42a35f02-4883-44d5-a818-26e4e1155cb2",
        "id": "sq0wR1muWTwx"
      },
      "outputs": [
        {
          "output_type": "execute_result",
          "data": {
            "text/plain": [
              "(595, 1038)"
            ]
          },
          "metadata": {},
          "execution_count": 12
        }
      ],
      "source": [
        "df= pd.read_csv('Orbital_train.csv')\n",
        "df.shape"
      ]
    },
    {
      "cell_type": "code",
      "execution_count": 13,
      "metadata": {
        "colab": {
          "base_uri": "https://localhost:8080/"
        },
        "outputId": "63a737dc-a593-4bf1-bff4-0dc89ec8f019",
        "id": "eyZKw31EXQJ3"
      },
      "outputs": [
        {
          "output_type": "execute_result",
          "data": {
            "text/plain": [
              "0          trigonal\n",
              "1        tetragonal\n",
              "2      orthorhombic\n",
              "3      orthorhombic\n",
              "4             cubic\n",
              "           ...     \n",
              "590    orthorhombic\n",
              "591        trigonal\n",
              "592      monoclinic\n",
              "593       triclinic\n",
              "594        trigonal\n",
              "Name: crystal_system, Length: 595, dtype: object"
            ]
          },
          "metadata": {},
          "execution_count": 13
        }
      ],
      "source": [
        "X_train=df.iloc[:,14:]\n",
        "y_train=df['crystal_system']\n",
        "\n",
        "y_train"
      ]
    },
    {
      "cell_type": "code",
      "execution_count": 14,
      "metadata": {
        "colab": {
          "base_uri": "https://localhost:8080/"
        },
        "outputId": "c6d016ef-bf91-4c82-9c4d-fc44e6872e4d",
        "id": "b4yD0OzXXVbh"
      },
      "outputs": [
        {
          "output_type": "execute_result",
          "data": {
            "text/plain": [
              "(595, 1024)"
            ]
          },
          "metadata": {},
          "execution_count": 14
        }
      ],
      "source": [
        "X_train.shape"
      ]
    },
    {
      "cell_type": "code",
      "execution_count": 15,
      "metadata": {
        "colab": {
          "base_uri": "https://localhost:8080/"
        },
        "outputId": "2d88508c-94bd-4559-efaf-85c647316576",
        "id": "ajh9EKe2XZ_t"
      },
      "outputs": [
        {
          "output_type": "execute_result",
          "data": {
            "text/plain": [
              "0           cubic\n",
              "1           cubic\n",
              "2       triclinic\n",
              "3       triclinic\n",
              "4       triclinic\n",
              "          ...    \n",
              "144    monoclinic\n",
              "145      trigonal\n",
              "146     hexagonal\n",
              "147         cubic\n",
              "148         cubic\n",
              "Name: crystal_system, Length: 149, dtype: object"
            ]
          },
          "metadata": {},
          "execution_count": 15
        }
      ],
      "source": [
        "df=pd.read_csv('Orbital_test.csv')\n",
        "X_test=df.iloc[:,14:]\n",
        "\n",
        "y_test=df['crystal_system']\n",
        "\n",
        "y_test"
      ]
    },
    {
      "cell_type": "code",
      "execution_count": 16,
      "metadata": {
        "colab": {
          "base_uri": "https://localhost:8080/"
        },
        "outputId": "a2abff31-7b54-4dd4-c1d8-79bcf3198f20",
        "id": "AnAs5lo5XeZ1"
      },
      "outputs": [
        {
          "output_type": "execute_result",
          "data": {
            "text/plain": [
              "(149, 1024)"
            ]
          },
          "metadata": {},
          "execution_count": 16
        }
      ],
      "source": [
        "X_test.shape"
      ]
    },
    {
      "cell_type": "code",
      "execution_count": 17,
      "metadata": {
        "id": "WWGT_XB9Xocg"
      },
      "outputs": [],
      "source": [
        "from sklearn.preprocessing import StandardScaler\n",
        "from sklearn.preprocessing import OneHotEncoder\n",
        "\n",
        "# Data Preprocessing\n",
        "# Create a scaler object\n",
        "scaler = StandardScaler()\n",
        "\n",
        "# Fit scaler on the training data\n",
        "scaler.fit(X_train)\n",
        "\n",
        "# Apply the scaler to both the training and test data\n",
        "X_train_normalized = scaler.transform(X_train)\n",
        "X_test_normalized = scaler.transform(X_test)\n",
        "\n",
        "# Convert pandas Series to NumPy array and reshape\n",
        "y_train_array = y_train.to_numpy().reshape(-1, 1)\n",
        "y_test_array = y_test.to_numpy().reshape(-1, 1)\n",
        "\n",
        "# Initialize the OneHotEncoder\n",
        "encoder = OneHotEncoder()\n",
        "\n",
        "# Apply one-hot encoding\n",
        "y_train_encoded = encoder.fit_transform(y_train_array).toarray()\n",
        "y_test_encoded = encoder.transform(y_test_array).toarray()"
      ]
    },
    {
      "cell_type": "code",
      "execution_count": 18,
      "metadata": {
        "id": "vrZe0B7iYBff"
      },
      "outputs": [],
      "source": [
        "def build_model(hp):\n",
        "    inputs = keras.Input(shape=(1024, 1))\n",
        "    x = inputs\n",
        "\n",
        "    # Loop for convolutional layers\n",
        "    for i in range(hp.Int(\"conv_layers\", 1, 7, default=2)):\n",
        "        x = layers.Conv1D(\n",
        "            filters=hp.Int(\"filters_\" + str(i), 7, 128, step=12, default=64),\n",
        "            kernel_size=hp.Choice(\"kernel_size_\" + str(i), [3, 5]),\n",
        "            activation=\"relu\",\n",
        "            padding=\"same\",\n",
        "        )(x)\n",
        "        x = layers.MaxPooling1D(pool_size=2)(x)\n",
        "        x = layers.Dropout(hp.Float('dropout_conv_' + str(i), 0.3, 0.5, step=0.1, default=0.2))(x)\n",
        "\n",
        "    x = layers.Flatten()(x)\n",
        "\n",
        "    # Loop for dense layers\n",
        "    for i in range(hp.Int(\"dense_layers\", 1, 7, default=1)):\n",
        "        x = layers.Dense(\n",
        "            units=hp.Int('dense_units_' + str(i), min_value=7, max_value=128, step=12, default=128),\n",
        "            activation='relu',\n",
        "        )(x)\n",
        "        x = layers.Dropout(hp.Float('dropout_dense_' + str(i), 0.3, 0.5, step=0.1, default=0.3))(x)\n",
        "\n",
        "    outputs = layers.Dense(len(encoder.categories_[0]), activation=\"softmax\")(x)  # Number of classes\n",
        "\n",
        "    model = keras.Model(inputs, outputs)\n",
        "\n",
        "    model.compile(\n",
        "        optimizer=keras.optimizers.Adam(\n",
        "            hp.Choice('learning_rate', values=[1e-2, 1e-3, 1e-4])\n",
        "        ),\n",
        "        loss='categorical_crossentropy',\n",
        "        metrics=['accuracy']\n",
        "    )\n",
        "    return model"
      ]
    },
    {
      "cell_type": "code",
      "execution_count": 19,
      "metadata": {
        "colab": {
          "base_uri": "https://localhost:8080/"
        },
        "outputId": "f14a0133-2f6e-42bf-8e6a-4ba5fefbddf2",
        "id": "fNhBX7PSYJA3"
      },
      "outputs": [
        {
          "output_type": "stream",
          "name": "stdout",
          "text": [
            "Trial 150 Complete [00h 01m 29s]\n",
            "val_accuracy: 0.5210084319114685\n",
            "\n",
            "Best val_accuracy So Far: 0.5630252361297607\n",
            "Total elapsed time: 01h 52m 05s\n",
            "5/5 [==============================] - 1s 44ms/step - loss: 0.9523 - accuracy: 0.6242\n",
            "Test accuracy: 0.6241610646247864\n",
            "Model: \"model\"\n",
            "_________________________________________________________________\n",
            " Layer (type)                Output Shape              Param #   \n",
            "=================================================================\n",
            " input_1 (InputLayer)        [(None, 1024, 1)]         0         \n",
            "                                                                 \n",
            " conv1d (Conv1D)             (None, 1024, 67)          402       \n",
            "                                                                 \n",
            " max_pooling1d (MaxPooling1  (None, 512, 67)           0         \n",
            " D)                                                              \n",
            "                                                                 \n",
            " dropout (Dropout)           (None, 512, 67)           0         \n",
            "                                                                 \n",
            " conv1d_1 (Conv1D)           (None, 512, 67)           22512     \n",
            "                                                                 \n",
            " max_pooling1d_1 (MaxPoolin  (None, 256, 67)           0         \n",
            " g1D)                                                            \n",
            "                                                                 \n",
            " dropout_1 (Dropout)         (None, 256, 67)           0         \n",
            "                                                                 \n",
            " conv1d_2 (Conv1D)           (None, 256, 127)          25654     \n",
            "                                                                 \n",
            " max_pooling1d_2 (MaxPoolin  (None, 128, 127)          0         \n",
            " g1D)                                                            \n",
            "                                                                 \n",
            " dropout_2 (Dropout)         (None, 128, 127)          0         \n",
            "                                                                 \n",
            " conv1d_3 (Conv1D)           (None, 128, 55)           21010     \n",
            "                                                                 \n",
            " max_pooling1d_3 (MaxPoolin  (None, 64, 55)            0         \n",
            " g1D)                                                            \n",
            "                                                                 \n",
            " dropout_3 (Dropout)         (None, 64, 55)            0         \n",
            "                                                                 \n",
            " flatten (Flatten)           (None, 3520)              0         \n",
            "                                                                 \n",
            " dense (Dense)               (None, 67)                235907    \n",
            "                                                                 \n",
            " dropout_4 (Dropout)         (None, 67)                0         \n",
            "                                                                 \n",
            " dense_1 (Dense)             (None, 7)                 476       \n",
            "                                                                 \n",
            "=================================================================\n",
            "Total params: 305961 (1.17 MB)\n",
            "Trainable params: 305961 (1.17 MB)\n",
            "Non-trainable params: 0 (0.00 Byte)\n",
            "_________________________________________________________________\n",
            "None\n"
          ]
        }
      ],
      "source": [
        "import tensorflow as tf\n",
        "from tensorflow import keras\n",
        "from tensorflow.keras import layers\n",
        "from kerastuner.tuners import BayesianOptimization\n",
        "tuner = BayesianOptimization(\n",
        "    build_model,\n",
        "    objective='val_accuracy',\n",
        "    max_trials=150,  # Adjust as needed\n",
        "    directory='tuner_dir',\n",
        "    project_name='multiclass_classification'\n",
        ")\n",
        "\n",
        "# Start the search\n",
        "tuner.search(X_train_normalized, y_train_encoded, epochs=10, validation_split=0.2)\n",
        "\n",
        "# Get the best model\n",
        "best_model = tuner.get_best_models(num_models=1)[0]\n",
        "\n",
        "# Evaluate the best model on the test set\n",
        "test_loss, test_acc = best_model.evaluate(X_test_normalized, y_test_encoded)\n",
        "print(f\"Test accuracy: {test_acc}\")\n",
        "\n",
        "# Summary of the best model\n",
        "print(best_model.summary())"
      ]
    }
  ],
  "metadata": {
    "colab": {
      "provenance": [],
      "authorship_tag": "ABX9TyNafQ2pWFhZTOi7q8+UvOuR",
      "include_colab_link": true
    },
    "kernelspec": {
      "display_name": "Python 3",
      "name": "python3"
    },
    "language_info": {
      "name": "python"
    }
  },
  "nbformat": 4,
  "nbformat_minor": 0
}