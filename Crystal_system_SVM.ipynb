{
  "nbformat": 4,
  "nbformat_minor": 0,
  "metadata": {
    "colab": {
      "provenance": [],
      "authorship_tag": "ABX9TyM+Ql4mFpUlmzhHa29VcHqq",
      "include_colab_link": true
    },
    "kernelspec": {
      "name": "python3",
      "display_name": "Python 3"
    },
    "language_info": {
      "name": "python"
    }
  },
  "cells": [
    {
      "cell_type": "markdown",
      "metadata": {
        "id": "view-in-github",
        "colab_type": "text"
      },
      "source": [
        "<a href=\"https://colab.research.google.com/github/TuragDev/ML-Python-Codes/blob/main/Crystal_system_SVM.ipynb\" target=\"_parent\"><img src=\"https://colab.research.google.com/assets/colab-badge.svg\" alt=\"Open In Colab\"/></a>"
      ]
    },
    {
      "cell_type": "code",
      "execution_count": 7,
      "metadata": {
        "id": "pswgzCDsKWMa",
        "colab": {
          "base_uri": "https://localhost:8080/",
          "height": 73
        },
        "outputId": "3f9edb13-d3d0-4332-c9f5-49501253bee3"
      },
      "outputs": [
        {
          "output_type": "display_data",
          "data": {
            "text/plain": [
              "<IPython.core.display.HTML object>"
            ],
            "text/html": [
              "\n",
              "     <input type=\"file\" id=\"files-227d690e-1b6d-4fd1-9aa7-d38fb9539d53\" name=\"files[]\" multiple disabled\n",
              "        style=\"border:none\" />\n",
              "     <output id=\"result-227d690e-1b6d-4fd1-9aa7-d38fb9539d53\">\n",
              "      Upload widget is only available when the cell has been executed in the\n",
              "      current browser session. Please rerun this cell to enable.\n",
              "      </output>\n",
              "      <script>// Copyright 2017 Google LLC\n",
              "//\n",
              "// Licensed under the Apache License, Version 2.0 (the \"License\");\n",
              "// you may not use this file except in compliance with the License.\n",
              "// You may obtain a copy of the License at\n",
              "//\n",
              "//      http://www.apache.org/licenses/LICENSE-2.0\n",
              "//\n",
              "// Unless required by applicable law or agreed to in writing, software\n",
              "// distributed under the License is distributed on an \"AS IS\" BASIS,\n",
              "// WITHOUT WARRANTIES OR CONDITIONS OF ANY KIND, either express or implied.\n",
              "// See the License for the specific language governing permissions and\n",
              "// limitations under the License.\n",
              "\n",
              "/**\n",
              " * @fileoverview Helpers for google.colab Python module.\n",
              " */\n",
              "(function(scope) {\n",
              "function span(text, styleAttributes = {}) {\n",
              "  const element = document.createElement('span');\n",
              "  element.textContent = text;\n",
              "  for (const key of Object.keys(styleAttributes)) {\n",
              "    element.style[key] = styleAttributes[key];\n",
              "  }\n",
              "  return element;\n",
              "}\n",
              "\n",
              "// Max number of bytes which will be uploaded at a time.\n",
              "const MAX_PAYLOAD_SIZE = 100 * 1024;\n",
              "\n",
              "function _uploadFiles(inputId, outputId) {\n",
              "  const steps = uploadFilesStep(inputId, outputId);\n",
              "  const outputElement = document.getElementById(outputId);\n",
              "  // Cache steps on the outputElement to make it available for the next call\n",
              "  // to uploadFilesContinue from Python.\n",
              "  outputElement.steps = steps;\n",
              "\n",
              "  return _uploadFilesContinue(outputId);\n",
              "}\n",
              "\n",
              "// This is roughly an async generator (not supported in the browser yet),\n",
              "// where there are multiple asynchronous steps and the Python side is going\n",
              "// to poll for completion of each step.\n",
              "// This uses a Promise to block the python side on completion of each step,\n",
              "// then passes the result of the previous step as the input to the next step.\n",
              "function _uploadFilesContinue(outputId) {\n",
              "  const outputElement = document.getElementById(outputId);\n",
              "  const steps = outputElement.steps;\n",
              "\n",
              "  const next = steps.next(outputElement.lastPromiseValue);\n",
              "  return Promise.resolve(next.value.promise).then((value) => {\n",
              "    // Cache the last promise value to make it available to the next\n",
              "    // step of the generator.\n",
              "    outputElement.lastPromiseValue = value;\n",
              "    return next.value.response;\n",
              "  });\n",
              "}\n",
              "\n",
              "/**\n",
              " * Generator function which is called between each async step of the upload\n",
              " * process.\n",
              " * @param {string} inputId Element ID of the input file picker element.\n",
              " * @param {string} outputId Element ID of the output display.\n",
              " * @return {!Iterable<!Object>} Iterable of next steps.\n",
              " */\n",
              "function* uploadFilesStep(inputId, outputId) {\n",
              "  const inputElement = document.getElementById(inputId);\n",
              "  inputElement.disabled = false;\n",
              "\n",
              "  const outputElement = document.getElementById(outputId);\n",
              "  outputElement.innerHTML = '';\n",
              "\n",
              "  const pickedPromise = new Promise((resolve) => {\n",
              "    inputElement.addEventListener('change', (e) => {\n",
              "      resolve(e.target.files);\n",
              "    });\n",
              "  });\n",
              "\n",
              "  const cancel = document.createElement('button');\n",
              "  inputElement.parentElement.appendChild(cancel);\n",
              "  cancel.textContent = 'Cancel upload';\n",
              "  const cancelPromise = new Promise((resolve) => {\n",
              "    cancel.onclick = () => {\n",
              "      resolve(null);\n",
              "    };\n",
              "  });\n",
              "\n",
              "  // Wait for the user to pick the files.\n",
              "  const files = yield {\n",
              "    promise: Promise.race([pickedPromise, cancelPromise]),\n",
              "    response: {\n",
              "      action: 'starting',\n",
              "    }\n",
              "  };\n",
              "\n",
              "  cancel.remove();\n",
              "\n",
              "  // Disable the input element since further picks are not allowed.\n",
              "  inputElement.disabled = true;\n",
              "\n",
              "  if (!files) {\n",
              "    return {\n",
              "      response: {\n",
              "        action: 'complete',\n",
              "      }\n",
              "    };\n",
              "  }\n",
              "\n",
              "  for (const file of files) {\n",
              "    const li = document.createElement('li');\n",
              "    li.append(span(file.name, {fontWeight: 'bold'}));\n",
              "    li.append(span(\n",
              "        `(${file.type || 'n/a'}) - ${file.size} bytes, ` +\n",
              "        `last modified: ${\n",
              "            file.lastModifiedDate ? file.lastModifiedDate.toLocaleDateString() :\n",
              "                                    'n/a'} - `));\n",
              "    const percent = span('0% done');\n",
              "    li.appendChild(percent);\n",
              "\n",
              "    outputElement.appendChild(li);\n",
              "\n",
              "    const fileDataPromise = new Promise((resolve) => {\n",
              "      const reader = new FileReader();\n",
              "      reader.onload = (e) => {\n",
              "        resolve(e.target.result);\n",
              "      };\n",
              "      reader.readAsArrayBuffer(file);\n",
              "    });\n",
              "    // Wait for the data to be ready.\n",
              "    let fileData = yield {\n",
              "      promise: fileDataPromise,\n",
              "      response: {\n",
              "        action: 'continue',\n",
              "      }\n",
              "    };\n",
              "\n",
              "    // Use a chunked sending to avoid message size limits. See b/62115660.\n",
              "    let position = 0;\n",
              "    do {\n",
              "      const length = Math.min(fileData.byteLength - position, MAX_PAYLOAD_SIZE);\n",
              "      const chunk = new Uint8Array(fileData, position, length);\n",
              "      position += length;\n",
              "\n",
              "      const base64 = btoa(String.fromCharCode.apply(null, chunk));\n",
              "      yield {\n",
              "        response: {\n",
              "          action: 'append',\n",
              "          file: file.name,\n",
              "          data: base64,\n",
              "        },\n",
              "      };\n",
              "\n",
              "      let percentDone = fileData.byteLength === 0 ?\n",
              "          100 :\n",
              "          Math.round((position / fileData.byteLength) * 100);\n",
              "      percent.textContent = `${percentDone}% done`;\n",
              "\n",
              "    } while (position < fileData.byteLength);\n",
              "  }\n",
              "\n",
              "  // All done.\n",
              "  yield {\n",
              "    response: {\n",
              "      action: 'complete',\n",
              "    }\n",
              "  };\n",
              "}\n",
              "\n",
              "scope.google = scope.google || {};\n",
              "scope.google.colab = scope.google.colab || {};\n",
              "scope.google.colab._files = {\n",
              "  _uploadFiles,\n",
              "  _uploadFilesContinue,\n",
              "};\n",
              "})(self);\n",
              "</script> "
            ]
          },
          "metadata": {}
        },
        {
          "output_type": "stream",
          "name": "stdout",
          "text": [
            "Saving Xrd_MP.csv to Xrd_MP.csv\n"
          ]
        }
      ],
      "source": [
        "from google.colab import files\n",
        "uploaded= files.upload()"
      ]
    },
    {
      "cell_type": "code",
      "execution_count": 3,
      "metadata": {
        "id": "68261b12"
      },
      "outputs": [],
      "source": [
        "import joblib\n",
        "from sklearn.model_selection import train_test_split\n",
        "import numpy as np\n",
        "\n",
        "import pandas as pd\n",
        "\n",
        "from sklearn.model_selection import GridSearchCV, RepeatedKFold\n",
        "from sklearn.model_selection import train_test_split\n",
        "from sklearn.metrics import mean_squared_error as MSE\n",
        "from sklearn.preprocessing import StandardScaler\n",
        "from sklearn.metrics import mean_squared_error, r2_score\n",
        "\n",
        "from sklearn.model_selection import train_test_split\n",
        "\n",
        "import numpy as np\n",
        "\n",
        "import pickle\n",
        "import pandas as pd\n",
        "from sklearn.preprocessing import LabelEncoder\n",
        "\n",
        "import sys\n",
        "# In[3]:\n",
        "\n",
        "\n",
        "from sklearn import svm\n",
        "from sklearn.model_selection import GridSearchCV\n",
        "\n",
        "\n",
        "from numpy import mean\n",
        "from numpy import std\n",
        "from sklearn.datasets import make_classification\n",
        "from sklearn.model_selection import KFold\n",
        "from sklearn.model_selection import GridSearchCV\n",
        "from sklearn.ensemble import RandomForestClassifier\n",
        "from sklearn.metrics import accuracy_score\n",
        "import matplotlib.pyplot as plt\n",
        "from pandas import read_csv\n",
        "from sklearn.model_selection import cross_val_score\n",
        "from sklearn.svm import SVC\n",
        "from sklearn.model_selection import RepeatedStratifiedKFold\n",
        "from skopt import BayesSearchCV\n"
      ]
    },
    {
      "cell_type": "code",
      "source": [
        "!pip install scikit-optimize"
      ],
      "metadata": {
        "colab": {
          "base_uri": "https://localhost:8080/"
        },
        "id": "GdBqoU499GGX",
        "outputId": "3cc05fbf-0be9-408d-bb4f-3fbc25836978"
      },
      "execution_count": 2,
      "outputs": [
        {
          "output_type": "stream",
          "name": "stdout",
          "text": [
            "Collecting scikit-optimize\n",
            "  Downloading scikit_optimize-0.9.0-py2.py3-none-any.whl (100 kB)\n",
            "\u001b[?25l     \u001b[90m━━━━━━━━━━━━━━━━━━━━━━━━━━━━━━━━━━━━━━━━\u001b[0m \u001b[32m0.0/100.3 kB\u001b[0m \u001b[31m?\u001b[0m eta \u001b[36m-:--:--\u001b[0m\r\u001b[2K     \u001b[91m━━━━━━━━━━━━━━━━━━━━━━━━━━━━━━━━\u001b[0m\u001b[91m╸\u001b[0m\u001b[90m━━━━━━━\u001b[0m \u001b[32m81.9/100.3 kB\u001b[0m \u001b[31m2.4 MB/s\u001b[0m eta \u001b[36m0:00:01\u001b[0m\r\u001b[2K     \u001b[90m━━━━━━━━━━━━━━━━━━━━━━━━━━━━━━━━━━━━━━━\u001b[0m \u001b[32m100.3/100.3 kB\u001b[0m \u001b[31m2.1 MB/s\u001b[0m eta \u001b[36m0:00:00\u001b[0m\n",
            "\u001b[?25hRequirement already satisfied: joblib>=0.11 in /usr/local/lib/python3.10/dist-packages (from scikit-optimize) (1.3.2)\n",
            "Collecting pyaml>=16.9 (from scikit-optimize)\n",
            "  Downloading pyaml-23.7.0-py3-none-any.whl (17 kB)\n",
            "Requirement already satisfied: numpy>=1.13.3 in /usr/local/lib/python3.10/dist-packages (from scikit-optimize) (1.23.5)\n",
            "Requirement already satisfied: scipy>=0.19.1 in /usr/local/lib/python3.10/dist-packages (from scikit-optimize) (1.10.1)\n",
            "Requirement already satisfied: scikit-learn>=0.20.0 in /usr/local/lib/python3.10/dist-packages (from scikit-optimize) (1.2.2)\n",
            "Requirement already satisfied: PyYAML in /usr/local/lib/python3.10/dist-packages (from pyaml>=16.9->scikit-optimize) (6.0.1)\n",
            "Requirement already satisfied: threadpoolctl>=2.0.0 in /usr/local/lib/python3.10/dist-packages (from scikit-learn>=0.20.0->scikit-optimize) (3.2.0)\n",
            "Installing collected packages: pyaml, scikit-optimize\n",
            "Successfully installed pyaml-23.7.0 scikit-optimize-0.9.0\n"
          ]
        }
      ]
    },
    {
      "cell_type": "code",
      "source": [
        "df= pd.read_csv('Xrd_MP.csv')\n",
        "df.head()"
      ],
      "metadata": {
        "colab": {
          "base_uri": "https://localhost:8080/",
          "height": 533
        },
        "id": "8fAe7jNTVg9w",
        "outputId": "46cd874b-04bc-414a-b61b-ebb32d83137d"
      },
      "execution_count": 8,
      "outputs": [
        {
          "output_type": "execute_result",
          "data": {
            "text/plain": [
              "  material_id pretty_formula  energy_per_atom  \\\n",
              "0    mp-27705          Li2Si        -3.294066   \n",
              "1   mp-570363           LiSi        -3.658968   \n",
              "2    mp-29720        Li21Si5        -2.812315   \n",
              "3    mp-27930         Li7Si2        -2.904238   \n",
              "4   mp-672287        Li13Si4        -2.987046   \n",
              "\n",
              "                                           structure  e_above_hull  band_gap  \\\n",
              "0  Full Formula (Li4 Si2)\\nReduced Formula: Li2Si...      0.046608    0.0000   \n",
              "1  Full Formula (Li8 Si8)\\nReduced Formula: LiSi\\...      0.205725    1.4682   \n",
              "2  Full Formula (Li84 Si20)\\nReduced Formula: Li2...      0.000000    0.0000   \n",
              "3  Full Formula (Li28 Si8)\\nReduced Formula: Li7S...      0.029674    0.0000   \n",
              "4  Full Formula (Li26 Si8)\\nReduced Formula: Li13...      0.000000    0.0000   \n",
              "\n",
              "   formation_energy_per_atom crystal_system      energy  Category_label  ...  \\\n",
              "0                  -0.213654       trigonal  -19.764397             1.0  ...   \n",
              "1                   0.007188     tetragonal  -58.543496             1.0  ...   \n",
              "2                  -0.227533          cubic -292.480749             1.0  ...   \n",
              "3                  -0.214322   orthorhombic -104.552560             1.0  ...   \n",
              "4                  -0.251190   orthorhombic -101.559573             1.0  ...   \n",
              "\n",
              "    xrd_118   xrd_119   xrd_120   xrd_121   xrd_122   xrd_123   xrd_124  \\\n",
              "0  0.002162  0.002619  0.002953  0.003154  0.003249  0.003210  0.003192   \n",
              "1  0.002032  0.002409  0.001991  0.001076  0.000506  0.000666  0.001360   \n",
              "2  0.001831  0.001643  0.001513  0.001119  0.001145  0.002367  0.004537   \n",
              "3  0.003718  0.002883  0.002181  0.001723  0.001791  0.002365  0.002629   \n",
              "4  0.005844  0.004186  0.002611  0.001576  0.001251  0.001141  0.000795   \n",
              "\n",
              "    xrd_125   xrd_126   xrd_127  \n",
              "0  0.003604  0.004365  0.004365  \n",
              "1  0.001956  0.001856  0.001162  \n",
              "2  0.005994  0.005207  0.002917  \n",
              "3  0.002154  0.001434  0.000828  \n",
              "4  0.000355  0.000096  0.000015  \n",
              "\n",
              "[5 rows x 142 columns]"
            ],
            "text/html": [
              "\n",
              "  <div id=\"df-a5e438db-1bfe-4f01-aa6c-af8dc3097726\" class=\"colab-df-container\">\n",
              "    <div>\n",
              "<style scoped>\n",
              "    .dataframe tbody tr th:only-of-type {\n",
              "        vertical-align: middle;\n",
              "    }\n",
              "\n",
              "    .dataframe tbody tr th {\n",
              "        vertical-align: top;\n",
              "    }\n",
              "\n",
              "    .dataframe thead th {\n",
              "        text-align: right;\n",
              "    }\n",
              "</style>\n",
              "<table border=\"1\" class=\"dataframe\">\n",
              "  <thead>\n",
              "    <tr style=\"text-align: right;\">\n",
              "      <th></th>\n",
              "      <th>material_id</th>\n",
              "      <th>pretty_formula</th>\n",
              "      <th>energy_per_atom</th>\n",
              "      <th>structure</th>\n",
              "      <th>e_above_hull</th>\n",
              "      <th>band_gap</th>\n",
              "      <th>formation_energy_per_atom</th>\n",
              "      <th>crystal_system</th>\n",
              "      <th>energy</th>\n",
              "      <th>Category_label</th>\n",
              "      <th>...</th>\n",
              "      <th>xrd_118</th>\n",
              "      <th>xrd_119</th>\n",
              "      <th>xrd_120</th>\n",
              "      <th>xrd_121</th>\n",
              "      <th>xrd_122</th>\n",
              "      <th>xrd_123</th>\n",
              "      <th>xrd_124</th>\n",
              "      <th>xrd_125</th>\n",
              "      <th>xrd_126</th>\n",
              "      <th>xrd_127</th>\n",
              "    </tr>\n",
              "  </thead>\n",
              "  <tbody>\n",
              "    <tr>\n",
              "      <th>0</th>\n",
              "      <td>mp-27705</td>\n",
              "      <td>Li2Si</td>\n",
              "      <td>-3.294066</td>\n",
              "      <td>Full Formula (Li4 Si2)\\nReduced Formula: Li2Si...</td>\n",
              "      <td>0.046608</td>\n",
              "      <td>0.0000</td>\n",
              "      <td>-0.213654</td>\n",
              "      <td>trigonal</td>\n",
              "      <td>-19.764397</td>\n",
              "      <td>1.0</td>\n",
              "      <td>...</td>\n",
              "      <td>0.002162</td>\n",
              "      <td>0.002619</td>\n",
              "      <td>0.002953</td>\n",
              "      <td>0.003154</td>\n",
              "      <td>0.003249</td>\n",
              "      <td>0.003210</td>\n",
              "      <td>0.003192</td>\n",
              "      <td>0.003604</td>\n",
              "      <td>0.004365</td>\n",
              "      <td>0.004365</td>\n",
              "    </tr>\n",
              "    <tr>\n",
              "      <th>1</th>\n",
              "      <td>mp-570363</td>\n",
              "      <td>LiSi</td>\n",
              "      <td>-3.658968</td>\n",
              "      <td>Full Formula (Li8 Si8)\\nReduced Formula: LiSi\\...</td>\n",
              "      <td>0.205725</td>\n",
              "      <td>1.4682</td>\n",
              "      <td>0.007188</td>\n",
              "      <td>tetragonal</td>\n",
              "      <td>-58.543496</td>\n",
              "      <td>1.0</td>\n",
              "      <td>...</td>\n",
              "      <td>0.002032</td>\n",
              "      <td>0.002409</td>\n",
              "      <td>0.001991</td>\n",
              "      <td>0.001076</td>\n",
              "      <td>0.000506</td>\n",
              "      <td>0.000666</td>\n",
              "      <td>0.001360</td>\n",
              "      <td>0.001956</td>\n",
              "      <td>0.001856</td>\n",
              "      <td>0.001162</td>\n",
              "    </tr>\n",
              "    <tr>\n",
              "      <th>2</th>\n",
              "      <td>mp-29720</td>\n",
              "      <td>Li21Si5</td>\n",
              "      <td>-2.812315</td>\n",
              "      <td>Full Formula (Li84 Si20)\\nReduced Formula: Li2...</td>\n",
              "      <td>0.000000</td>\n",
              "      <td>0.0000</td>\n",
              "      <td>-0.227533</td>\n",
              "      <td>cubic</td>\n",
              "      <td>-292.480749</td>\n",
              "      <td>1.0</td>\n",
              "      <td>...</td>\n",
              "      <td>0.001831</td>\n",
              "      <td>0.001643</td>\n",
              "      <td>0.001513</td>\n",
              "      <td>0.001119</td>\n",
              "      <td>0.001145</td>\n",
              "      <td>0.002367</td>\n",
              "      <td>0.004537</td>\n",
              "      <td>0.005994</td>\n",
              "      <td>0.005207</td>\n",
              "      <td>0.002917</td>\n",
              "    </tr>\n",
              "    <tr>\n",
              "      <th>3</th>\n",
              "      <td>mp-27930</td>\n",
              "      <td>Li7Si2</td>\n",
              "      <td>-2.904238</td>\n",
              "      <td>Full Formula (Li28 Si8)\\nReduced Formula: Li7S...</td>\n",
              "      <td>0.029674</td>\n",
              "      <td>0.0000</td>\n",
              "      <td>-0.214322</td>\n",
              "      <td>orthorhombic</td>\n",
              "      <td>-104.552560</td>\n",
              "      <td>1.0</td>\n",
              "      <td>...</td>\n",
              "      <td>0.003718</td>\n",
              "      <td>0.002883</td>\n",
              "      <td>0.002181</td>\n",
              "      <td>0.001723</td>\n",
              "      <td>0.001791</td>\n",
              "      <td>0.002365</td>\n",
              "      <td>0.002629</td>\n",
              "      <td>0.002154</td>\n",
              "      <td>0.001434</td>\n",
              "      <td>0.000828</td>\n",
              "    </tr>\n",
              "    <tr>\n",
              "      <th>4</th>\n",
              "      <td>mp-672287</td>\n",
              "      <td>Li13Si4</td>\n",
              "      <td>-2.987046</td>\n",
              "      <td>Full Formula (Li26 Si8)\\nReduced Formula: Li13...</td>\n",
              "      <td>0.000000</td>\n",
              "      <td>0.0000</td>\n",
              "      <td>-0.251190</td>\n",
              "      <td>orthorhombic</td>\n",
              "      <td>-101.559573</td>\n",
              "      <td>1.0</td>\n",
              "      <td>...</td>\n",
              "      <td>0.005844</td>\n",
              "      <td>0.004186</td>\n",
              "      <td>0.002611</td>\n",
              "      <td>0.001576</td>\n",
              "      <td>0.001251</td>\n",
              "      <td>0.001141</td>\n",
              "      <td>0.000795</td>\n",
              "      <td>0.000355</td>\n",
              "      <td>0.000096</td>\n",
              "      <td>0.000015</td>\n",
              "    </tr>\n",
              "  </tbody>\n",
              "</table>\n",
              "<p>5 rows × 142 columns</p>\n",
              "</div>\n",
              "    <div class=\"colab-df-buttons\">\n",
              "\n",
              "  <div class=\"colab-df-container\">\n",
              "    <button class=\"colab-df-convert\" onclick=\"convertToInteractive('df-a5e438db-1bfe-4f01-aa6c-af8dc3097726')\"\n",
              "            title=\"Convert this dataframe to an interactive table.\"\n",
              "            style=\"display:none;\">\n",
              "\n",
              "  <svg xmlns=\"http://www.w3.org/2000/svg\" height=\"24px\" viewBox=\"0 -960 960 960\">\n",
              "    <path d=\"M120-120v-720h720v720H120Zm60-500h600v-160H180v160Zm220 220h160v-160H400v160Zm0 220h160v-160H400v160ZM180-400h160v-160H180v160Zm440 0h160v-160H620v160ZM180-180h160v-160H180v160Zm440 0h160v-160H620v160Z\"/>\n",
              "  </svg>\n",
              "    </button>\n",
              "\n",
              "  <style>\n",
              "    .colab-df-container {\n",
              "      display:flex;\n",
              "      gap: 12px;\n",
              "    }\n",
              "\n",
              "    .colab-df-convert {\n",
              "      background-color: #E8F0FE;\n",
              "      border: none;\n",
              "      border-radius: 50%;\n",
              "      cursor: pointer;\n",
              "      display: none;\n",
              "      fill: #1967D2;\n",
              "      height: 32px;\n",
              "      padding: 0 0 0 0;\n",
              "      width: 32px;\n",
              "    }\n",
              "\n",
              "    .colab-df-convert:hover {\n",
              "      background-color: #E2EBFA;\n",
              "      box-shadow: 0px 1px 2px rgba(60, 64, 67, 0.3), 0px 1px 3px 1px rgba(60, 64, 67, 0.15);\n",
              "      fill: #174EA6;\n",
              "    }\n",
              "\n",
              "    .colab-df-buttons div {\n",
              "      margin-bottom: 4px;\n",
              "    }\n",
              "\n",
              "    [theme=dark] .colab-df-convert {\n",
              "      background-color: #3B4455;\n",
              "      fill: #D2E3FC;\n",
              "    }\n",
              "\n",
              "    [theme=dark] .colab-df-convert:hover {\n",
              "      background-color: #434B5C;\n",
              "      box-shadow: 0px 1px 3px 1px rgba(0, 0, 0, 0.15);\n",
              "      filter: drop-shadow(0px 1px 2px rgba(0, 0, 0, 0.3));\n",
              "      fill: #FFFFFF;\n",
              "    }\n",
              "  </style>\n",
              "\n",
              "    <script>\n",
              "      const buttonEl =\n",
              "        document.querySelector('#df-a5e438db-1bfe-4f01-aa6c-af8dc3097726 button.colab-df-convert');\n",
              "      buttonEl.style.display =\n",
              "        google.colab.kernel.accessAllowed ? 'block' : 'none';\n",
              "\n",
              "      async function convertToInteractive(key) {\n",
              "        const element = document.querySelector('#df-a5e438db-1bfe-4f01-aa6c-af8dc3097726');\n",
              "        const dataTable =\n",
              "          await google.colab.kernel.invokeFunction('convertToInteractive',\n",
              "                                                    [key], {});\n",
              "        if (!dataTable) return;\n",
              "\n",
              "        const docLinkHtml = 'Like what you see? Visit the ' +\n",
              "          '<a target=\"_blank\" href=https://colab.research.google.com/notebooks/data_table.ipynb>data table notebook</a>'\n",
              "          + ' to learn more about interactive tables.';\n",
              "        element.innerHTML = '';\n",
              "        dataTable['output_type'] = 'display_data';\n",
              "        await google.colab.output.renderOutput(dataTable, element);\n",
              "        const docLink = document.createElement('div');\n",
              "        docLink.innerHTML = docLinkHtml;\n",
              "        element.appendChild(docLink);\n",
              "      }\n",
              "    </script>\n",
              "  </div>\n",
              "\n",
              "\n",
              "<div id=\"df-670ea087-c6e3-4533-8c72-adc4a02302aa\">\n",
              "  <button class=\"colab-df-quickchart\" onclick=\"quickchart('df-670ea087-c6e3-4533-8c72-adc4a02302aa')\"\n",
              "            title=\"Suggest charts.\"\n",
              "            style=\"display:none;\">\n",
              "\n",
              "<svg xmlns=\"http://www.w3.org/2000/svg\" height=\"24px\"viewBox=\"0 0 24 24\"\n",
              "     width=\"24px\">\n",
              "    <g>\n",
              "        <path d=\"M19 3H5c-1.1 0-2 .9-2 2v14c0 1.1.9 2 2 2h14c1.1 0 2-.9 2-2V5c0-1.1-.9-2-2-2zM9 17H7v-7h2v7zm4 0h-2V7h2v10zm4 0h-2v-4h2v4z\"/>\n",
              "    </g>\n",
              "</svg>\n",
              "  </button>\n",
              "\n",
              "<style>\n",
              "  .colab-df-quickchart {\n",
              "    background-color: #E8F0FE;\n",
              "    border: none;\n",
              "    border-radius: 50%;\n",
              "    cursor: pointer;\n",
              "    display: none;\n",
              "    fill: #1967D2;\n",
              "    height: 32px;\n",
              "    padding: 0 0 0 0;\n",
              "    width: 32px;\n",
              "  }\n",
              "\n",
              "  .colab-df-quickchart:hover {\n",
              "    background-color: #E2EBFA;\n",
              "    box-shadow: 0px 1px 2px rgba(60, 64, 67, 0.3), 0px 1px 3px 1px rgba(60, 64, 67, 0.15);\n",
              "    fill: #174EA6;\n",
              "  }\n",
              "\n",
              "  [theme=dark] .colab-df-quickchart {\n",
              "    background-color: #3B4455;\n",
              "    fill: #D2E3FC;\n",
              "  }\n",
              "\n",
              "  [theme=dark] .colab-df-quickchart:hover {\n",
              "    background-color: #434B5C;\n",
              "    box-shadow: 0px 1px 3px 1px rgba(0, 0, 0, 0.15);\n",
              "    filter: drop-shadow(0px 1px 2px rgba(0, 0, 0, 0.3));\n",
              "    fill: #FFFFFF;\n",
              "  }\n",
              "</style>\n",
              "\n",
              "  <script>\n",
              "    async function quickchart(key) {\n",
              "      const charts = await google.colab.kernel.invokeFunction(\n",
              "          'suggestCharts', [key], {});\n",
              "    }\n",
              "    (() => {\n",
              "      let quickchartButtonEl =\n",
              "        document.querySelector('#df-670ea087-c6e3-4533-8c72-adc4a02302aa button');\n",
              "      quickchartButtonEl.style.display =\n",
              "        google.colab.kernel.accessAllowed ? 'block' : 'none';\n",
              "    })();\n",
              "  </script>\n",
              "</div>\n",
              "    </div>\n",
              "  </div>\n"
            ]
          },
          "metadata": {},
          "execution_count": 8
        }
      ]
    },
    {
      "cell_type": "code",
      "source": [
        "X_train=df.iloc[:,14:]\n",
        "X_train\n",
        "y_train=df['crystal_system']\n",
        "y_train"
      ],
      "metadata": {
        "colab": {
          "base_uri": "https://localhost:8080/"
        },
        "id": "_AUJnH24gPgb",
        "outputId": "040d25a3-6881-4c45-d307-f54073fe3a58"
      },
      "execution_count": 9,
      "outputs": [
        {
          "output_type": "execute_result",
          "data": {
            "text/plain": [
              "0          trigonal\n",
              "1        tetragonal\n",
              "2             cubic\n",
              "3      orthorhombic\n",
              "4      orthorhombic\n",
              "           ...     \n",
              "740        trigonal\n",
              "741        trigonal\n",
              "742       triclinic\n",
              "743           cubic\n",
              "744        trigonal\n",
              "Name: crystal_system, Length: 745, dtype: object"
            ]
          },
          "metadata": {},
          "execution_count": 9
        }
      ]
    },
    {
      "cell_type": "code",
      "source": [
        "X_train, X_test, y_train, y_test = train_test_split(X_train, y_train, test_size=0.2, random_state=42)"
      ],
      "metadata": {
        "id": "yPeGVrcChcLP"
      },
      "execution_count": 10,
      "outputs": []
    },
    {
      "cell_type": "code",
      "execution_count": 11,
      "metadata": {
        "id": "a6866421"
      },
      "outputs": [],
      "source": [
        "from sklearn.preprocessing import StandardScaler\n",
        "\n",
        "# create a scaler object\n",
        "scaler = StandardScaler()\n",
        "\n",
        "# fit scaler on the training data\n",
        "scaler.fit(X_train)\n",
        "\n",
        "# apply the scaler to both the training and test data\n",
        "X_train_normalized = scaler.transform(X_train)\n",
        "\n",
        "X_test_normalized = scaler.transform(X_test)"
      ]
    },
    {
      "cell_type": "markdown",
      "source": [
        "Grid Search CV"
      ],
      "metadata": {
        "id": "2J5lW7nFDOJV"
      }
    },
    {
      "cell_type": "code",
      "execution_count": 31,
      "metadata": {
        "colab": {
          "base_uri": "https://localhost:8080/"
        },
        "id": "68175c46",
        "outputId": "a026c582-2263-44f2-db61-53944b69629f"
      },
      "outputs": [
        {
          "output_type": "stream",
          "name": "stdout",
          "text": [
            "Mean Accuracy:  0.705514005602241\n"
          ]
        }
      ],
      "source": [
        "model = svm.SVC(C= 10,kernel='rbf',gamma=0.02)\n",
        "from sklearn.model_selection import KFold, cross_val_score\n",
        "\n",
        "# Use 10-fold cross validation (90% training, 10% test)\n",
        "\n",
        "cv = RepeatedKFold(n_splits=5, n_repeats=10, random_state=1)\n",
        "# compute cross validation scores for random forest model\n",
        "scores = cross_val_score(model,X_train_normalized, y_train, scoring= 'accuracy',\n",
        "                         cv=cv, n_jobs=-1)\n",
        "mean_accuracy = scores.mean()\n",
        "print(\"Mean Accuracy: \", mean_accuracy)"
      ]
    },
    {
      "cell_type": "code",
      "source": [
        "model.fit(X_train_normalized, y_train)\n",
        "pred = model.predict(X_train_normalized)\n",
        "training_accuracy= accuracy_score(y_train,pred)\n",
        "print(\"Accuracy on Training data: \",training_accuracy)\n",
        "pred = model.predict(X_test_normalized)\n",
        "test_accuracy= accuracy_score(y_test,pred)\n",
        "print(\"Accuracy on Test data: \",test_accuracy)"
      ],
      "metadata": {
        "colab": {
          "base_uri": "https://localhost:8080/"
        },
        "id": "7ECMGH94AcV0",
        "outputId": "0bcd6462-7171-4c6d-ef99-7292749b05a3"
      },
      "execution_count": 33,
      "outputs": [
        {
          "output_type": "stream",
          "name": "stdout",
          "text": [
            "Accuracy on Training data:  1.0\n",
            "Accuracy on Test data:  0.7046979865771812\n"
          ]
        }
      ]
    },
    {
      "cell_type": "code",
      "source": [
        "Xrd_grid_crystal= model.predict(X_test_normalized)\n",
        "Xrd_grid_crystal"
      ],
      "metadata": {
        "colab": {
          "base_uri": "https://localhost:8080/"
        },
        "id": "p3frcArcDl0D",
        "outputId": "6ba65bec-6ea6-4d4f-94fa-fe0dfa882387"
      },
      "execution_count": 34,
      "outputs": [
        {
          "output_type": "execute_result",
          "data": {
            "text/plain": [
              "array(['triclinic', 'triclinic', 'triclinic', 'triclinic', 'triclinic',\n",
              "       'triclinic', 'triclinic', 'triclinic', 'triclinic', 'triclinic',\n",
              "       'triclinic', 'triclinic', 'triclinic', 'triclinic', 'triclinic',\n",
              "       'triclinic', 'triclinic', 'monoclinic', 'monoclinic', 'monoclinic',\n",
              "       'monoclinic', 'triclinic', 'triclinic', 'monoclinic', 'triclinic',\n",
              "       'triclinic', 'triclinic', 'monoclinic', 'triclinic', 'monoclinic',\n",
              "       'triclinic', 'monoclinic', 'triclinic', 'monoclinic', 'triclinic',\n",
              "       'monoclinic', 'monoclinic', 'monoclinic', 'triclinic', 'triclinic',\n",
              "       'triclinic', 'triclinic', 'triclinic', 'triclinic', 'triclinic',\n",
              "       'triclinic', 'triclinic', 'triclinic', 'monoclinic', 'monoclinic',\n",
              "       'triclinic', 'triclinic', 'triclinic', 'monoclinic', 'triclinic',\n",
              "       'monoclinic', 'triclinic', 'monoclinic', 'triclinic', 'triclinic',\n",
              "       'hexagonal', 'triclinic', 'triclinic', 'triclinic', 'triclinic',\n",
              "       'triclinic', 'monoclinic', 'triclinic', 'monoclinic', 'triclinic',\n",
              "       'monoclinic', 'monoclinic', 'triclinic', 'triclinic', 'monoclinic',\n",
              "       'triclinic', 'triclinic', 'triclinic', 'triclinic', 'triclinic',\n",
              "       'triclinic', 'triclinic', 'triclinic', 'triclinic', 'triclinic',\n",
              "       'monoclinic', 'triclinic', 'triclinic', 'monoclinic', 'monoclinic',\n",
              "       'triclinic', 'triclinic', 'monoclinic', 'triclinic', 'monoclinic',\n",
              "       'triclinic', 'triclinic', 'triclinic', 'triclinic', 'cubic',\n",
              "       'orthorhombic', 'triclinic', 'orthorhombic', 'triclinic',\n",
              "       'monoclinic', 'monoclinic', 'monoclinic', 'monoclinic', 'trigonal',\n",
              "       'triclinic', 'triclinic', 'triclinic', 'triclinic', 'triclinic',\n",
              "       'monoclinic', 'triclinic', 'monoclinic', 'monoclinic',\n",
              "       'monoclinic', 'triclinic', 'monoclinic', 'triclinic', 'triclinic',\n",
              "       'monoclinic', 'monoclinic', 'monoclinic', 'triclinic', 'triclinic',\n",
              "       'triclinic', 'triclinic', 'monoclinic', 'triclinic', 'monoclinic',\n",
              "       'triclinic', 'triclinic', 'triclinic', 'triclinic', 'monoclinic',\n",
              "       'triclinic', 'triclinic', 'triclinic', 'triclinic', 'monoclinic',\n",
              "       'monoclinic', 'triclinic', 'monoclinic', 'monoclinic', 'triclinic',\n",
              "       'monoclinic'], dtype=object)"
            ]
          },
          "metadata": {},
          "execution_count": 34
        }
      ]
    },
    {
      "cell_type": "markdown",
      "source": [
        "Bayes Search CV\n"
      ],
      "metadata": {
        "id": "s7jFYT24DTwL"
      }
    },
    {
      "cell_type": "code",
      "source": [],
      "metadata": {
        "id": "3foAzWKEEM63"
      },
      "execution_count": null,
      "outputs": []
    },
    {
      "cell_type": "code",
      "execution_count": 35,
      "metadata": {
        "colab": {
          "base_uri": "https://localhost:8080/"
        },
        "id": "ed2d35f4",
        "outputId": "2900e7fb-354c-49a0-dd7d-9ad566042365"
      },
      "outputs": [
        {
          "output_type": "stream",
          "name": "stdout",
          "text": [
            "0.725827731092437\n",
            "OrderedDict([('C', 3.5749220255218814), ('gamma', 0.004451548954670224), ('kernel', 'rbf')])\n"
          ]
        }
      ],
      "source": [
        "from sklearn.preprocessing import StandardScaler\n",
        "# create a scaler object\n",
        "scaler = StandardScaler()\n",
        "\n",
        "# fit scaler on the training data\n",
        "scaler.fit(X_train)\n",
        "\n",
        "# apply the scaler to both the training and test data\n",
        "X_train_normalized = scaler.transform(X_train)\n",
        "\n",
        "X_test_normalized = scaler.transform(X_test)\n",
        "params = dict()\n",
        "params['C'] = (1e-6, 600.0, 'log-uniform')\n",
        "params['gamma'] = (1e-6, 100.0, 'log-uniform')\n",
        "params['kernel'] = ['rbf']\n",
        "# define evaluation\n",
        "cv = RepeatedKFold(n_splits=5, n_repeats=10, random_state=1)\n",
        "# define the search\n",
        "search = BayesSearchCV(estimator=svm.SVC(), search_spaces=params, n_jobs=-1, cv=cv)\n",
        "# perform the search\n",
        "search.fit(X_train_normalized, y_train)\n",
        "# report the best result\n",
        "print(search.best_score_)\n",
        "print(search.best_params_)"
      ]
    },
    {
      "cell_type": "code",
      "source": [
        "model = svm.SVC(C= 3.5749220255218814,kernel='rbf',gamma= 0.004451548954670224)\n",
        "from sklearn.model_selection import KFold, cross_val_score\n",
        "\n",
        "# Use 10-fold cross validation (90% training, 10% test)\n",
        "\n",
        "cv = RepeatedKFold(n_splits=5, n_repeats=10, random_state=1)\n",
        "# compute cross validation scores for random forest model\n",
        "scores = cross_val_score(model,X_train_normalized, y_train, scoring= 'accuracy',\n",
        "                         cv=cv, n_jobs=-1)\n",
        "mean_accuracy = scores.mean()\n",
        "print(\"Mean Accuracy: \", mean_accuracy)\n"
      ],
      "metadata": {
        "colab": {
          "base_uri": "https://localhost:8080/"
        },
        "id": "Llnrg_jjFqxL",
        "outputId": "8606ad2f-6992-4946-b46e-840565f72e23"
      },
      "execution_count": 37,
      "outputs": [
        {
          "output_type": "stream",
          "name": "stdout",
          "text": [
            "Mean Accuracy:  0.725827731092437\n"
          ]
        }
      ]
    },
    {
      "cell_type": "code",
      "source": [
        "model.fit(X_train_normalized, y_train)\n",
        "pred = model.predict(X_train_normalized)\n",
        "training_accuracy= accuracy_score(y_train,pred)\n",
        "print(\"Accuracy on Training data: \",training_accuracy)\n",
        "pred = model.predict(X_test_normalized)\n",
        "test_accuracy= accuracy_score(y_test,pred)\n",
        "print(\"Accuracy on Test data: \",test_accuracy)"
      ],
      "metadata": {
        "colab": {
          "base_uri": "https://localhost:8080/"
        },
        "id": "YzSWAW61Hb36",
        "outputId": "ca99b0b4-3f99-40f8-f6a4-acfd98d27144"
      },
      "execution_count": 38,
      "outputs": [
        {
          "output_type": "stream",
          "name": "stdout",
          "text": [
            "Accuracy on Training data:  0.9362416107382551\n",
            "Accuracy on Test data:  0.7449664429530202\n"
          ]
        }
      ]
    }
  ]
}