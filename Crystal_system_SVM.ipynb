{
  "nbformat": 4,
  "nbformat_minor": 0,
  "metadata": {
    "colab": {
      "provenance": [],
      "authorship_tag": "ABX9TyMt0Xs2GhAvKYt3rsnCcydS",
      "include_colab_link": true
    },
    "kernelspec": {
      "name": "python3",
      "display_name": "Python 3"
    },
    "language_info": {
      "name": "python"
    }
  },
  "cells": [
    {
      "cell_type": "markdown",
      "metadata": {
        "id": "view-in-github",
        "colab_type": "text"
      },
      "source": [
        "<a href=\"https://colab.research.google.com/github/TuragDev/ML-Python-Codes/blob/main/Crystal_system_SVM.ipynb\" target=\"_parent\"><img src=\"https://colab.research.google.com/assets/colab-badge.svg\" alt=\"Open In Colab\"/></a>"
      ]
    },
    {
      "cell_type": "code",
      "execution_count": 4,
      "metadata": {
        "id": "pswgzCDsKWMa",
        "colab": {
          "base_uri": "https://localhost:8080/",
          "height": 246
        },
        "outputId": "ca9c000d-b0a4-4ebe-b06a-35ca48ec7e8a"
      },
      "outputs": [
        {
          "output_type": "display_data",
          "data": {
            "text/plain": [
              "<IPython.core.display.HTML object>"
            ],
            "text/html": [
              "\n",
              "     <input type=\"file\" id=\"files-18bf32ba-2953-4e7e-a59a-b9ab4f945c3e\" name=\"files[]\" multiple disabled\n",
              "        style=\"border:none\" />\n",
              "     <output id=\"result-18bf32ba-2953-4e7e-a59a-b9ab4f945c3e\">\n",
              "      Upload widget is only available when the cell has been executed in the\n",
              "      current browser session. Please rerun this cell to enable.\n",
              "      </output>\n",
              "      <script>// Copyright 2017 Google LLC\n",
              "//\n",
              "// Licensed under the Apache License, Version 2.0 (the \"License\");\n",
              "// you may not use this file except in compliance with the License.\n",
              "// You may obtain a copy of the License at\n",
              "//\n",
              "//      http://www.apache.org/licenses/LICENSE-2.0\n",
              "//\n",
              "// Unless required by applicable law or agreed to in writing, software\n",
              "// distributed under the License is distributed on an \"AS IS\" BASIS,\n",
              "// WITHOUT WARRANTIES OR CONDITIONS OF ANY KIND, either express or implied.\n",
              "// See the License for the specific language governing permissions and\n",
              "// limitations under the License.\n",
              "\n",
              "/**\n",
              " * @fileoverview Helpers for google.colab Python module.\n",
              " */\n",
              "(function(scope) {\n",
              "function span(text, styleAttributes = {}) {\n",
              "  const element = document.createElement('span');\n",
              "  element.textContent = text;\n",
              "  for (const key of Object.keys(styleAttributes)) {\n",
              "    element.style[key] = styleAttributes[key];\n",
              "  }\n",
              "  return element;\n",
              "}\n",
              "\n",
              "// Max number of bytes which will be uploaded at a time.\n",
              "const MAX_PAYLOAD_SIZE = 100 * 1024;\n",
              "\n",
              "function _uploadFiles(inputId, outputId) {\n",
              "  const steps = uploadFilesStep(inputId, outputId);\n",
              "  const outputElement = document.getElementById(outputId);\n",
              "  // Cache steps on the outputElement to make it available for the next call\n",
              "  // to uploadFilesContinue from Python.\n",
              "  outputElement.steps = steps;\n",
              "\n",
              "  return _uploadFilesContinue(outputId);\n",
              "}\n",
              "\n",
              "// This is roughly an async generator (not supported in the browser yet),\n",
              "// where there are multiple asynchronous steps and the Python side is going\n",
              "// to poll for completion of each step.\n",
              "// This uses a Promise to block the python side on completion of each step,\n",
              "// then passes the result of the previous step as the input to the next step.\n",
              "function _uploadFilesContinue(outputId) {\n",
              "  const outputElement = document.getElementById(outputId);\n",
              "  const steps = outputElement.steps;\n",
              "\n",
              "  const next = steps.next(outputElement.lastPromiseValue);\n",
              "  return Promise.resolve(next.value.promise).then((value) => {\n",
              "    // Cache the last promise value to make it available to the next\n",
              "    // step of the generator.\n",
              "    outputElement.lastPromiseValue = value;\n",
              "    return next.value.response;\n",
              "  });\n",
              "}\n",
              "\n",
              "/**\n",
              " * Generator function which is called between each async step of the upload\n",
              " * process.\n",
              " * @param {string} inputId Element ID of the input file picker element.\n",
              " * @param {string} outputId Element ID of the output display.\n",
              " * @return {!Iterable<!Object>} Iterable of next steps.\n",
              " */\n",
              "function* uploadFilesStep(inputId, outputId) {\n",
              "  const inputElement = document.getElementById(inputId);\n",
              "  inputElement.disabled = false;\n",
              "\n",
              "  const outputElement = document.getElementById(outputId);\n",
              "  outputElement.innerHTML = '';\n",
              "\n",
              "  const pickedPromise = new Promise((resolve) => {\n",
              "    inputElement.addEventListener('change', (e) => {\n",
              "      resolve(e.target.files);\n",
              "    });\n",
              "  });\n",
              "\n",
              "  const cancel = document.createElement('button');\n",
              "  inputElement.parentElement.appendChild(cancel);\n",
              "  cancel.textContent = 'Cancel upload';\n",
              "  const cancelPromise = new Promise((resolve) => {\n",
              "    cancel.onclick = () => {\n",
              "      resolve(null);\n",
              "    };\n",
              "  });\n",
              "\n",
              "  // Wait for the user to pick the files.\n",
              "  const files = yield {\n",
              "    promise: Promise.race([pickedPromise, cancelPromise]),\n",
              "    response: {\n",
              "      action: 'starting',\n",
              "    }\n",
              "  };\n",
              "\n",
              "  cancel.remove();\n",
              "\n",
              "  // Disable the input element since further picks are not allowed.\n",
              "  inputElement.disabled = true;\n",
              "\n",
              "  if (!files) {\n",
              "    return {\n",
              "      response: {\n",
              "        action: 'complete',\n",
              "      }\n",
              "    };\n",
              "  }\n",
              "\n",
              "  for (const file of files) {\n",
              "    const li = document.createElement('li');\n",
              "    li.append(span(file.name, {fontWeight: 'bold'}));\n",
              "    li.append(span(\n",
              "        `(${file.type || 'n/a'}) - ${file.size} bytes, ` +\n",
              "        `last modified: ${\n",
              "            file.lastModifiedDate ? file.lastModifiedDate.toLocaleDateString() :\n",
              "                                    'n/a'} - `));\n",
              "    const percent = span('0% done');\n",
              "    li.appendChild(percent);\n",
              "\n",
              "    outputElement.appendChild(li);\n",
              "\n",
              "    const fileDataPromise = new Promise((resolve) => {\n",
              "      const reader = new FileReader();\n",
              "      reader.onload = (e) => {\n",
              "        resolve(e.target.result);\n",
              "      };\n",
              "      reader.readAsArrayBuffer(file);\n",
              "    });\n",
              "    // Wait for the data to be ready.\n",
              "    let fileData = yield {\n",
              "      promise: fileDataPromise,\n",
              "      response: {\n",
              "        action: 'continue',\n",
              "      }\n",
              "    };\n",
              "\n",
              "    // Use a chunked sending to avoid message size limits. See b/62115660.\n",
              "    let position = 0;\n",
              "    do {\n",
              "      const length = Math.min(fileData.byteLength - position, MAX_PAYLOAD_SIZE);\n",
              "      const chunk = new Uint8Array(fileData, position, length);\n",
              "      position += length;\n",
              "\n",
              "      const base64 = btoa(String.fromCharCode.apply(null, chunk));\n",
              "      yield {\n",
              "        response: {\n",
              "          action: 'append',\n",
              "          file: file.name,\n",
              "          data: base64,\n",
              "        },\n",
              "      };\n",
              "\n",
              "      let percentDone = fileData.byteLength === 0 ?\n",
              "          100 :\n",
              "          Math.round((position / fileData.byteLength) * 100);\n",
              "      percent.textContent = `${percentDone}% done`;\n",
              "\n",
              "    } while (position < fileData.byteLength);\n",
              "  }\n",
              "\n",
              "  // All done.\n",
              "  yield {\n",
              "    response: {\n",
              "      action: 'complete',\n",
              "    }\n",
              "  };\n",
              "}\n",
              "\n",
              "scope.google = scope.google || {};\n",
              "scope.google.colab = scope.google.colab || {};\n",
              "scope.google.colab._files = {\n",
              "  _uploadFiles,\n",
              "  _uploadFilesContinue,\n",
              "};\n",
              "})(self);\n",
              "</script> "
            ]
          },
          "metadata": {}
        },
        {
          "output_type": "stream",
          "name": "stdout",
          "text": [
            "Saving Orbital_mp_test.csv to Orbital_mp_test (2).csv\n",
            "Saving orbital_MP_train.csv to orbital_MP_train.csv\n",
            "Saving sine_mp_test.csv to sine_mp_test.csv\n",
            "Saving Sine_MP_train.csv to Sine_MP_train (1).csv\n",
            "Saving Xrd_MP_train.csv to Xrd_MP_train (1).csv\n",
            "Saving xrd_test_mp.csv to xrd_test_mp.csv\n"
          ]
        }
      ],
      "source": [
        "from google.colab import files\n",
        "uploaded= files.upload()"
      ]
    },
    {
      "cell_type": "code",
      "execution_count": 7,
      "metadata": {
        "id": "68261b12"
      },
      "outputs": [],
      "source": [
        "import joblib\n",
        "from sklearn.model_selection import train_test_split\n",
        "import numpy as np\n",
        "\n",
        "import pandas as pd\n",
        "\n",
        "from sklearn.model_selection import GridSearchCV, RepeatedKFold\n",
        "from sklearn.model_selection import train_test_split\n",
        "from sklearn.metrics import mean_squared_error as MSE\n",
        "from sklearn.preprocessing import StandardScaler\n",
        "from sklearn.metrics import mean_squared_error, r2_score\n",
        "\n",
        "from sklearn.model_selection import train_test_split\n",
        "\n",
        "import numpy as np\n",
        "\n",
        "import pickle\n",
        "import pandas as pd\n",
        "from sklearn.preprocessing import LabelEncoder\n",
        "\n",
        "import sys\n",
        "# In[3]:\n",
        "\n",
        "\n",
        "from sklearn import svm\n",
        "from sklearn.model_selection import GridSearchCV\n",
        "\n",
        "\n",
        "from numpy import mean\n",
        "from numpy import std\n",
        "from sklearn.datasets import make_classification\n",
        "from sklearn.model_selection import KFold\n",
        "from sklearn.model_selection import GridSearchCV\n",
        "from sklearn.ensemble import RandomForestClassifier\n",
        "from sklearn.metrics import accuracy_score\n",
        "import matplotlib.pyplot as plt\n",
        "from pandas import read_csv\n",
        "from sklearn.model_selection import cross_val_score\n",
        "from sklearn.svm import SVC\n",
        "from sklearn.model_selection import RepeatedStratifiedKFold\n",
        "from skopt import BayesSearchCV\n"
      ]
    },
    {
      "cell_type": "code",
      "source": [
        "!pip install scikit-optimize"
      ],
      "metadata": {
        "colab": {
          "base_uri": "https://localhost:8080/"
        },
        "id": "GdBqoU499GGX",
        "outputId": "f867f74d-e6c2-4507-a3dd-7404d778d1ab"
      },
      "execution_count": 6,
      "outputs": [
        {
          "output_type": "stream",
          "name": "stdout",
          "text": [
            "Collecting scikit-optimize\n",
            "  Downloading scikit_optimize-0.9.0-py2.py3-none-any.whl (100 kB)\n",
            "\u001b[2K     \u001b[90m━━━━━━━━━━━━━━━━━━━━━━━━━━━━━━━━━━━━━━━\u001b[0m \u001b[32m100.3/100.3 kB\u001b[0m \u001b[31m2.1 MB/s\u001b[0m eta \u001b[36m0:00:00\u001b[0m\n",
            "\u001b[?25hRequirement already satisfied: joblib>=0.11 in /usr/local/lib/python3.10/dist-packages (from scikit-optimize) (1.3.2)\n",
            "Collecting pyaml>=16.9 (from scikit-optimize)\n",
            "  Downloading pyaml-23.7.0-py3-none-any.whl (17 kB)\n",
            "Requirement already satisfied: numpy>=1.13.3 in /usr/local/lib/python3.10/dist-packages (from scikit-optimize) (1.23.5)\n",
            "Requirement already satisfied: scipy>=0.19.1 in /usr/local/lib/python3.10/dist-packages (from scikit-optimize) (1.10.1)\n",
            "Requirement already satisfied: scikit-learn>=0.20.0 in /usr/local/lib/python3.10/dist-packages (from scikit-optimize) (1.2.2)\n",
            "Requirement already satisfied: PyYAML in /usr/local/lib/python3.10/dist-packages (from pyaml>=16.9->scikit-optimize) (6.0.1)\n",
            "Requirement already satisfied: threadpoolctl>=2.0.0 in /usr/local/lib/python3.10/dist-packages (from scikit-learn>=0.20.0->scikit-optimize) (3.2.0)\n",
            "Installing collected packages: pyaml, scikit-optimize\n",
            "Successfully installed pyaml-23.7.0 scikit-optimize-0.9.0\n"
          ]
        }
      ]
    },
    {
      "cell_type": "code",
      "source": [
        "df1= pd.read_csv('Xrd_MP_train.csv')\n",
        "df1.shape"
      ],
      "metadata": {
        "colab": {
          "base_uri": "https://localhost:8080/"
        },
        "id": "8fAe7jNTVg9w",
        "outputId": "63dc17b4-8571-43c8-cbea-10cc1d6a507c"
      },
      "execution_count": 67,
      "outputs": [
        {
          "output_type": "execute_result",
          "data": {
            "text/plain": [
              "(730, 142)"
            ]
          },
          "metadata": {},
          "execution_count": 67
        }
      ]
    },
    {
      "cell_type": "code",
      "source": [
        "df2= pd.read_csv('xrd_test_mp.csv')\n",
        "df2.shape"
      ],
      "metadata": {
        "colab": {
          "base_uri": "https://localhost:8080/"
        },
        "id": "MRGmcdKZfKt1",
        "outputId": "eac39484-aa09-413a-c5c3-86706e2bfe2c"
      },
      "execution_count": 68,
      "outputs": [
        {
          "output_type": "execute_result",
          "data": {
            "text/plain": [
              "(15, 142)"
            ]
          },
          "metadata": {},
          "execution_count": 68
        }
      ]
    },
    {
      "cell_type": "code",
      "source": [
        "df=pd.concat([df1,df2],ignore_index=True)"
      ],
      "metadata": {
        "id": "uszraQfdfkep"
      },
      "execution_count": 69,
      "outputs": []
    },
    {
      "cell_type": "code",
      "source": [
        "X=df.iloc[:,14:]\n",
        "Y=df['crystal_system']\n",
        "X_train, X_test, y_train, y_test = train_test_split(X,Y, test_size=0.2, random_state=108)"
      ],
      "metadata": {
        "id": "Ur5GfB4wfuN2"
      },
      "execution_count": 70,
      "outputs": []
    },
    {
      "cell_type": "code",
      "execution_count": 71,
      "metadata": {
        "id": "a6866421"
      },
      "outputs": [],
      "source": [
        "from sklearn.preprocessing import StandardScaler\n",
        "\n",
        "# create a scaler object\n",
        "scaler = StandardScaler()\n",
        "\n",
        "# fit scaler on the training data\n",
        "scaler.fit(X_train)\n",
        "\n",
        "# apply the scaler to both the training and test data\n",
        "X_train_normalized = scaler.transform(X_train)\n",
        "\n",
        "X_test_normalized = scaler.transform(X_test)"
      ]
    },
    {
      "cell_type": "markdown",
      "source": [
        "Bayes Search CV\n"
      ],
      "metadata": {
        "id": "s7jFYT24DTwL"
      }
    },
    {
      "cell_type": "code",
      "execution_count": 72,
      "metadata": {
        "colab": {
          "base_uri": "https://localhost:8080/"
        },
        "id": "ed2d35f4",
        "outputId": "43af45e9-361e-4e60-ceef-2e34fe5b03fb"
      },
      "outputs": [
        {
          "output_type": "stream",
          "name": "stdout",
          "text": [
            "0.7347380952380951\n",
            "OrderedDict([('C', 600.0), ('gamma', 0.005719146503723123), ('kernel', 'rbf')])\n"
          ]
        }
      ],
      "source": [
        "from sklearn.preprocessing import StandardScaler\n",
        "# create a scaler object\n",
        "scaler = StandardScaler()\n",
        "\n",
        "# fit scaler on the training data\n",
        "scaler.fit(X_train)\n",
        "\n",
        "# apply the scaler to both the training and test data\n",
        "X_train_normalized = scaler.transform(X_train)\n",
        "\n",
        "X_test_normalized = scaler.transform(X_test)\n",
        "params = dict()\n",
        "params['C'] = (1e-6, 600.0, 'log-uniform')\n",
        "params['gamma'] = (1e-6, 100.0, 'log-uniform')\n",
        "params['kernel'] = ['rbf']\n",
        "# define evaluation\n",
        "cv = RepeatedKFold(n_splits=5, n_repeats=10, random_state=1)\n",
        "# define the search\n",
        "search = BayesSearchCV(estimator=svm.SVC(), search_spaces=params, n_jobs=-1, cv=cv)\n",
        "# perform the search\n",
        "search.fit(X_train_normalized, y_train)\n",
        "# report the best result\n",
        "print(search.best_score_)\n",
        "print(search.best_params_)"
      ]
    },
    {
      "cell_type": "code",
      "source": [
        "model = svm.SVC(C= 600.0,kernel='rbf',gamma=0.005719146503723123)\n",
        "from sklearn.model_selection import KFold, cross_val_score\n",
        "\n",
        "# Use 10-fold cross validation (90% training, 10% test)\n",
        "\n",
        "cv = RepeatedKFold(n_splits=5, n_repeats=10, random_state=1)\n",
        "# compute cross validation scores for random forest model\n",
        "scores = cross_val_score(model,X_train_normalized, y_train, scoring= 'accuracy',\n",
        "                         cv=cv, n_jobs=-1)\n",
        "mean_accuracy = scores.mean()\n",
        "print(\"Mean Accuracy: \", mean_accuracy)\n"
      ],
      "metadata": {
        "colab": {
          "base_uri": "https://localhost:8080/"
        },
        "id": "Llnrg_jjFqxL",
        "outputId": "c5d81f6e-3dd2-436c-b287-843018124298"
      },
      "execution_count": 73,
      "outputs": [
        {
          "output_type": "stream",
          "name": "stdout",
          "text": [
            "Mean Accuracy:  0.7347380952380951\n"
          ]
        }
      ]
    },
    {
      "cell_type": "code",
      "source": [
        "model.fit(X_train_normalized, y_train)\n",
        "pred = model.predict(X_train_normalized)\n",
        "training_accuracy= accuracy_score(y_train,pred)\n",
        "print(\"Accuracy on Training data: \",training_accuracy)\n",
        "pred = model.predict(X_test_normalized)\n",
        "test_accuracy= accuracy_score(y_test,pred)\n",
        "print(\"Accuracy on Test data: \",test_accuracy)\n",
        "xrd_Bayes_crystal = model.predict(X_test_normalized)\n",
        "xrd_Bayes_crystal"
      ],
      "metadata": {
        "colab": {
          "base_uri": "https://localhost:8080/"
        },
        "id": "YzSWAW61Hb36",
        "outputId": "28feb321-8309-40fa-d51a-b7b9f8937500"
      },
      "execution_count": 74,
      "outputs": [
        {
          "output_type": "stream",
          "name": "stdout",
          "text": [
            "Accuracy on Training data:  1.0\n",
            "Accuracy on Test data:  0.6241610738255033\n"
          ]
        },
        {
          "output_type": "execute_result",
          "data": {
            "text/plain": [
              "array(['trigonal', 'triclinic', 'cubic', 'triclinic', 'triclinic',\n",
              "       'triclinic', 'triclinic', 'triclinic', 'triclinic', 'triclinic',\n",
              "       'cubic', 'monoclinic', 'triclinic', 'triclinic', 'triclinic',\n",
              "       'monoclinic', 'cubic', 'triclinic', 'triclinic', 'triclinic',\n",
              "       'triclinic', 'triclinic', 'triclinic', 'triclinic', 'triclinic',\n",
              "       'triclinic', 'triclinic', 'triclinic', 'monoclinic', 'monoclinic',\n",
              "       'cubic', 'triclinic', 'triclinic', 'monoclinic', 'triclinic',\n",
              "       'triclinic', 'triclinic', 'triclinic', 'monoclinic', 'triclinic',\n",
              "       'triclinic', 'monoclinic', 'monoclinic', 'triclinic', 'triclinic',\n",
              "       'triclinic', 'triclinic', 'triclinic', 'cubic', 'triclinic',\n",
              "       'monoclinic', 'triclinic', 'cubic', 'triclinic', 'cubic',\n",
              "       'triclinic', 'triclinic', 'triclinic', 'monoclinic',\n",
              "       'orthorhombic', 'monoclinic', 'triclinic', 'monoclinic', 'cubic',\n",
              "       'monoclinic', 'triclinic', 'monoclinic', 'monoclinic', 'triclinic',\n",
              "       'monoclinic', 'monoclinic', 'monoclinic', 'triclinic',\n",
              "       'monoclinic', 'cubic', 'triclinic', 'monoclinic', 'triclinic',\n",
              "       'triclinic', 'monoclinic', 'monoclinic', 'cubic', 'triclinic',\n",
              "       'triclinic', 'triclinic', 'triclinic', 'triclinic', 'orthorhombic',\n",
              "       'monoclinic', 'triclinic', 'triclinic', 'triclinic', 'triclinic',\n",
              "       'monoclinic', 'cubic', 'triclinic', 'triclinic', 'cubic',\n",
              "       'monoclinic', 'triclinic', 'triclinic', 'triclinic', 'triclinic',\n",
              "       'triclinic', 'monoclinic', 'triclinic', 'triclinic', 'triclinic',\n",
              "       'monoclinic', 'monoclinic', 'triclinic', 'triclinic', 'monoclinic',\n",
              "       'orthorhombic', 'triclinic', 'triclinic', 'monoclinic',\n",
              "       'monoclinic', 'monoclinic', 'triclinic', 'triclinic', 'monoclinic',\n",
              "       'monoclinic', 'monoclinic', 'monoclinic', 'monoclinic',\n",
              "       'triclinic', 'triclinic', 'triclinic', 'triclinic', 'triclinic',\n",
              "       'monoclinic', 'orthorhombic', 'triclinic', 'triclinic',\n",
              "       'monoclinic', 'triclinic', 'triclinic', 'triclinic', 'cubic',\n",
              "       'triclinic', 'cubic', 'triclinic', 'triclinic', 'cubic',\n",
              "       'triclinic', 'triclinic', 'monoclinic', 'cubic'], dtype=object)"
            ]
          },
          "metadata": {},
          "execution_count": 74
        }
      ]
    },
    {
      "cell_type": "markdown",
      "source": [
        "SCM descriptor"
      ],
      "metadata": {
        "id": "3Zs3jZOY9Xmw"
      }
    },
    {
      "cell_type": "code",
      "source": [
        "df1= pd.read_csv('Sine_MP_train.csv')\n",
        "df1.shape"
      ],
      "metadata": {
        "colab": {
          "base_uri": "https://localhost:8080/"
        },
        "id": "bjWKkRi09FSL",
        "outputId": "edf524cc-933e-4325-8221-294f6e9332d5"
      },
      "execution_count": 60,
      "outputs": [
        {
          "output_type": "execute_result",
          "data": {
            "text/plain": [
              "(730, 166)"
            ]
          },
          "metadata": {},
          "execution_count": 60
        }
      ]
    },
    {
      "cell_type": "code",
      "source": [
        "df2= pd.read_csv('sine_mp_test.csv')\n",
        "df2.shape"
      ],
      "metadata": {
        "colab": {
          "base_uri": "https://localhost:8080/"
        },
        "id": "ZwCXZbp8WHUh",
        "outputId": "e44b3d2d-cbea-4edc-c0a2-d21d29a35c6e"
      },
      "execution_count": 59,
      "outputs": [
        {
          "output_type": "execute_result",
          "data": {
            "text/plain": [
              "(15, 166)"
            ]
          },
          "metadata": {},
          "execution_count": 59
        }
      ]
    },
    {
      "cell_type": "code",
      "source": [
        "df=pd.concat([df1,df2],ignore_index=True)\n",
        "df.shape"
      ],
      "metadata": {
        "colab": {
          "base_uri": "https://localhost:8080/"
        },
        "id": "fR5XS__wXPpv",
        "outputId": "cde1a3b5-bba1-46b9-b96b-e1e8634e073f"
      },
      "execution_count": 58,
      "outputs": [
        {
          "output_type": "execute_result",
          "data": {
            "text/plain": [
              "(745, 166)"
            ]
          },
          "metadata": {},
          "execution_count": 58
        }
      ]
    },
    {
      "cell_type": "code",
      "source": [
        "X=df.iloc[:,14:]\n",
        "Y=df['crystal_system']\n",
        "Y"
      ],
      "metadata": {
        "colab": {
          "base_uri": "https://localhost:8080/"
        },
        "id": "Ce6PBXprZxx2",
        "outputId": "cc5fbeb6-1610-44bd-8015-889f97494439"
      },
      "execution_count": 61,
      "outputs": [
        {
          "output_type": "execute_result",
          "data": {
            "text/plain": [
              "0          trigonal\n",
              "1        tetragonal\n",
              "2             cubic\n",
              "3      orthorhombic\n",
              "4      orthorhombic\n",
              "           ...     \n",
              "740        trigonal\n",
              "741       hexagonal\n",
              "742        trigonal\n",
              "743           cubic\n",
              "744      monoclinic\n",
              "Name: crystal_system, Length: 745, dtype: object"
            ]
          },
          "metadata": {},
          "execution_count": 61
        }
      ]
    },
    {
      "cell_type": "code",
      "source": [
        "X_train, X_test, y_train, y_test = train_test_split(X,Y, test_size=0.2, random_state=108)"
      ],
      "metadata": {
        "id": "T69e6mUJb850"
      },
      "execution_count": 62,
      "outputs": []
    },
    {
      "cell_type": "code",
      "execution_count": 63,
      "metadata": {
        "id": "d889qrMkDUga"
      },
      "outputs": [],
      "source": [
        "from sklearn.preprocessing import StandardScaler\n",
        "\n",
        "# create a scaler object\n",
        "scaler = StandardScaler()\n",
        "\n",
        "# fit scaler on the training data\n",
        "scaler.fit(X_train)\n",
        "\n",
        "# apply the scaler to both the training and test data\n",
        "X_train_normalized = scaler.transform(X_train)\n",
        "\n",
        "X_test_normalized = scaler.transform(X_test)"
      ]
    },
    {
      "cell_type": "markdown",
      "source": [
        "Bayes Search CV"
      ],
      "metadata": {
        "id": "f3hyt2r2DfI8"
      }
    },
    {
      "cell_type": "code",
      "execution_count": 64,
      "metadata": {
        "colab": {
          "base_uri": "https://localhost:8080/"
        },
        "outputId": "718487e3-31c9-462f-f34e-b8cf067742bb",
        "id": "vSGi8JU8Dm6w"
      },
      "outputs": [
        {
          "output_type": "stream",
          "name": "stdout",
          "text": [
            "0.7203067226890757\n",
            "OrderedDict([('C', 600.0), ('gamma', 0.01576496214397023), ('kernel', 'rbf')])\n"
          ]
        }
      ],
      "source": [
        "from sklearn.preprocessing import StandardScaler\n",
        "# create a scaler object\n",
        "scaler = StandardScaler()\n",
        "\n",
        "# fit scaler on the training data\n",
        "scaler.fit(X_train)\n",
        "\n",
        "# apply the scaler to both the training and test data\n",
        "X_train_normalized = scaler.transform(X_train)\n",
        "\n",
        "X_test_normalized = scaler.transform(X_test)\n",
        "params = dict()\n",
        "params['C'] = (1e-6, 600.0, 'log-uniform')\n",
        "params['gamma'] = (1e-6, 100.0, 'log-uniform')\n",
        "params['kernel'] = ['rbf']\n",
        "# define evaluation\n",
        "cv = RepeatedKFold(n_splits=5, n_repeats=10, random_state=1)\n",
        "# define the search\n",
        "search = BayesSearchCV(estimator=svm.SVC(), search_spaces=params, n_jobs=-1, cv=cv)\n",
        "# perform the search\n",
        "search.fit(X_train_normalized, y_train)\n",
        "# report the best result\n",
        "print(search.best_score_)\n",
        "print(search.best_params_)"
      ]
    },
    {
      "cell_type": "code",
      "source": [
        "model = svm.SVC(C= 600.0,kernel='rbf',gamma=0.01576496214397023)\n",
        "from sklearn.model_selection import KFold, cross_val_score\n",
        "\n",
        "# Use 10-fold cross validation (90% training, 10% test)\n",
        "\n",
        "cv = RepeatedKFold(n_splits=5, n_repeats=10, random_state=1)\n",
        "# compute cross validation scores for random forest model\n",
        "scores = cross_val_score(model,X_train_normalized, y_train, scoring= 'accuracy',\n",
        "                         cv=cv, n_jobs=-1)\n",
        "mean_accuracy = scores.mean()\n",
        "print(\"Mean Accuracy: \", mean_accuracy)\n"
      ],
      "metadata": {
        "colab": {
          "base_uri": "https://localhost:8080/"
        },
        "outputId": "e71ffdbd-44d7-4216-e03a-8ed56b208af9",
        "id": "6iOM_0VBGEla"
      },
      "execution_count": 65,
      "outputs": [
        {
          "output_type": "stream",
          "name": "stdout",
          "text": [
            "Mean Accuracy:  0.7203067226890757\n"
          ]
        }
      ]
    },
    {
      "cell_type": "code",
      "source": [
        "model.fit(X_train_normalized, y_train)\n",
        "pred = model.predict(X_train_normalized)\n",
        "training_accuracy= accuracy_score(y_train,pred)\n",
        "print(\"Accuracy on Training data: \",training_accuracy)\n",
        "pred = model.predict(X_test_normalized)\n",
        "test_accuracy= accuracy_score(y_test,pred)\n",
        "print(\"Accuracy on Test data: \",test_accuracy)\n",
        "Sine_mp_Bayes_crystal = model.predict(X_test_normalized)\n",
        "Sine_mp_Bayes_crystal"
      ],
      "metadata": {
        "colab": {
          "base_uri": "https://localhost:8080/"
        },
        "outputId": "5cc5b231-9eb6-45c7-a46d-4cf691f13d49",
        "id": "Sw9EUdKMGcJP"
      },
      "execution_count": 66,
      "outputs": [
        {
          "output_type": "stream",
          "name": "stdout",
          "text": [
            "Accuracy on Training data:  0.8708053691275168\n",
            "Accuracy on Test data:  0.6644295302013423\n"
          ]
        },
        {
          "output_type": "execute_result",
          "data": {
            "text/plain": [
              "array(['cubic', 'triclinic', 'orthorhombic', 'orthorhombic', 'hexagonal',\n",
              "       'triclinic', 'triclinic', 'cubic', 'triclinic', 'triclinic',\n",
              "       'trigonal', 'triclinic', 'triclinic', 'triclinic', 'triclinic',\n",
              "       'triclinic', 'trigonal', 'monoclinic', 'monoclinic', 'triclinic',\n",
              "       'monoclinic', 'triclinic', 'orthorhombic', 'monoclinic',\n",
              "       'monoclinic', 'triclinic', 'triclinic', 'triclinic', 'triclinic',\n",
              "       'monoclinic', 'cubic', 'triclinic', 'triclinic', 'monoclinic',\n",
              "       'triclinic', 'monoclinic', 'triclinic', 'monoclinic', 'triclinic',\n",
              "       'triclinic', 'triclinic', 'triclinic', 'triclinic', 'triclinic',\n",
              "       'triclinic', 'monoclinic', 'triclinic', 'triclinic', 'cubic',\n",
              "       'triclinic', 'monoclinic', 'triclinic', 'orthorhombic',\n",
              "       'triclinic', 'orthorhombic', 'triclinic', 'triclinic',\n",
              "       'monoclinic', 'monoclinic', 'tetragonal', 'monoclinic',\n",
              "       'triclinic', 'triclinic', 'cubic', 'monoclinic', 'triclinic',\n",
              "       'trigonal', 'triclinic', 'triclinic', 'triclinic', 'triclinic',\n",
              "       'monoclinic', 'triclinic', 'cubic', 'hexagonal', 'triclinic',\n",
              "       'monoclinic', 'triclinic', 'triclinic', 'monoclinic', 'monoclinic',\n",
              "       'orthorhombic', 'triclinic', 'triclinic', 'triclinic', 'triclinic',\n",
              "       'monoclinic', 'orthorhombic', 'monoclinic', 'triclinic',\n",
              "       'triclinic', 'monoclinic', 'triclinic', 'triclinic', 'cubic',\n",
              "       'triclinic', 'monoclinic', 'cubic', 'monoclinic', 'triclinic',\n",
              "       'triclinic', 'triclinic', 'triclinic', 'triclinic', 'monoclinic',\n",
              "       'triclinic', 'triclinic', 'cubic', 'monoclinic', 'monoclinic',\n",
              "       'triclinic', 'triclinic', 'triclinic', 'orthorhombic', 'triclinic',\n",
              "       'monoclinic', 'triclinic', 'monoclinic', 'triclinic', 'monoclinic',\n",
              "       'triclinic', 'triclinic', 'triclinic', 'triclinic', 'triclinic',\n",
              "       'triclinic', 'triclinic', 'cubic', 'triclinic', 'triclinic',\n",
              "       'triclinic', 'monoclinic', 'orthorhombic', 'triclinic',\n",
              "       'triclinic', 'triclinic', 'triclinic', 'monoclinic', 'triclinic',\n",
              "       'monoclinic', 'triclinic', 'orthorhombic', 'triclinic',\n",
              "       'triclinic', 'cubic', 'triclinic', 'triclinic', 'triclinic',\n",
              "       'orthorhombic'], dtype=object)"
            ]
          },
          "metadata": {},
          "execution_count": 66
        }
      ]
    },
    {
      "cell_type": "markdown",
      "source": [
        "OFM Descriptor"
      ],
      "metadata": {
        "id": "zyw4zKdNHww-"
      }
    },
    {
      "cell_type": "code",
      "source": [
        "df1= pd.read_csv('orbital_MP_train.csv')\n",
        "df1.shape"
      ],
      "metadata": {
        "colab": {
          "base_uri": "https://localhost:8080/"
        },
        "id": "2JKuZQuXH7h6",
        "outputId": "d3a6bd0a-7564-42d2-eabd-d0931cb86744"
      },
      "execution_count": 75,
      "outputs": [
        {
          "output_type": "execute_result",
          "data": {
            "text/plain": [
              "(730, 1038)"
            ]
          },
          "metadata": {},
          "execution_count": 75
        }
      ]
    },
    {
      "cell_type": "code",
      "source": [
        "df2= pd.read_csv('Orbital_mp_test.csv')\n",
        "df2.shape"
      ],
      "metadata": {
        "colab": {
          "base_uri": "https://localhost:8080/"
        },
        "id": "YuyT-EG3LRC6",
        "outputId": "24933260-b223-4721-cd72-b9e1d724e87a"
      },
      "execution_count": 77,
      "outputs": [
        {
          "output_type": "execute_result",
          "data": {
            "text/plain": [
              "(14, 1038)"
            ]
          },
          "metadata": {},
          "execution_count": 77
        }
      ]
    },
    {
      "cell_type": "code",
      "source": [
        "df=pd.concat([df1,df2],ignore_index=True)"
      ],
      "metadata": {
        "id": "CWam73MnhuT7"
      },
      "execution_count": 78,
      "outputs": []
    },
    {
      "cell_type": "code",
      "source": [
        "X=df.iloc[:,14:]\n",
        "Y=df['crystal_system']\n",
        "X_train, X_test, y_train, y_test = train_test_split(X,Y, test_size=0.2, random_state=108)"
      ],
      "metadata": {
        "id": "FEjxwqIah653"
      },
      "execution_count": 79,
      "outputs": []
    },
    {
      "cell_type": "code",
      "execution_count": 81,
      "metadata": {
        "id": "gl3q2oEHMul2"
      },
      "outputs": [],
      "source": [
        "from sklearn.preprocessing import StandardScaler\n",
        "\n",
        "# create a scaler object\n",
        "scaler = StandardScaler()\n",
        "\n",
        "# fit scaler on the training data\n",
        "scaler.fit(X_train)\n",
        "\n",
        "# apply the scaler to both the training and test data\n",
        "X_train_normalized = scaler.transform(X_train)\n",
        "\n",
        "X_test_normalized = scaler.transform(X_test)"
      ]
    },
    {
      "cell_type": "markdown",
      "source": [
        "Bayes Search CV"
      ],
      "metadata": {
        "id": "iOSWK6ryM5YP"
      }
    },
    {
      "cell_type": "code",
      "execution_count": 82,
      "metadata": {
        "colab": {
          "base_uri": "https://localhost:8080/"
        },
        "outputId": "9d2f3371-7ecc-47f8-a3d0-db1f53c0e101",
        "id": "FzQ9-GaVNEUh"
      },
      "outputs": [
        {
          "output_type": "stream",
          "name": "stdout",
          "text": [
            "0.6739495798319326\n",
            "OrderedDict([('C', 600.0), ('gamma', 0.07194640573389813), ('kernel', 'rbf')])\n"
          ]
        }
      ],
      "source": [
        "from sklearn.preprocessing import StandardScaler\n",
        "# create a scaler object\n",
        "scaler = StandardScaler()\n",
        "\n",
        "# fit scaler on the training data\n",
        "scaler.fit(X_train)\n",
        "\n",
        "# apply the scaler to both the training and test data\n",
        "X_train_normalized = scaler.transform(X_train)\n",
        "\n",
        "X_test_normalized = scaler.transform(X_test)\n",
        "params = dict()\n",
        "params['C'] = (1e-6, 600.0, 'log-uniform')\n",
        "params['gamma'] = (1e-6, 100.0, 'log-uniform')\n",
        "params['kernel'] = ['rbf']\n",
        "# define evaluation\n",
        "cv = RepeatedKFold(n_splits=5, n_repeats=10, random_state=1)\n",
        "# define the search\n",
        "search = BayesSearchCV(estimator=svm.SVC(), search_spaces=params, n_jobs=-1, cv=cv)\n",
        "# perform the search\n",
        "search.fit(X_train_normalized, y_train)\n",
        "# report the best result\n",
        "print(search.best_score_)\n",
        "print(search.best_params_)"
      ]
    },
    {
      "cell_type": "code",
      "source": [
        "model = svm.SVC(C=  600.0,kernel='rbf',gamma= 0.07194640573389813)\n",
        "from sklearn.model_selection import KFold, cross_val_score\n",
        "\n",
        "# Use 10-fold cross validation (90% training, 10% test)\n",
        "\n",
        "cv = RepeatedKFold(n_splits=5, n_repeats=10, random_state=1)\n",
        "# compute cross validation scores for random forest model\n",
        "scores = cross_val_score(model,X_train_normalized, y_train, scoring= 'accuracy',\n",
        "                         cv=cv, n_jobs=-1)\n",
        "mean_accuracy = scores.mean()\n",
        "print(\"Mean Accuracy: \", mean_accuracy)\n"
      ],
      "metadata": {
        "colab": {
          "base_uri": "https://localhost:8080/"
        },
        "outputId": "09dac88f-38ec-4c8f-91f3-67add69813ed",
        "id": "L-LnAm1UPVzx"
      },
      "execution_count": 83,
      "outputs": [
        {
          "output_type": "stream",
          "name": "stdout",
          "text": [
            "Mean Accuracy:  0.6739495798319326\n"
          ]
        }
      ]
    },
    {
      "cell_type": "code",
      "source": [
        "model.fit(X_train_normalized, y_train)\n",
        "pred = model.predict(X_train_normalized)\n",
        "training_accuracy= accuracy_score(y_train,pred)\n",
        "print(\"Accuracy on Training data: \",training_accuracy)\n",
        "pred = model.predict(X_test_normalized)\n",
        "test_accuracy= accuracy_score(y_test,pred)\n",
        "print(\"Accuracy on Test data: \",test_accuracy)\n",
        "OFM_Bayes_crystal = model.predict(X_test_normalized)\n",
        "OFM_Bayes_crystal"
      ],
      "metadata": {
        "colab": {
          "base_uri": "https://localhost:8080/"
        },
        "id": "caEWr6M3Pbj6",
        "outputId": "4141022a-7a3d-4d55-c8be-b08eb4ecd584"
      },
      "execution_count": 84,
      "outputs": [
        {
          "output_type": "stream",
          "name": "stdout",
          "text": [
            "Accuracy on Training data:  0.7630252100840336\n",
            "Accuracy on Test data:  0.7513440860215054\n"
          ]
        },
        {
          "output_type": "execute_result",
          "data": {
            "text/plain": [
              "array(['cubic', 'monoclinic', 'cubic', 'orthorhombic', 'orthorhombic',\n",
              "       'cubic', 'orthorhombic', 'tetragonal', 'tetragonal', 'cubic',\n",
              "       'cubic', 'trigonal', 'hexagonal', 'orthorhombic', 'cubic', 'cubic',\n",
              "       'cubic', 'cubic', 'cubic', 'monoclinic', 'monoclinic', 'triclinic',\n",
              "       'triclinic', 'triclinic', 'monoclinic', 'triclinic', 'triclinic',\n",
              "       'triclinic', 'triclinic', 'triclinic', 'triclinic', 'triclinic',\n",
              "       'triclinic', 'triclinic', 'triclinic', 'triclinic', 'triclinic',\n",
              "       'monoclinic', 'triclinic', 'triclinic', 'monoclinic', 'triclinic',\n",
              "       'triclinic', 'triclinic', 'triclinic', 'triclinic', 'triclinic',\n",
              "       'triclinic', 'triclinic', 'triclinic', 'triclinic', 'triclinic',\n",
              "       'triclinic', 'triclinic', 'triclinic', 'monoclinic', 'triclinic',\n",
              "       'triclinic', 'monoclinic', 'triclinic', 'monoclinic', 'triclinic',\n",
              "       'triclinic', 'triclinic', 'triclinic', 'triclinic', 'triclinic',\n",
              "       'monoclinic', 'triclinic', 'triclinic', 'triclinic', 'triclinic',\n",
              "       'triclinic', 'trigonal', 'triclinic', 'monoclinic', 'triclinic',\n",
              "       'triclinic', 'triclinic', 'triclinic', 'monoclinic', 'triclinic',\n",
              "       'triclinic', 'triclinic', 'triclinic', 'triclinic', 'triclinic',\n",
              "       'triclinic', 'triclinic', 'monoclinic', 'triclinic', 'triclinic',\n",
              "       'triclinic', 'triclinic', 'triclinic', 'monoclinic', 'triclinic',\n",
              "       'monoclinic', 'triclinic', 'triclinic', 'triclinic', 'monoclinic',\n",
              "       'triclinic', 'triclinic', 'triclinic', 'monoclinic', 'triclinic',\n",
              "       'triclinic', 'triclinic', 'triclinic', 'triclinic', 'triclinic',\n",
              "       'triclinic', 'monoclinic', 'triclinic', 'monoclinic', 'triclinic',\n",
              "       'triclinic', 'monoclinic', 'monoclinic', 'triclinic', 'triclinic',\n",
              "       'monoclinic', 'monoclinic', 'monoclinic', 'triclinic', 'triclinic',\n",
              "       'triclinic', 'triclinic', 'monoclinic', 'triclinic', 'triclinic',\n",
              "       'triclinic', 'triclinic', 'triclinic', 'triclinic', 'triclinic',\n",
              "       'triclinic', 'monoclinic', 'triclinic', 'triclinic', 'triclinic',\n",
              "       'triclinic', 'triclinic', 'tetragonal', 'triclinic', 'triclinic',\n",
              "       'triclinic', 'triclinic', 'triclinic', 'triclinic', 'triclinic',\n",
              "       'triclinic', 'triclinic', 'triclinic', 'triclinic', 'monoclinic',\n",
              "       'triclinic', 'triclinic', 'triclinic', 'triclinic', 'triclinic',\n",
              "       'triclinic', 'monoclinic', 'triclinic', 'triclinic', 'triclinic',\n",
              "       'triclinic', 'triclinic', 'triclinic', 'triclinic', 'triclinic',\n",
              "       'triclinic', 'triclinic', 'triclinic', 'triclinic', 'triclinic',\n",
              "       'triclinic', 'triclinic', 'triclinic', 'triclinic', 'triclinic',\n",
              "       'triclinic', 'triclinic', 'triclinic', 'triclinic', 'triclinic',\n",
              "       'triclinic', 'triclinic', 'triclinic', 'triclinic', 'trigonal',\n",
              "       'triclinic', 'triclinic', 'triclinic', 'triclinic', 'triclinic',\n",
              "       'triclinic', 'triclinic', 'triclinic', 'triclinic', 'triclinic',\n",
              "       'triclinic', 'triclinic', 'triclinic', 'triclinic', 'monoclinic',\n",
              "       'monoclinic', 'monoclinic', 'triclinic', 'triclinic', 'monoclinic',\n",
              "       'triclinic', 'monoclinic', 'triclinic', 'triclinic', 'triclinic',\n",
              "       'monoclinic', 'monoclinic', 'monoclinic', 'monoclinic',\n",
              "       'monoclinic', 'triclinic', 'triclinic', 'monoclinic', 'monoclinic',\n",
              "       'triclinic', 'monoclinic', 'triclinic', 'triclinic', 'triclinic',\n",
              "       'triclinic', 'triclinic', 'triclinic', 'triclinic', 'triclinic',\n",
              "       'triclinic', 'triclinic', 'triclinic', 'triclinic', 'triclinic',\n",
              "       'triclinic', 'triclinic', 'triclinic', 'triclinic', 'triclinic',\n",
              "       'triclinic', 'triclinic', 'triclinic', 'triclinic', 'triclinic',\n",
              "       'triclinic', 'triclinic', 'triclinic', 'triclinic', 'trigonal',\n",
              "       'triclinic', 'triclinic', 'triclinic', 'triclinic', 'triclinic',\n",
              "       'triclinic', 'triclinic', 'triclinic', 'triclinic', 'triclinic',\n",
              "       'triclinic', 'triclinic', 'triclinic', 'triclinic', 'triclinic',\n",
              "       'triclinic', 'triclinic', 'triclinic', 'triclinic', 'triclinic',\n",
              "       'triclinic', 'triclinic', 'triclinic', 'triclinic', 'triclinic',\n",
              "       'triclinic', 'triclinic', 'triclinic', 'triclinic', 'triclinic',\n",
              "       'triclinic', 'triclinic', 'monoclinic', 'triclinic', 'triclinic',\n",
              "       'triclinic', 'triclinic', 'triclinic', 'triclinic', 'triclinic',\n",
              "       'triclinic', 'triclinic', 'triclinic', 'orthorhombic', 'triclinic',\n",
              "       'monoclinic', 'orthorhombic', 'triclinic', 'triclinic',\n",
              "       'triclinic', 'triclinic', 'triclinic', 'triclinic', 'triclinic',\n",
              "       'triclinic', 'triclinic', 'triclinic', 'triclinic', 'triclinic',\n",
              "       'triclinic', 'triclinic', 'triclinic', 'triclinic', 'triclinic',\n",
              "       'triclinic', 'triclinic', 'triclinic', 'triclinic', 'triclinic',\n",
              "       'triclinic', 'triclinic', 'triclinic', 'triclinic', 'triclinic',\n",
              "       'triclinic', 'monoclinic', 'triclinic', 'triclinic', 'triclinic',\n",
              "       'triclinic', 'triclinic', 'triclinic', 'triclinic', 'triclinic',\n",
              "       'triclinic', 'triclinic', 'triclinic', 'triclinic', 'triclinic',\n",
              "       'triclinic', 'monoclinic', 'triclinic', 'triclinic', 'monoclinic',\n",
              "       'triclinic', 'triclinic', 'triclinic', 'triclinic', 'triclinic',\n",
              "       'triclinic', 'triclinic', 'triclinic', 'triclinic', 'triclinic',\n",
              "       'monoclinic', 'triclinic', 'triclinic', 'triclinic', 'triclinic',\n",
              "       'triclinic', 'triclinic', 'triclinic', 'triclinic', 'monoclinic',\n",
              "       'triclinic', 'triclinic', 'triclinic', 'triclinic', 'triclinic',\n",
              "       'monoclinic', 'triclinic', 'triclinic', 'triclinic', 'triclinic',\n",
              "       'triclinic', 'triclinic', 'triclinic', 'triclinic', 'triclinic',\n",
              "       'triclinic', 'triclinic', 'triclinic', 'triclinic', 'triclinic',\n",
              "       'triclinic', 'monoclinic', 'triclinic', 'triclinic', 'triclinic',\n",
              "       'triclinic', 'monoclinic', 'triclinic', 'triclinic', 'triclinic',\n",
              "       'triclinic', 'triclinic', 'triclinic', 'triclinic', 'triclinic',\n",
              "       'triclinic', 'triclinic', 'triclinic', 'monoclinic', 'monoclinic',\n",
              "       'monoclinic', 'triclinic', 'triclinic', 'triclinic', 'monoclinic',\n",
              "       'triclinic', 'triclinic', 'triclinic', 'monoclinic', 'triclinic',\n",
              "       'triclinic', 'monoclinic', 'triclinic', 'triclinic', 'triclinic',\n",
              "       'monoclinic', 'monoclinic', 'monoclinic', 'triclinic', 'triclinic',\n",
              "       'triclinic', 'triclinic', 'monoclinic', 'triclinic', 'triclinic',\n",
              "       'triclinic', 'triclinic', 'triclinic', 'triclinic', 'triclinic',\n",
              "       'triclinic', 'triclinic', 'triclinic', 'triclinic', 'triclinic',\n",
              "       'triclinic', 'triclinic', 'triclinic', 'triclinic', 'triclinic',\n",
              "       'triclinic', 'triclinic', 'triclinic', 'triclinic', 'triclinic',\n",
              "       'triclinic', 'triclinic', 'triclinic', 'triclinic', 'triclinic',\n",
              "       'triclinic', 'triclinic', 'triclinic', 'triclinic', 'triclinic',\n",
              "       'triclinic', 'triclinic', 'triclinic', 'triclinic', 'triclinic',\n",
              "       'triclinic', 'triclinic', 'triclinic', 'triclinic', 'triclinic',\n",
              "       'monoclinic', 'monoclinic', 'triclinic', 'triclinic', 'triclinic',\n",
              "       'triclinic', 'monoclinic', 'triclinic', 'triclinic', 'triclinic',\n",
              "       'triclinic', 'monoclinic', 'monoclinic', 'monoclinic',\n",
              "       'monoclinic', 'triclinic', 'monoclinic', 'monoclinic', 'triclinic',\n",
              "       'triclinic', 'triclinic', 'triclinic', 'triclinic', 'triclinic',\n",
              "       'triclinic', 'orthorhombic', 'hexagonal', 'hexagonal', 'triclinic',\n",
              "       'triclinic', 'triclinic', 'monoclinic', 'triclinic', 'triclinic',\n",
              "       'triclinic', 'triclinic', 'tetragonal', 'triclinic', 'triclinic',\n",
              "       'monoclinic', 'monoclinic', 'monoclinic', 'monoclinic', 'cubic',\n",
              "       'orthorhombic', 'triclinic', 'monoclinic', 'triclinic',\n",
              "       'triclinic', 'triclinic', 'triclinic', 'triclinic', 'triclinic',\n",
              "       'triclinic', 'triclinic', 'monoclinic', 'triclinic', 'monoclinic',\n",
              "       'monoclinic', 'monoclinic', 'monoclinic', 'trigonal', 'monoclinic',\n",
              "       'triclinic', 'triclinic', 'triclinic', 'triclinic', 'triclinic',\n",
              "       'triclinic', 'triclinic', 'triclinic', 'triclinic', 'monoclinic',\n",
              "       'triclinic', 'monoclinic', 'triclinic', 'triclinic', 'triclinic',\n",
              "       'triclinic', 'monoclinic', 'monoclinic', 'monoclinic', 'triclinic',\n",
              "       'triclinic', 'triclinic', 'triclinic', 'triclinic', 'triclinic',\n",
              "       'triclinic', 'triclinic', 'triclinic', 'triclinic', 'triclinic',\n",
              "       'triclinic', 'triclinic', 'triclinic', 'triclinic', 'triclinic',\n",
              "       'triclinic', 'triclinic', 'triclinic', 'triclinic', 'triclinic',\n",
              "       'triclinic', 'triclinic', 'triclinic', 'triclinic', 'triclinic',\n",
              "       'monoclinic', 'monoclinic', 'monoclinic', 'monoclinic',\n",
              "       'triclinic', 'triclinic', 'monoclinic', 'triclinic', 'triclinic',\n",
              "       'triclinic', 'triclinic', 'triclinic', 'triclinic', 'triclinic',\n",
              "       'triclinic', 'triclinic', 'triclinic', 'triclinic', 'triclinic',\n",
              "       'triclinic', 'triclinic', 'triclinic', 'triclinic', 'triclinic',\n",
              "       'triclinic', 'triclinic', 'triclinic', 'triclinic', 'triclinic',\n",
              "       'triclinic', 'triclinic', 'triclinic', 'triclinic', 'triclinic',\n",
              "       'triclinic', 'triclinic', 'triclinic', 'triclinic', 'triclinic',\n",
              "       'triclinic', 'triclinic', 'triclinic', 'triclinic', 'triclinic',\n",
              "       'triclinic', 'triclinic', 'triclinic', 'triclinic', 'triclinic',\n",
              "       'monoclinic', 'triclinic', 'triclinic', 'triclinic', 'triclinic',\n",
              "       'triclinic', 'triclinic', 'triclinic', 'monoclinic', 'triclinic',\n",
              "       'monoclinic', 'triclinic', 'triclinic', 'triclinic', 'triclinic',\n",
              "       'triclinic', 'monoclinic', 'triclinic', 'triclinic', 'triclinic',\n",
              "       'triclinic', 'triclinic', 'triclinic', 'triclinic', 'triclinic',\n",
              "       'triclinic', 'triclinic', 'triclinic', 'triclinic', 'triclinic',\n",
              "       'triclinic', 'triclinic', 'triclinic', 'triclinic', 'triclinic',\n",
              "       'monoclinic', 'triclinic', 'orthorhombic', 'triclinic',\n",
              "       'triclinic', 'triclinic', 'triclinic', 'trigonal', 'monoclinic',\n",
              "       'trigonal', 'monoclinic', 'cubic', 'orthorhombic', 'monoclinic',\n",
              "       'triclinic', 'triclinic', 'trigonal', 'monoclinic', 'monoclinic',\n",
              "       'trigonal', 'triclinic', 'orthorhombic', 'trigonal', 'trigonal',\n",
              "       'cubic', 'triclinic', 'cubic', 'cubic', 'triclinic', 'cubic',\n",
              "       'orthorhombic', 'cubic', 'cubic', 'orthorhombic', 'hexagonal',\n",
              "       'trigonal', 'hexagonal', 'cubic', 'triclinic', 'cubic',\n",
              "       'triclinic', 'triclinic', 'cubic', 'cubic', 'cubic', 'cubic',\n",
              "       'cubic', 'cubic', 'orthorhombic', 'triclinic', 'tetragonal',\n",
              "       'triclinic', 'orthorhombic', 'hexagonal', 'triclinic', 'triclinic',\n",
              "       'cubic', 'hexagonal', 'cubic', 'cubic', 'cubic', 'triclinic',\n",
              "       'cubic', 'cubic', 'monoclinic', 'cubic', 'monoclinic', 'trigonal',\n",
              "       'orthorhombic', 'cubic', 'hexagonal', 'trigonal', 'cubic',\n",
              "       'monoclinic', 'cubic', 'cubic', 'trigonal'], dtype=object)"
            ]
          },
          "metadata": {},
          "execution_count": 84
        }
      ]
    },
    {
      "cell_type": "markdown",
      "source": [],
      "metadata": {
        "id": "kPcy_QzRHU6c"
      }
    }
  ]
}